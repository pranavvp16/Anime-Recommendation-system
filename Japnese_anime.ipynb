{
  "nbformat": 4,
  "nbformat_minor": 0,
  "metadata": {
    "colab": {
      "provenance": [],
      "collapsed_sections": [],
      "authorship_tag": "ABX9TyNwxEG549Z4WWmiMOIkV041",
      "include_colab_link": true
    },
    "kernelspec": {
      "name": "python3",
      "display_name": "Python 3"
    },
    "language_info": {
      "name": "python"
    }
  },
  "cells": [
    {
      "cell_type": "markdown",
      "metadata": {
        "id": "view-in-github",
        "colab_type": "text"
      },
      "source": [
        "<a href=\"https://colab.research.google.com/github/pranavvp16/Anime-Recommendation-system/blob/main/Japnese_anime.ipynb\" target=\"_parent\"><img src=\"https://colab.research.google.com/assets/colab-badge.svg\" alt=\"Open In Colab\"/></a>"
      ]
    },
    {
      "cell_type": "code",
      "execution_count": null,
      "metadata": {
        "id": "DVobujd7WmWf"
      },
      "outputs": [],
      "source": [
        "import numpy as np\n",
        "import pandas as pd "
      ]
    },
    {
      "cell_type": "code",
      "source": [
        "from google.colab import drive\n",
        "drive.mount('/content/drive')"
      ],
      "metadata": {
        "colab": {
          "base_uri": "https://localhost:8080/"
        },
        "id": "3Oqd49_2Wumn",
        "outputId": "9446f515-7b2a-4208-d05b-296e068b4c82"
      },
      "execution_count": null,
      "outputs": [
        {
          "output_type": "stream",
          "name": "stdout",
          "text": [
            "Mounted at /content/drive\n"
          ]
        }
      ]
    },
    {
      "cell_type": "code",
      "source": [
        "data_frame = pd.read_csv(\"drive/MyDrive/animeflv.csv\")"
      ],
      "metadata": {
        "id": "PDxnTII6W3C1"
      },
      "execution_count": null,
      "outputs": []
    },
    {
      "cell_type": "code",
      "source": [
        "data_frame.info()"
      ],
      "metadata": {
        "colab": {
          "base_uri": "https://localhost:8080/"
        },
        "id": "1evjYJV8YKKP",
        "outputId": "0813b2a7-4adf-4632-e2ef-92e82f3aeb8a"
      },
      "execution_count": null,
      "outputs": [
        {
          "output_type": "stream",
          "name": "stdout",
          "text": [
            "<class 'pandas.core.frame.DataFrame'>\n",
            "RangeIndex: 3409 entries, 0 to 3408\n",
            "Data columns (total 12 columns):\n",
            " #   Column       Non-Null Count  Dtype  \n",
            "---  ------       --------------  -----  \n",
            " 0   title        3409 non-null   object \n",
            " 1   description  3189 non-null   object \n",
            " 2   year         3409 non-null   int64  \n",
            " 3   type         3409 non-null   object \n",
            " 4   rate_start   3409 non-null   float64\n",
            " 5   votes        3409 non-null   int64  \n",
            " 6   status       3409 non-null   object \n",
            " 7   followers    3409 non-null   int64  \n",
            " 8   episodes     3409 non-null   int64  \n",
            " 9   genders      3403 non-null   object \n",
            " 10  url_anime    3409 non-null   object \n",
            " 11  image        3409 non-null   object \n",
            "dtypes: float64(1), int64(4), object(7)\n",
            "memory usage: 319.7+ KB\n"
          ]
        }
      ]
    },
    {
      "cell_type": "code",
      "source": [
        "tans=data_frame['description'][0]"
      ],
      "metadata": {
        "id": "QuuHHMtLYE7y"
      },
      "execution_count": null,
      "outputs": []
    },
    {
      "cell_type": "code",
      "source": [
        "\n",
        "data_frame.dropna(inplace=True)"
      ],
      "metadata": {
        "id": "UoM8q_UZdxfw"
      },
      "execution_count": null,
      "outputs": []
    },
    {
      "cell_type": "code",
      "source": [
        "data_frame['description'].head()"
      ],
      "metadata": {
        "colab": {
          "base_uri": "https://localhost:8080/"
        },
        "id": "wyRqJMJEfIZi",
        "outputId": "7283c475-22e9-4d6e-c933-16c6bd47dc0e"
      },
      "execution_count": null,
      "outputs": [
        {
          "output_type": "execute_result",
          "data": {
            "text/plain": [
              "1    Una banda de desértores del ejército de Freeze...\n",
              "2    La historia se centra de alrededor de un joven...\n",
              "3    La revolución industrial ha terminado y el mun...\n",
              "4    La situación empieza con el doctor Uir?, quien...\n",
              "5    Dos Historias separadas. En la primera titulad...\n",
              "Name: description, dtype: object"
            ]
          },
          "metadata": {},
          "execution_count": 7
        }
      ]
    },
    {
      "cell_type": "code",
      "source": [
        "pip install googletrans==3.1.0a0"
      ],
      "metadata": {
        "id": "1bTWOtbqblBD"
      },
      "execution_count": null,
      "outputs": []
    },
    {
      "cell_type": "code",
      "source": [
        "import googletrans\n",
        "translator = googletrans.Translator()\n",
        "df1 = data_frame['description'].apply(translator.translate, src='es', dest='en').apply(getattr, args=('text',))\n",
        "print(df1)"
      ],
      "metadata": {
        "id": "Ir6jFc7sel-9",
        "colab": {
          "base_uri": "https://localhost:8080/"
        },
        "outputId": "793b65f2-403f-4b7f-9cad-27f5797bbf7b"
      },
      "execution_count": null,
      "outputs": [
        {
          "output_type": "stream",
          "name": "stdout",
          "text": [
            "1       A band of deserters from Frieza's army led by ...\n",
            "2       The story centers around a young man named Par...\n",
            "3       The industrial revolution is over and the worl...\n",
            "4       The situation begins with Dr. Uir?, who is rev...\n",
            "5       Two separate stories. In the first titled \"Wha...\n",
            "                              ...                        \n",
            "3404    Once, the land of Togenkyo was a peaceful land...\n",
            "3405    Seiko Fuji graduated from police college and n...\n",
            "3406    At age 10, best friends Musashi and Kojiro sat...\n",
            "3407    The story is set on an artificial island known...\n",
            "3408    Due to a terrible accident, Keina Kagami is fo...\n",
            "Name: description, Length: 3183, dtype: object\n"
          ]
        }
      ]
    },
    {
      "cell_type": "code",
      "source": [
        "data_frame.head()"
      ],
      "metadata": {
        "colab": {
          "base_uri": "https://localhost:8080/",
          "height": 635
        },
        "id": "8fi7uEjxjnjf",
        "outputId": "0d86e500-21de-4e51-d1c8-4b27ffb1771f"
      },
      "execution_count": null,
      "outputs": [
        {
          "output_type": "execute_result",
          "data": {
            "text/plain": [
              "                                               title  \\\n",
              "1  Dragon Ball Z Pelicula 03: La batalla más gran...   \n",
              "2                                   Lodoss-tou Senki   \n",
              "3                            Fushigi no Umi no Nadia   \n",
              "4  Dragon Ball Z Pelicula 02: El hombre más fuert...   \n",
              "5                               Umezu Kazuo no Noroi   \n",
              "\n",
              "                                         description  year      type  \\\n",
              "1  Una banda de desértores del ejército de Freeze...  1990  Película   \n",
              "2  La historia se centra de alrededor de un joven...  1990     Anime   \n",
              "3  La revolución industrial ha terminado y el mun...  1990     Anime   \n",
              "4  La situación empieza con el doctor Uir?, quien...  1990  Película   \n",
              "5  Dos Historias separadas. En la primera titulad...  1990       OVA   \n",
              "\n",
              "   rate_start  votes      status  followers  episodes  \\\n",
              "1         3.9    173  Finalizado       1090         1   \n",
              "2         4.4     95  Finalizado        734        13   \n",
              "3         4.5     99  Finalizado        841        39   \n",
              "4         4.1    124  Finalizado       1070         1   \n",
              "5         4.2     38  Finalizado        136         1   \n",
              "\n",
              "                                             genders  \\\n",
              "1  Aventuras,Ciencia Ficción,Comedia,Fantasía,Sho...   \n",
              "2  Acción,Aventuras,Fantasía,Magia,Shounen,Sobren...   \n",
              "3  Aventuras,Ciencia Ficción,Comedia,Historico,Ro...   \n",
              "4  Aventuras,Ciencia Ficción,Comedia,Fantasía,Sho...   \n",
              "5                                            Terror,   \n",
              "\n",
              "                                           url_anime  \\\n",
              "1  https://www3.animeflv.net/anime/dragon-ball-z-...   \n",
              "2   https://www3.animeflv.net/anime/lodoss-tou-senki   \n",
              "3  https://www3.animeflv.net/anime/fushigi-no-umi...   \n",
              "4  https://www3.animeflv.net/anime/dragon-ball-z-...   \n",
              "5  https://www3.animeflv.net/anime/umezu-kazuo-no...   \n",
              "\n",
              "                                               image  \n",
              "1  https://www3.animeflv.net/uploads/animes/cover...  \n",
              "2  https://www3.animeflv.net/uploads/animes/cover...  \n",
              "3  https://www3.animeflv.net/uploads/animes/cover...  \n",
              "4  https://www3.animeflv.net/uploads/animes/cover...  \n",
              "5  https://www3.animeflv.net/uploads/animes/cover...  "
            ],
            "text/html": [
              "\n",
              "  <div id=\"df-5c7f6ffd-7adf-4762-9f8c-fa5dcb20a40d\">\n",
              "    <div class=\"colab-df-container\">\n",
              "      <div>\n",
              "<style scoped>\n",
              "    .dataframe tbody tr th:only-of-type {\n",
              "        vertical-align: middle;\n",
              "    }\n",
              "\n",
              "    .dataframe tbody tr th {\n",
              "        vertical-align: top;\n",
              "    }\n",
              "\n",
              "    .dataframe thead th {\n",
              "        text-align: right;\n",
              "    }\n",
              "</style>\n",
              "<table border=\"1\" class=\"dataframe\">\n",
              "  <thead>\n",
              "    <tr style=\"text-align: right;\">\n",
              "      <th></th>\n",
              "      <th>title</th>\n",
              "      <th>description</th>\n",
              "      <th>year</th>\n",
              "      <th>type</th>\n",
              "      <th>rate_start</th>\n",
              "      <th>votes</th>\n",
              "      <th>status</th>\n",
              "      <th>followers</th>\n",
              "      <th>episodes</th>\n",
              "      <th>genders</th>\n",
              "      <th>url_anime</th>\n",
              "      <th>image</th>\n",
              "    </tr>\n",
              "  </thead>\n",
              "  <tbody>\n",
              "    <tr>\n",
              "      <th>1</th>\n",
              "      <td>Dragon Ball Z Pelicula 03: La batalla más gran...</td>\n",
              "      <td>Una banda de desértores del ejército de Freeze...</td>\n",
              "      <td>1990</td>\n",
              "      <td>Película</td>\n",
              "      <td>3.9</td>\n",
              "      <td>173</td>\n",
              "      <td>Finalizado</td>\n",
              "      <td>1090</td>\n",
              "      <td>1</td>\n",
              "      <td>Aventuras,Ciencia Ficción,Comedia,Fantasía,Sho...</td>\n",
              "      <td>https://www3.animeflv.net/anime/dragon-ball-z-...</td>\n",
              "      <td>https://www3.animeflv.net/uploads/animes/cover...</td>\n",
              "    </tr>\n",
              "    <tr>\n",
              "      <th>2</th>\n",
              "      <td>Lodoss-tou Senki</td>\n",
              "      <td>La historia se centra de alrededor de un joven...</td>\n",
              "      <td>1990</td>\n",
              "      <td>Anime</td>\n",
              "      <td>4.4</td>\n",
              "      <td>95</td>\n",
              "      <td>Finalizado</td>\n",
              "      <td>734</td>\n",
              "      <td>13</td>\n",
              "      <td>Acción,Aventuras,Fantasía,Magia,Shounen,Sobren...</td>\n",
              "      <td>https://www3.animeflv.net/anime/lodoss-tou-senki</td>\n",
              "      <td>https://www3.animeflv.net/uploads/animes/cover...</td>\n",
              "    </tr>\n",
              "    <tr>\n",
              "      <th>3</th>\n",
              "      <td>Fushigi no Umi no Nadia</td>\n",
              "      <td>La revolución industrial ha terminado y el mun...</td>\n",
              "      <td>1990</td>\n",
              "      <td>Anime</td>\n",
              "      <td>4.5</td>\n",
              "      <td>99</td>\n",
              "      <td>Finalizado</td>\n",
              "      <td>841</td>\n",
              "      <td>39</td>\n",
              "      <td>Aventuras,Ciencia Ficción,Comedia,Historico,Ro...</td>\n",
              "      <td>https://www3.animeflv.net/anime/fushigi-no-umi...</td>\n",
              "      <td>https://www3.animeflv.net/uploads/animes/cover...</td>\n",
              "    </tr>\n",
              "    <tr>\n",
              "      <th>4</th>\n",
              "      <td>Dragon Ball Z Pelicula 02: El hombre más fuert...</td>\n",
              "      <td>La situación empieza con el doctor Uir?, quien...</td>\n",
              "      <td>1990</td>\n",
              "      <td>Película</td>\n",
              "      <td>4.1</td>\n",
              "      <td>124</td>\n",
              "      <td>Finalizado</td>\n",
              "      <td>1070</td>\n",
              "      <td>1</td>\n",
              "      <td>Aventuras,Ciencia Ficción,Comedia,Fantasía,Sho...</td>\n",
              "      <td>https://www3.animeflv.net/anime/dragon-ball-z-...</td>\n",
              "      <td>https://www3.animeflv.net/uploads/animes/cover...</td>\n",
              "    </tr>\n",
              "    <tr>\n",
              "      <th>5</th>\n",
              "      <td>Umezu Kazuo no Noroi</td>\n",
              "      <td>Dos Historias separadas. En la primera titulad...</td>\n",
              "      <td>1990</td>\n",
              "      <td>OVA</td>\n",
              "      <td>4.2</td>\n",
              "      <td>38</td>\n",
              "      <td>Finalizado</td>\n",
              "      <td>136</td>\n",
              "      <td>1</td>\n",
              "      <td>Terror,</td>\n",
              "      <td>https://www3.animeflv.net/anime/umezu-kazuo-no...</td>\n",
              "      <td>https://www3.animeflv.net/uploads/animes/cover...</td>\n",
              "    </tr>\n",
              "  </tbody>\n",
              "</table>\n",
              "</div>\n",
              "      <button class=\"colab-df-convert\" onclick=\"convertToInteractive('df-5c7f6ffd-7adf-4762-9f8c-fa5dcb20a40d')\"\n",
              "              title=\"Convert this dataframe to an interactive table.\"\n",
              "              style=\"display:none;\">\n",
              "        \n",
              "  <svg xmlns=\"http://www.w3.org/2000/svg\" height=\"24px\"viewBox=\"0 0 24 24\"\n",
              "       width=\"24px\">\n",
              "    <path d=\"M0 0h24v24H0V0z\" fill=\"none\"/>\n",
              "    <path d=\"M18.56 5.44l.94 2.06.94-2.06 2.06-.94-2.06-.94-.94-2.06-.94 2.06-2.06.94zm-11 1L8.5 8.5l.94-2.06 2.06-.94-2.06-.94L8.5 2.5l-.94 2.06-2.06.94zm10 10l.94 2.06.94-2.06 2.06-.94-2.06-.94-.94-2.06-.94 2.06-2.06.94z\"/><path d=\"M17.41 7.96l-1.37-1.37c-.4-.4-.92-.59-1.43-.59-.52 0-1.04.2-1.43.59L10.3 9.45l-7.72 7.72c-.78.78-.78 2.05 0 2.83L4 21.41c.39.39.9.59 1.41.59.51 0 1.02-.2 1.41-.59l7.78-7.78 2.81-2.81c.8-.78.8-2.07 0-2.86zM5.41 20L4 18.59l7.72-7.72 1.47 1.35L5.41 20z\"/>\n",
              "  </svg>\n",
              "      </button>\n",
              "      \n",
              "  <style>\n",
              "    .colab-df-container {\n",
              "      display:flex;\n",
              "      flex-wrap:wrap;\n",
              "      gap: 12px;\n",
              "    }\n",
              "\n",
              "    .colab-df-convert {\n",
              "      background-color: #E8F0FE;\n",
              "      border: none;\n",
              "      border-radius: 50%;\n",
              "      cursor: pointer;\n",
              "      display: none;\n",
              "      fill: #1967D2;\n",
              "      height: 32px;\n",
              "      padding: 0 0 0 0;\n",
              "      width: 32px;\n",
              "    }\n",
              "\n",
              "    .colab-df-convert:hover {\n",
              "      background-color: #E2EBFA;\n",
              "      box-shadow: 0px 1px 2px rgba(60, 64, 67, 0.3), 0px 1px 3px 1px rgba(60, 64, 67, 0.15);\n",
              "      fill: #174EA6;\n",
              "    }\n",
              "\n",
              "    [theme=dark] .colab-df-convert {\n",
              "      background-color: #3B4455;\n",
              "      fill: #D2E3FC;\n",
              "    }\n",
              "\n",
              "    [theme=dark] .colab-df-convert:hover {\n",
              "      background-color: #434B5C;\n",
              "      box-shadow: 0px 1px 3px 1px rgba(0, 0, 0, 0.15);\n",
              "      filter: drop-shadow(0px 1px 2px rgba(0, 0, 0, 0.3));\n",
              "      fill: #FFFFFF;\n",
              "    }\n",
              "  </style>\n",
              "\n",
              "      <script>\n",
              "        const buttonEl =\n",
              "          document.querySelector('#df-5c7f6ffd-7adf-4762-9f8c-fa5dcb20a40d button.colab-df-convert');\n",
              "        buttonEl.style.display =\n",
              "          google.colab.kernel.accessAllowed ? 'block' : 'none';\n",
              "\n",
              "        async function convertToInteractive(key) {\n",
              "          const element = document.querySelector('#df-5c7f6ffd-7adf-4762-9f8c-fa5dcb20a40d');\n",
              "          const dataTable =\n",
              "            await google.colab.kernel.invokeFunction('convertToInteractive',\n",
              "                                                     [key], {});\n",
              "          if (!dataTable) return;\n",
              "\n",
              "          const docLinkHtml = 'Like what you see? Visit the ' +\n",
              "            '<a target=\"_blank\" href=https://colab.research.google.com/notebooks/data_table.ipynb>data table notebook</a>'\n",
              "            + ' to learn more about interactive tables.';\n",
              "          element.innerHTML = '';\n",
              "          dataTable['output_type'] = 'display_data';\n",
              "          await google.colab.output.renderOutput(dataTable, element);\n",
              "          const docLink = document.createElement('div');\n",
              "          docLink.innerHTML = docLinkHtml;\n",
              "          element.appendChild(docLink);\n",
              "        }\n",
              "      </script>\n",
              "    </div>\n",
              "  </div>\n",
              "  "
            ]
          },
          "metadata": {},
          "execution_count": 10
        }
      ]
    },
    {
      "cell_type": "code",
      "source": [
        "data_frame[\"description\"] = df1"
      ],
      "metadata": {
        "id": "gwjtTI2obIws"
      },
      "execution_count": null,
      "outputs": []
    },
    {
      "cell_type": "code",
      "source": [
        "data_frame[\"genders\"] = data_frame['genders'].apply(translator.translate, src='es', dest='en').apply(getattr, args=('text',))"
      ],
      "metadata": {
        "id": "6nBM1zGffOUP"
      },
      "execution_count": null,
      "outputs": []
    },
    {
      "cell_type": "code",
      "source": [
        "data_frame.rename(columns ={'genders':'genres'},inplace = True)"
      ],
      "metadata": {
        "id": "cHh4OYR_gHWZ"
      },
      "execution_count": null,
      "outputs": []
    },
    {
      "cell_type": "code",
      "source": [
        "data_frame.shape"
      ],
      "metadata": {
        "colab": {
          "base_uri": "https://localhost:8080/"
        },
        "id": "FuYhywWKhmdI",
        "outputId": "ee1aa665-ae02-4d49-98c8-fa1737c8fb51"
      },
      "execution_count": null,
      "outputs": [
        {
          "output_type": "execute_result",
          "data": {
            "text/plain": [
              "(3183, 12)"
            ]
          },
          "metadata": {},
          "execution_count": 14
        }
      ]
    },
    {
      "cell_type": "code",
      "source": [
        "#taking data for training set \n",
        "anime_df = data_frame[[\"title\",\"description\",\"genres\",\"image\"]]"
      ],
      "metadata": {
        "id": "ZwbpiGdlhqVO"
      },
      "execution_count": null,
      "outputs": []
    },
    {
      "cell_type": "code",
      "source": [
        "anime_df.head()"
      ],
      "metadata": {
        "colab": {
          "base_uri": "https://localhost:8080/",
          "height": 458
        },
        "id": "QgmmDGjmjeHJ",
        "outputId": "40ddf167-df10-4b64-cff2-2f7d38254f83"
      },
      "execution_count": null,
      "outputs": [
        {
          "output_type": "execute_result",
          "data": {
            "text/plain": [
              "                                               title  \\\n",
              "1  Dragon Ball Z Pelicula 03: La batalla más gran...   \n",
              "2                                   Lodoss-tou Senki   \n",
              "3                            Fushigi no Umi no Nadia   \n",
              "4  Dragon Ball Z Pelicula 02: El hombre más fuert...   \n",
              "5                               Umezu Kazuo no Noroi   \n",
              "\n",
              "                                         description  \\\n",
              "1  A band of deserters from Frieza's army led by ...   \n",
              "2  The story centers around a young man named Par...   \n",
              "3  The industrial revolution is over and the worl...   \n",
              "4  The situation begins with Dr. Uir?, who is rev...   \n",
              "5  Two separate stories. In the first titled \"Wha...   \n",
              "\n",
              "                                              genres  \\\n",
              "1  Adventure,Science Fiction,Comedy,Fantasy,Shounen,   \n",
              "2  Action,Adventure,Fantasy,Magic,Shounen,Superna...   \n",
              "3  Adventure,Science Fiction,Comedy,Historical,Ro...   \n",
              "4  Adventure,Science Fiction,Comedy,Fantasy,Shounen,   \n",
              "5                                            Terror,   \n",
              "\n",
              "                                               image  \n",
              "1  https://www3.animeflv.net/uploads/animes/cover...  \n",
              "2  https://www3.animeflv.net/uploads/animes/cover...  \n",
              "3  https://www3.animeflv.net/uploads/animes/cover...  \n",
              "4  https://www3.animeflv.net/uploads/animes/cover...  \n",
              "5  https://www3.animeflv.net/uploads/animes/cover...  "
            ],
            "text/html": [
              "\n",
              "  <div id=\"df-c0ecff05-b262-4c0c-a725-e227c678e077\">\n",
              "    <div class=\"colab-df-container\">\n",
              "      <div>\n",
              "<style scoped>\n",
              "    .dataframe tbody tr th:only-of-type {\n",
              "        vertical-align: middle;\n",
              "    }\n",
              "\n",
              "    .dataframe tbody tr th {\n",
              "        vertical-align: top;\n",
              "    }\n",
              "\n",
              "    .dataframe thead th {\n",
              "        text-align: right;\n",
              "    }\n",
              "</style>\n",
              "<table border=\"1\" class=\"dataframe\">\n",
              "  <thead>\n",
              "    <tr style=\"text-align: right;\">\n",
              "      <th></th>\n",
              "      <th>title</th>\n",
              "      <th>description</th>\n",
              "      <th>genres</th>\n",
              "      <th>image</th>\n",
              "    </tr>\n",
              "  </thead>\n",
              "  <tbody>\n",
              "    <tr>\n",
              "      <th>1</th>\n",
              "      <td>Dragon Ball Z Pelicula 03: La batalla más gran...</td>\n",
              "      <td>A band of deserters from Frieza's army led by ...</td>\n",
              "      <td>Adventure,Science Fiction,Comedy,Fantasy,Shounen,</td>\n",
              "      <td>https://www3.animeflv.net/uploads/animes/cover...</td>\n",
              "    </tr>\n",
              "    <tr>\n",
              "      <th>2</th>\n",
              "      <td>Lodoss-tou Senki</td>\n",
              "      <td>The story centers around a young man named Par...</td>\n",
              "      <td>Action,Adventure,Fantasy,Magic,Shounen,Superna...</td>\n",
              "      <td>https://www3.animeflv.net/uploads/animes/cover...</td>\n",
              "    </tr>\n",
              "    <tr>\n",
              "      <th>3</th>\n",
              "      <td>Fushigi no Umi no Nadia</td>\n",
              "      <td>The industrial revolution is over and the worl...</td>\n",
              "      <td>Adventure,Science Fiction,Comedy,Historical,Ro...</td>\n",
              "      <td>https://www3.animeflv.net/uploads/animes/cover...</td>\n",
              "    </tr>\n",
              "    <tr>\n",
              "      <th>4</th>\n",
              "      <td>Dragon Ball Z Pelicula 02: El hombre más fuert...</td>\n",
              "      <td>The situation begins with Dr. Uir?, who is rev...</td>\n",
              "      <td>Adventure,Science Fiction,Comedy,Fantasy,Shounen,</td>\n",
              "      <td>https://www3.animeflv.net/uploads/animes/cover...</td>\n",
              "    </tr>\n",
              "    <tr>\n",
              "      <th>5</th>\n",
              "      <td>Umezu Kazuo no Noroi</td>\n",
              "      <td>Two separate stories. In the first titled \"Wha...</td>\n",
              "      <td>Terror,</td>\n",
              "      <td>https://www3.animeflv.net/uploads/animes/cover...</td>\n",
              "    </tr>\n",
              "  </tbody>\n",
              "</table>\n",
              "</div>\n",
              "      <button class=\"colab-df-convert\" onclick=\"convertToInteractive('df-c0ecff05-b262-4c0c-a725-e227c678e077')\"\n",
              "              title=\"Convert this dataframe to an interactive table.\"\n",
              "              style=\"display:none;\">\n",
              "        \n",
              "  <svg xmlns=\"http://www.w3.org/2000/svg\" height=\"24px\"viewBox=\"0 0 24 24\"\n",
              "       width=\"24px\">\n",
              "    <path d=\"M0 0h24v24H0V0z\" fill=\"none\"/>\n",
              "    <path d=\"M18.56 5.44l.94 2.06.94-2.06 2.06-.94-2.06-.94-.94-2.06-.94 2.06-2.06.94zm-11 1L8.5 8.5l.94-2.06 2.06-.94-2.06-.94L8.5 2.5l-.94 2.06-2.06.94zm10 10l.94 2.06.94-2.06 2.06-.94-2.06-.94-.94-2.06-.94 2.06-2.06.94z\"/><path d=\"M17.41 7.96l-1.37-1.37c-.4-.4-.92-.59-1.43-.59-.52 0-1.04.2-1.43.59L10.3 9.45l-7.72 7.72c-.78.78-.78 2.05 0 2.83L4 21.41c.39.39.9.59 1.41.59.51 0 1.02-.2 1.41-.59l7.78-7.78 2.81-2.81c.8-.78.8-2.07 0-2.86zM5.41 20L4 18.59l7.72-7.72 1.47 1.35L5.41 20z\"/>\n",
              "  </svg>\n",
              "      </button>\n",
              "      \n",
              "  <style>\n",
              "    .colab-df-container {\n",
              "      display:flex;\n",
              "      flex-wrap:wrap;\n",
              "      gap: 12px;\n",
              "    }\n",
              "\n",
              "    .colab-df-convert {\n",
              "      background-color: #E8F0FE;\n",
              "      border: none;\n",
              "      border-radius: 50%;\n",
              "      cursor: pointer;\n",
              "      display: none;\n",
              "      fill: #1967D2;\n",
              "      height: 32px;\n",
              "      padding: 0 0 0 0;\n",
              "      width: 32px;\n",
              "    }\n",
              "\n",
              "    .colab-df-convert:hover {\n",
              "      background-color: #E2EBFA;\n",
              "      box-shadow: 0px 1px 2px rgba(60, 64, 67, 0.3), 0px 1px 3px 1px rgba(60, 64, 67, 0.15);\n",
              "      fill: #174EA6;\n",
              "    }\n",
              "\n",
              "    [theme=dark] .colab-df-convert {\n",
              "      background-color: #3B4455;\n",
              "      fill: #D2E3FC;\n",
              "    }\n",
              "\n",
              "    [theme=dark] .colab-df-convert:hover {\n",
              "      background-color: #434B5C;\n",
              "      box-shadow: 0px 1px 3px 1px rgba(0, 0, 0, 0.15);\n",
              "      filter: drop-shadow(0px 1px 2px rgba(0, 0, 0, 0.3));\n",
              "      fill: #FFFFFF;\n",
              "    }\n",
              "  </style>\n",
              "\n",
              "      <script>\n",
              "        const buttonEl =\n",
              "          document.querySelector('#df-c0ecff05-b262-4c0c-a725-e227c678e077 button.colab-df-convert');\n",
              "        buttonEl.style.display =\n",
              "          google.colab.kernel.accessAllowed ? 'block' : 'none';\n",
              "\n",
              "        async function convertToInteractive(key) {\n",
              "          const element = document.querySelector('#df-c0ecff05-b262-4c0c-a725-e227c678e077');\n",
              "          const dataTable =\n",
              "            await google.colab.kernel.invokeFunction('convertToInteractive',\n",
              "                                                     [key], {});\n",
              "          if (!dataTable) return;\n",
              "\n",
              "          const docLinkHtml = 'Like what you see? Visit the ' +\n",
              "            '<a target=\"_blank\" href=https://colab.research.google.com/notebooks/data_table.ipynb>data table notebook</a>'\n",
              "            + ' to learn more about interactive tables.';\n",
              "          element.innerHTML = '';\n",
              "          dataTable['output_type'] = 'display_data';\n",
              "          await google.colab.output.renderOutput(dataTable, element);\n",
              "          const docLink = document.createElement('div');\n",
              "          docLink.innerHTML = docLinkHtml;\n",
              "          element.appendChild(docLink);\n",
              "        }\n",
              "      </script>\n",
              "    </div>\n",
              "  </div>\n",
              "  "
            ]
          },
          "metadata": {},
          "execution_count": 16
        }
      ]
    },
    {
      "cell_type": "code",
      "source": [
        "anime_df.drop_duplicates(inplace = True)"
      ],
      "metadata": {
        "id": "kbNEyaQ_pN1f"
      },
      "execution_count": null,
      "outputs": []
    },
    {
      "cell_type": "code",
      "source": [
        "anime_df[\"genres\"].value_counts()"
      ],
      "metadata": {
        "colab": {
          "base_uri": "https://localhost:8080/"
        },
        "id": "daYC413Ljg-o",
        "outputId": "02bc4986-8d30-445e-cd8c-29200ba201fc"
      },
      "execution_count": null,
      "outputs": [
        {
          "output_type": "execute_result",
          "data": {
            "text/plain": [
              "Comedy, Slice of Life,                       52\n",
              "Comedy,Schools,Slice of Life,                42\n",
              "Comedy,                                      33\n",
              "Music,                                       28\n",
              "Action,Fantasy,                              19\n",
              "                                             ..\n",
              "Drama,Fantasy,Magic,Romance,Supernatural,     1\n",
              "Science Fiction, Comedy, Ecchi, Shounen,      1\n",
              "Mystery,Romance,Supernatural,Vampires,        1\n",
              "Action,Adventure,Comedy,Ecchi,                1\n",
              "Action, Fantasy, Shounen,                     1\n",
              "Name: genres, Length: 1626, dtype: int64"
            ]
          },
          "metadata": {},
          "execution_count": 18
        }
      ]
    },
    {
      "cell_type": "code",
      "source": [
        "anime_df[\"image\"].value_counts()"
      ],
      "metadata": {
        "colab": {
          "base_uri": "https://localhost:8080/"
        },
        "id": "UxVq6iHNj8aW",
        "outputId": "4241e13f-3e57-4e4e-bc84-86b56e88281c"
      },
      "execution_count": null,
      "outputs": [
        {
          "output_type": "execute_result",
          "data": {
            "text/plain": [
              "https://www3.animeflv.net/uploads/animes/covers/1104.jpg    1\n",
              "https://www3.animeflv.net/uploads/animes/covers/2586.jpg    1\n",
              "https://www3.animeflv.net/uploads/animes/covers/2573.jpg    1\n",
              "https://www3.animeflv.net/uploads/animes/covers/2578.jpg    1\n",
              "https://www3.animeflv.net/uploads/animes/covers/2579.jpg    1\n",
              "                                                           ..\n",
              "https://www3.animeflv.net/uploads/animes/covers/247.jpg     1\n",
              "https://www3.animeflv.net/uploads/animes/covers/1876.jpg    1\n",
              "https://www3.animeflv.net/uploads/animes/covers/249.jpg     1\n",
              "https://www3.animeflv.net/uploads/animes/covers/1389.jpg    1\n",
              "https://www3.animeflv.net/uploads/animes/covers/3558.jpg    1\n",
              "Name: image, Length: 3182, dtype: int64"
            ]
          },
          "metadata": {},
          "execution_count": 19
        }
      ]
    },
    {
      "cell_type": "code",
      "source": [
        "#import urllib.request\n",
        "\n",
        "#get_url= urllib.request.urlopen('https://www3.animeflv.net/uploads/animes/covers/3379.jpg')\n",
        "\n",
        "#print(\"Response Status: \"+ str(get_url.getcode()) )"
      ],
      "metadata": {
        "id": "s6zGgdgNkB_S"
      },
      "execution_count": null,
      "outputs": []
    },
    {
      "cell_type": "code",
      "source": [
        "anime_df[\"description\"] = [i.replace(\"'\",\"\")for i in anime_df[\"description\"]]\n",
        "anime_df[\"description\"] = [i.replace(\",\",\"\")for i in anime_df[\"description\"]]\n",
        "anime_df[\"description\"] = [i.replace('-',\"\")for i in anime_df[\"description\"]]"
      ],
      "metadata": {
        "id": "3cFNvd5imPn3"
      },
      "execution_count": null,
      "outputs": []
    },
    {
      "cell_type": "code",
      "source": [
        "anime_df[\"description\"]=anime_df[\"description\"].apply(lambda x:x.split())\n",
        "anime_df[\"genres\"]=anime_df[\"genres\"].apply(lambda x:x.split())"
      ],
      "metadata": {
        "id": "aUYi-vqwm18y"
      },
      "execution_count": null,
      "outputs": []
    },
    {
      "cell_type": "code",
      "source": [
        "anime_df['description'].head()"
      ],
      "metadata": {
        "colab": {
          "base_uri": "https://localhost:8080/"
        },
        "id": "ccEYtOHznC4O",
        "outputId": "b72f3a74-d69a-435d-e578-93a2dea22de5"
      },
      "execution_count": null,
      "outputs": [
        {
          "output_type": "execute_result",
          "data": {
            "text/plain": [
              "1    [A, band, of, deserters, from, Friezas, army, ...\n",
              "2    [The, story, centers, around, a, young, man, n...\n",
              "3    [The, industrial, revolution, is, over, and, t...\n",
              "4    [The, situation, begins, with, Dr., Uir?, who,...\n",
              "5    [Two, separate, stories., In, the, first, titl...\n",
              "Name: description, dtype: object"
            ]
          },
          "metadata": {},
          "execution_count": 23
        }
      ]
    },
    {
      "cell_type": "code",
      "source": [
        "anime_df['genres'].head()"
      ],
      "metadata": {
        "colab": {
          "base_uri": "https://localhost:8080/"
        },
        "id": "wyRFTwkAnLvK",
        "outputId": "850f1f4d-af55-4b9e-f741-26037869b8cd"
      },
      "execution_count": null,
      "outputs": [
        {
          "output_type": "execute_result",
          "data": {
            "text/plain": [
              "1    [Adventure,Science, Fiction,Comedy,Fantasy,Sho...\n",
              "2    [Action,Adventure,Fantasy,Magic,Shounen,Supern...\n",
              "3    [Adventure,Science, Fiction,Comedy,Historical,...\n",
              "4    [Adventure,Science, Fiction,Comedy,Fantasy,Sho...\n",
              "5                                            [Terror,]\n",
              "Name: genres, dtype: object"
            ]
          },
          "metadata": {},
          "execution_count": 24
        }
      ]
    },
    {
      "cell_type": "code",
      "source": [
        "anime_df['title'] = data_frame['title']"
      ],
      "metadata": {
        "id": "6ZModKSpx6ps"
      },
      "execution_count": null,
      "outputs": []
    },
    {
      "cell_type": "code",
      "source": [
        "anime_df[\"tags\"] = anime_df['description'] + anime_df['genres']"
      ],
      "metadata": {
        "id": "6FWyMOYuoAp0"
      },
      "execution_count": null,
      "outputs": []
    },
    {
      "cell_type": "code",
      "source": [
        "anime_df.isna().sum()"
      ],
      "metadata": {
        "colab": {
          "base_uri": "https://localhost:8080/"
        },
        "id": "sCXl8ULhoNNX",
        "outputId": "ab319644-2453-437b-d64c-2e5b931e3019"
      },
      "execution_count": null,
      "outputs": [
        {
          "output_type": "execute_result",
          "data": {
            "text/plain": [
              "title          0\n",
              "description    0\n",
              "genres         0\n",
              "image          0\n",
              "tags           0\n",
              "dtype: int64"
            ]
          },
          "metadata": {},
          "execution_count": 27
        }
      ]
    },
    {
      "cell_type": "code",
      "source": [
        "#multi_chars = \"[']\"\n",
        "#def convert(lst , sym): \n",
        " #for i in lst:\n",
        "  #temp_string = i\n",
        "  #for ch in sym:\n",
        "    #temp_string = temp_string.replace(ch,\"\")\n",
        "    #for j in temp_string:\n",
        "      #dta = []\n",
        "      #dta.append(j)\n",
        " #return dta "
      ],
      "metadata": {
        "id": "_MI8iIkSoQD-"
      },
      "execution_count": null,
      "outputs": []
    },
    {
      "cell_type": "code",
      "source": [
        "anime_df[\"tags\"]=anime_df[\"tags\"].apply(lambda x:[i.replace(\" \",\"\")for i in x])\n",
        "anime_df[\"tags\"] = anime_df[\"tags\"].apply(lambda x:\" \".join(x))"
      ],
      "metadata": {
        "id": "yVMRccOkoYfo"
      },
      "execution_count": null,
      "outputs": []
    },
    {
      "cell_type": "code",
      "source": [
        "anime_df=anime_df.reset_index(drop=True)"
      ],
      "metadata": {
        "id": "CrawozSRpF7Q"
      },
      "execution_count": null,
      "outputs": []
    },
    {
      "cell_type": "code",
      "source": [
        "animef_df = anime_df[[\"title\",\"tags\"]]"
      ],
      "metadata": {
        "id": "TtsSInX_qkbW"
      },
      "execution_count": null,
      "outputs": []
    },
    {
      "cell_type": "code",
      "source": [
        "animef_df[\"tags\"] = anime_df[\"tags\"].apply(lambda x:x.lower())"
      ],
      "metadata": {
        "id": "Lb7_wL3oqpQ3"
      },
      "execution_count": null,
      "outputs": []
    },
    {
      "cell_type": "code",
      "source": [
        "from sklearn.feature_extraction.text import CountVectorizer\n",
        "cv=CountVectorizer(max_features=4000,stop_words=\"english\")\n",
        "from nltk.stem.porter import PorterStemmer \n",
        "ps=PorterStemmer()"
      ],
      "metadata": {
        "id": "LnrfTBt3q0g4"
      },
      "execution_count": null,
      "outputs": []
    },
    {
      "cell_type": "code",
      "source": [
        "ps.stem(\"abilities\")"
      ],
      "metadata": {
        "colab": {
          "base_uri": "https://localhost:8080/",
          "height": 35
        },
        "id": "5v9J6hjMrSSv",
        "outputId": "81d372b8-ba9f-4218-9549-e0da06004915"
      },
      "execution_count": null,
      "outputs": [
        {
          "output_type": "execute_result",
          "data": {
            "text/plain": [
              "'abil'"
            ],
            "application/vnd.google.colaboratory.intrinsic+json": {
              "type": "string"
            }
          },
          "metadata": {},
          "execution_count": 34
        }
      ]
    },
    {
      "cell_type": "code",
      "source": [
        "def stem(text):\n",
        "  y=[]\n",
        "\n",
        "  for i in text.split():\n",
        "    y.append(ps.stem(i))\n",
        "\n",
        "  return \" \".join(y) "
      ],
      "metadata": {
        "id": "GzceMt3brWWn"
      },
      "execution_count": null,
      "outputs": []
    },
    {
      "cell_type": "code",
      "source": [
        "stem(animef_df[\"tags\"][1])"
      ],
      "metadata": {
        "colab": {
          "base_uri": "https://localhost:8080/",
          "height": 140
        },
        "id": "Phhn6uCfredp",
        "outputId": "e997bb31-95f8-49d4-c4ff-e5c2a5d66cf6"
      },
      "execution_count": null,
      "outputs": [
        {
          "output_type": "execute_result",
          "data": {
            "text/plain": [
              "'the stori center around a young man name parn the son of a disgrac knight. part of thi motiv to ventur out is to find out what happen to hi father and restor hi famili honor. despit hi inexperi parn is consid the leader who is accompani by hi best friend a forest boy name etoh hi friend and sometim advisor slayn (and later slayn lover leylia) and hi new mentor ghim. . they are join by parn romant interest the high elf deedlit who come from the forest of no return seek a solut to her peopl isolation and an end to extinction. throughout the seri parn come into contact with hi friend and hi enemi alike. hi alli includ king kashu fahn shiri and orson; hi enemi includ emperor beld ashram and the evil ghoul wagnard. action,adventure,fantasy,magic,shounen,supernatural,'"
            ],
            "application/vnd.google.colaboratory.intrinsic+json": {
              "type": "string"
            }
          },
          "metadata": {},
          "execution_count": 36
        }
      ]
    },
    {
      "cell_type": "code",
      "source": [
        "animef_df[\"tags\"]=animef_df[\"tags\"].apply(stem)"
      ],
      "metadata": {
        "id": "uP1Y2jvnsHz7"
      },
      "execution_count": null,
      "outputs": []
    },
    {
      "cell_type": "code",
      "source": [
        "vectors = cv.fit_transform(animef_df[\"tags\"]).toarray()"
      ],
      "metadata": {
        "id": "sc4uo9M1scTO"
      },
      "execution_count": null,
      "outputs": []
    },
    {
      "cell_type": "code",
      "source": [
        "from sklearn.metrics.pairwise import cosine_similarity\n",
        "cosine_similarity(vectors).shape"
      ],
      "metadata": {
        "colab": {
          "base_uri": "https://localhost:8080/"
        },
        "id": "5hMmBliLsgz5",
        "outputId": "f2d1046a-bdf4-4ded-ff7d-ee04d1aa05f2"
      },
      "execution_count": null,
      "outputs": [
        {
          "output_type": "execute_result",
          "data": {
            "text/plain": [
              "(3182, 3182)"
            ]
          },
          "metadata": {},
          "execution_count": 39
        }
      ]
    },
    {
      "cell_type": "code",
      "source": [
        "similarity = cosine_similarity(vectors)"
      ],
      "metadata": {
        "id": "tPkiF7Vpsji2"
      },
      "execution_count": null,
      "outputs": []
    },
    {
      "cell_type": "code",
      "source": [
        "similarity[0]"
      ],
      "metadata": {
        "colab": {
          "base_uri": "https://localhost:8080/"
        },
        "id": "q81m2YBlsnPe",
        "outputId": "61148a5c-9457-45da-8eb2-e90a3c6ab2af"
      },
      "execution_count": null,
      "outputs": [
        {
          "output_type": "execute_result",
          "data": {
            "text/plain": [
              "array([1.        , 0.04352858, 0.11925696, ..., 0.07878386, 0.02519763,\n",
              "       0.14342743])"
            ]
          },
          "metadata": {},
          "execution_count": 41
        }
      ]
    },
    {
      "cell_type": "code",
      "source": [
        "sorted(list(enumerate(similarity[0])),reverse=True,key=lambda x:x[1])"
      ],
      "metadata": {
        "id": "VxZ5PqK_srPx"
      },
      "execution_count": null,
      "outputs": []
    },
    {
      "cell_type": "code",
      "source": [
        "def recommend(anime):\n",
        "  anime_index = animef_df[animef_df['title']==anime].index[0]\n",
        "  distances = similarity[anime_index]\n",
        "  anime_list = sorted(list(enumerate(distances)),reverse=True,key=lambda x:x[1])[1:6]\n",
        "\n",
        "  for i in anime_list:\n",
        "    print(animef_df.iloc[i[0]].title)"
      ],
      "metadata": {
        "id": "nnDHh-M7suas"
      },
      "execution_count": null,
      "outputs": []
    },
    {
      "cell_type": "code",
      "source": [
        "recommend('Fushigi no Umi no Nadia')"
      ],
      "metadata": {
        "colab": {
          "base_uri": "https://localhost:8080/"
        },
        "id": "NIRklyDdtCd6",
        "outputId": "56ec965d-0cab-472e-f637-e4dd7a3bf63d"
      },
      "execution_count": null,
      "outputs": [
        {
          "output_type": "stream",
          "name": "stdout",
          "text": [
            "Houkago Saikoro Club\n",
            "Mai-HiME\n",
            "Ima, Soko ni Iru Boku\n",
            "Maho Shojo Madoka Magica\n",
            "Hi-sCoool! SeHa Girl\n"
          ]
        }
      ]
    },
    {
      "cell_type": "code",
      "source": [
        "import pickle \n",
        "pickle.dump(animef_df.to_dict(),open('anime_dict.pkl','wb'))\n",
        "pickle.dump(animef_df,open('anime.pkl','wb'))\n",
        "pickle.dump(similarity,open('similarity.pkl','wb'))"
      ],
      "metadata": {
        "id": "8vmdozZmtE4Q"
      },
      "execution_count": null,
      "outputs": []
    },
    {
      "cell_type": "code",
      "source": [],
      "metadata": {
        "id": "dToWuPI6Lccg"
      },
      "execution_count": null,
      "outputs": []
    }
  ]
}