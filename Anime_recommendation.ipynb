{
  "cells": [
    {
      "cell_type": "markdown",
      "metadata": {
        "id": "view-in-github",
        "colab_type": "text"
      },
      "source": [
        "<a href=\"https://colab.research.google.com/github/pranavvp16/Anime-Recommendation-system/blob/main/Anime_recommendation.ipynb\" target=\"_parent\"><img src=\"https://colab.research.google.com/assets/colab-badge.svg\" alt=\"Open In Colab\"/></a>"
      ]
    },
    {
      "cell_type": "code",
      "execution_count": 311,
      "metadata": {
        "id": "qYQQLvJ9TzHk"
      },
      "outputs": [],
      "source": [
        "import numpy as np \n",
        "import pandas as pd"
      ]
    },
    {
      "cell_type": "code",
      "execution_count": null,
      "metadata": {
        "id": "i9_F0ZQVVPjE"
      },
      "outputs": [],
      "source": [
        "from google.colab import drive\n",
        "drive.mount('/content/drive')"
      ]
    },
    {
      "cell_type": "code",
      "execution_count": 313,
      "metadata": {
        "id": "3PrC38rUVRgo"
      },
      "outputs": [],
      "source": [
        "## This is content based recommendation system\n",
        "### Data : The dataset used in the system is downloaded from kaggle link:"
      ]
    },
    {
      "cell_type": "code",
      "execution_count": 314,
      "metadata": {
        "id": "0AH-i2KgVWW9"
      },
      "outputs": [],
      "source": [
        "data_frame = pd.read_csv(\"drive/MyDrive/Anime.csv\")\n",
        "data_frame2 = pd.read_csv(\"drive/MyDrive/Anime recommendation system/anime.csv\") "
      ]
    },
    {
      "cell_type": "code",
      "execution_count": 315,
      "metadata": {
        "colab": {
          "base_uri": "https://localhost:8080/"
        },
        "id": "1fZF9qzrVqix",
        "outputId": "c705bf50-a311-4834-e26a-4b4ffcd213f3"
      },
      "outputs": [
        {
          "output_type": "execute_result",
          "data": {
            "text/plain": [
              "((18495, 17), (24165, 39))"
            ]
          },
          "metadata": {},
          "execution_count": 315
        }
      ],
      "source": [
        "data_frame.shape , data_frame2.shape"
      ]
    },
    {
      "cell_type": "code",
      "execution_count": 316,
      "metadata": {
        "colab": {
          "base_uri": "https://localhost:8080/"
        },
        "id": "ESf1ZkKxVzP8",
        "outputId": "0ee61fc5-9b5d-4e69-f47c-8ce8da361dfa"
      },
      "outputs": [
        {
          "output_type": "stream",
          "name": "stdout",
          "text": [
            "<class 'pandas.core.frame.DataFrame'>\n",
            "RangeIndex: 18495 entries, 0 to 18494\n",
            "Data columns (total 17 columns):\n",
            " #   Column           Non-Null Count  Dtype  \n",
            "---  ------           --------------  -----  \n",
            " 0   Rank             18495 non-null  int64  \n",
            " 1   Name             18495 non-null  object \n",
            " 2   Japanese_name    7938 non-null   object \n",
            " 3   Type             18495 non-null  object \n",
            " 4   Episodes         9501 non-null   float64\n",
            " 5   Studio           12018 non-null  object \n",
            " 6   Release_season   4116 non-null   object \n",
            " 7   Tags             18095 non-null  object \n",
            " 8   Rating           15364 non-null  float64\n",
            " 9   Release_year     18112 non-null  float64\n",
            " 10  End_year         2854 non-null   float64\n",
            " 11  Description      18491 non-null  object \n",
            " 12  Content_Warning  1840 non-null   object \n",
            " 13  Related_Mange    7627 non-null   object \n",
            " 14  Related_anime    10063 non-null  object \n",
            " 15  Voice_actors     15309 non-null  object \n",
            " 16  staff            13005 non-null  object \n",
            "dtypes: float64(4), int64(1), object(12)\n",
            "memory usage: 2.4+ MB\n",
            "<class 'pandas.core.frame.DataFrame'>\n",
            "RangeIndex: 24165 entries, 0 to 24164\n",
            "Data columns (total 39 columns):\n",
            " #   Column            Non-Null Count  Dtype  \n",
            "---  ------            --------------  -----  \n",
            " 0   anime_id          24165 non-null  int64  \n",
            " 1   title             24165 non-null  object \n",
            " 2   type              24092 non-null  object \n",
            " 3   score             14272 non-null  float64\n",
            " 4   scored_by         24165 non-null  int64  \n",
            " 5   status            24165 non-null  object \n",
            " 6   episodes          23397 non-null  float64\n",
            " 7   start_date        21391 non-null  object \n",
            " 8   end_date          19912 non-null  object \n",
            " 9   source            20404 non-null  object \n",
            " 10  members           24165 non-null  int64  \n",
            " 11  favorites         24165 non-null  int64  \n",
            " 12  episode_duration  23302 non-null  object \n",
            " 13  total_duration    23002 non-null  object \n",
            " 14  rating            23148 non-null  object \n",
            " 15  sfw               24165 non-null  bool   \n",
            " 16  approved          24165 non-null  bool   \n",
            " 17  created_at        24165 non-null  object \n",
            " 18  updated_at        24165 non-null  object \n",
            " 19  start_year        17749 non-null  float64\n",
            " 20  start_season      17749 non-null  object \n",
            " 21  real_start_date   21391 non-null  object \n",
            " 22  real_end_date     19912 non-null  object \n",
            " 23  broadcast_day     3065 non-null   object \n",
            " 24  broadcast_time    2928 non-null   object \n",
            " 25  genres            24165 non-null  object \n",
            " 26  themes            24165 non-null  object \n",
            " 27  demographics      24165 non-null  object \n",
            " 28  studios           24165 non-null  object \n",
            " 29  producers         24165 non-null  object \n",
            " 30  licensors         24165 non-null  object \n",
            " 31  synopsis          20848 non-null  object \n",
            " 32  background        2342 non-null   object \n",
            " 33  main_picture      21378 non-null  object \n",
            " 34  url               24165 non-null  object \n",
            " 35  trailer_url       4362 non-null   object \n",
            " 36  title_english     9084 non-null   object \n",
            " 37  title_japanese    23911 non-null  object \n",
            " 38  title_synonyms    24165 non-null  object \n",
            "dtypes: bool(2), float64(3), int64(4), object(30)\n",
            "memory usage: 6.9+ MB\n"
          ]
        },
        {
          "output_type": "execute_result",
          "data": {
            "text/plain": [
              "(None, None)"
            ]
          },
          "metadata": {},
          "execution_count": 316
        }
      ],
      "source": [
        "data_frame.info() , data_frame2.info()"
      ]
    },
    {
      "cell_type": "code",
      "execution_count": 317,
      "metadata": {
        "id": "biwCQ6MNJGHP"
      },
      "outputs": [],
      "source": [
        "#data_frame2[\"genres\"]\n",
        "new_data = data_frame2[['anime_id','title' , 'genres','studios']]"
      ]
    },
    {
      "cell_type": "code",
      "execution_count": 318,
      "metadata": {
        "id": "yj1S45mJV4Ur"
      },
      "outputs": [],
      "source": [
        "anime_df = data_frame[[\"Name\",\"Description\",\"Type\"]]"
      ]
    },
    {
      "cell_type": "code",
      "source": [
        "anime_df.rename(columns ={'Name':'title'},inplace = True)"
      ],
      "metadata": {
        "id": "fHPJndlsUcL_"
      },
      "execution_count": null,
      "outputs": []
    },
    {
      "cell_type": "code",
      "source": [
        "anime_df = anime_df.merge(new_data,on=\"title\")"
      ],
      "metadata": {
        "id": "H7TH1jLIOn_W"
      },
      "execution_count": 320,
      "outputs": []
    },
    {
      "cell_type": "code",
      "source": [
        "anime_df.shape"
      ],
      "metadata": {
        "colab": {
          "base_uri": "https://localhost:8080/"
        },
        "id": "4A-QOWJKQGhI",
        "outputId": "aa1ba0d5-49ba-4b6c-d5d0-ef58d8b62d97"
      },
      "execution_count": 321,
      "outputs": [
        {
          "output_type": "execute_result",
          "data": {
            "text/plain": [
              "(7982, 6)"
            ]
          },
          "metadata": {},
          "execution_count": 321
        }
      ]
    },
    {
      "cell_type": "code",
      "source": [
        "anime_df.head()"
      ],
      "metadata": {
        "colab": {
          "base_uri": "https://localhost:8080/",
          "height": 206
        },
        "id": "I8awItbjQSuk",
        "outputId": "3be01a6f-bbba-43c0-bec3-e84682b55cb1"
      },
      "execution_count": 322,
      "outputs": [
        {
          "output_type": "execute_result",
          "data": {
            "text/plain": [
              "                              title  \\\n",
              "0  Fullmetal Alchemist: Brotherhood   \n",
              "1                    Jujutsu Kaisen   \n",
              "2           Haikyuu!! Second Season   \n",
              "3            Hunter x Hunter (2011)   \n",
              "4           Violet Evergarden Movie   \n",
              "\n",
              "                                         Description   Type  anime_id  \\\n",
              "0  \"The foundation of alchemy is based on the law...  TV         5114   \n",
              "1  'Although Yuji Itadori looks like your average...  TV        38777   \n",
              "2  \"After losing to Aoba Johsai at the Inter-High...  TV        28891   \n",
              "3  'Drawn to the mystique of the unknown, Hunters...  TV        11061   \n",
              "4  'As the world moves on from the war and techno...  Movie     37987   \n",
              "\n",
              "                                        genres                     studios  \n",
              "0  ['Action', 'Adventure', 'Drama', 'Fantasy']                   ['Bones']  \n",
              "1                                  ['Fantasy']  ['Yokohama Animation Lab']  \n",
              "2                                   ['Sports']          ['Production I.G']  \n",
              "3           ['Action', 'Adventure', 'Fantasy']                ['Madhouse']  \n",
              "4        ['Drama', 'Fantasy', 'Slice of Life']         ['Kyoto Animation']  "
            ],
            "text/html": [
              "\n",
              "  <div id=\"df-a0e53e25-80df-4ecb-95d5-9f96afb4ad48\">\n",
              "    <div class=\"colab-df-container\">\n",
              "      <div>\n",
              "<style scoped>\n",
              "    .dataframe tbody tr th:only-of-type {\n",
              "        vertical-align: middle;\n",
              "    }\n",
              "\n",
              "    .dataframe tbody tr th {\n",
              "        vertical-align: top;\n",
              "    }\n",
              "\n",
              "    .dataframe thead th {\n",
              "        text-align: right;\n",
              "    }\n",
              "</style>\n",
              "<table border=\"1\" class=\"dataframe\">\n",
              "  <thead>\n",
              "    <tr style=\"text-align: right;\">\n",
              "      <th></th>\n",
              "      <th>title</th>\n",
              "      <th>Description</th>\n",
              "      <th>Type</th>\n",
              "      <th>anime_id</th>\n",
              "      <th>genres</th>\n",
              "      <th>studios</th>\n",
              "    </tr>\n",
              "  </thead>\n",
              "  <tbody>\n",
              "    <tr>\n",
              "      <th>0</th>\n",
              "      <td>Fullmetal Alchemist: Brotherhood</td>\n",
              "      <td>\"The foundation of alchemy is based on the law...</td>\n",
              "      <td>TV</td>\n",
              "      <td>5114</td>\n",
              "      <td>['Action', 'Adventure', 'Drama', 'Fantasy']</td>\n",
              "      <td>['Bones']</td>\n",
              "    </tr>\n",
              "    <tr>\n",
              "      <th>1</th>\n",
              "      <td>Jujutsu Kaisen</td>\n",
              "      <td>'Although Yuji Itadori looks like your average...</td>\n",
              "      <td>TV</td>\n",
              "      <td>38777</td>\n",
              "      <td>['Fantasy']</td>\n",
              "      <td>['Yokohama Animation Lab']</td>\n",
              "    </tr>\n",
              "    <tr>\n",
              "      <th>2</th>\n",
              "      <td>Haikyuu!! Second Season</td>\n",
              "      <td>\"After losing to Aoba Johsai at the Inter-High...</td>\n",
              "      <td>TV</td>\n",
              "      <td>28891</td>\n",
              "      <td>['Sports']</td>\n",
              "      <td>['Production I.G']</td>\n",
              "    </tr>\n",
              "    <tr>\n",
              "      <th>3</th>\n",
              "      <td>Hunter x Hunter (2011)</td>\n",
              "      <td>'Drawn to the mystique of the unknown, Hunters...</td>\n",
              "      <td>TV</td>\n",
              "      <td>11061</td>\n",
              "      <td>['Action', 'Adventure', 'Fantasy']</td>\n",
              "      <td>['Madhouse']</td>\n",
              "    </tr>\n",
              "    <tr>\n",
              "      <th>4</th>\n",
              "      <td>Violet Evergarden Movie</td>\n",
              "      <td>'As the world moves on from the war and techno...</td>\n",
              "      <td>Movie</td>\n",
              "      <td>37987</td>\n",
              "      <td>['Drama', 'Fantasy', 'Slice of Life']</td>\n",
              "      <td>['Kyoto Animation']</td>\n",
              "    </tr>\n",
              "  </tbody>\n",
              "</table>\n",
              "</div>\n",
              "      <button class=\"colab-df-convert\" onclick=\"convertToInteractive('df-a0e53e25-80df-4ecb-95d5-9f96afb4ad48')\"\n",
              "              title=\"Convert this dataframe to an interactive table.\"\n",
              "              style=\"display:none;\">\n",
              "        \n",
              "  <svg xmlns=\"http://www.w3.org/2000/svg\" height=\"24px\"viewBox=\"0 0 24 24\"\n",
              "       width=\"24px\">\n",
              "    <path d=\"M0 0h24v24H0V0z\" fill=\"none\"/>\n",
              "    <path d=\"M18.56 5.44l.94 2.06.94-2.06 2.06-.94-2.06-.94-.94-2.06-.94 2.06-2.06.94zm-11 1L8.5 8.5l.94-2.06 2.06-.94-2.06-.94L8.5 2.5l-.94 2.06-2.06.94zm10 10l.94 2.06.94-2.06 2.06-.94-2.06-.94-.94-2.06-.94 2.06-2.06.94z\"/><path d=\"M17.41 7.96l-1.37-1.37c-.4-.4-.92-.59-1.43-.59-.52 0-1.04.2-1.43.59L10.3 9.45l-7.72 7.72c-.78.78-.78 2.05 0 2.83L4 21.41c.39.39.9.59 1.41.59.51 0 1.02-.2 1.41-.59l7.78-7.78 2.81-2.81c.8-.78.8-2.07 0-2.86zM5.41 20L4 18.59l7.72-7.72 1.47 1.35L5.41 20z\"/>\n",
              "  </svg>\n",
              "      </button>\n",
              "      \n",
              "  <style>\n",
              "    .colab-df-container {\n",
              "      display:flex;\n",
              "      flex-wrap:wrap;\n",
              "      gap: 12px;\n",
              "    }\n",
              "\n",
              "    .colab-df-convert {\n",
              "      background-color: #E8F0FE;\n",
              "      border: none;\n",
              "      border-radius: 50%;\n",
              "      cursor: pointer;\n",
              "      display: none;\n",
              "      fill: #1967D2;\n",
              "      height: 32px;\n",
              "      padding: 0 0 0 0;\n",
              "      width: 32px;\n",
              "    }\n",
              "\n",
              "    .colab-df-convert:hover {\n",
              "      background-color: #E2EBFA;\n",
              "      box-shadow: 0px 1px 2px rgba(60, 64, 67, 0.3), 0px 1px 3px 1px rgba(60, 64, 67, 0.15);\n",
              "      fill: #174EA6;\n",
              "    }\n",
              "\n",
              "    [theme=dark] .colab-df-convert {\n",
              "      background-color: #3B4455;\n",
              "      fill: #D2E3FC;\n",
              "    }\n",
              "\n",
              "    [theme=dark] .colab-df-convert:hover {\n",
              "      background-color: #434B5C;\n",
              "      box-shadow: 0px 1px 3px 1px rgba(0, 0, 0, 0.15);\n",
              "      filter: drop-shadow(0px 1px 2px rgba(0, 0, 0, 0.3));\n",
              "      fill: #FFFFFF;\n",
              "    }\n",
              "  </style>\n",
              "\n",
              "      <script>\n",
              "        const buttonEl =\n",
              "          document.querySelector('#df-a0e53e25-80df-4ecb-95d5-9f96afb4ad48 button.colab-df-convert');\n",
              "        buttonEl.style.display =\n",
              "          google.colab.kernel.accessAllowed ? 'block' : 'none';\n",
              "\n",
              "        async function convertToInteractive(key) {\n",
              "          const element = document.querySelector('#df-a0e53e25-80df-4ecb-95d5-9f96afb4ad48');\n",
              "          const dataTable =\n",
              "            await google.colab.kernel.invokeFunction('convertToInteractive',\n",
              "                                                     [key], {});\n",
              "          if (!dataTable) return;\n",
              "\n",
              "          const docLinkHtml = 'Like what you see? Visit the ' +\n",
              "            '<a target=\"_blank\" href=https://colab.research.google.com/notebooks/data_table.ipynb>data table notebook</a>'\n",
              "            + ' to learn more about interactive tables.';\n",
              "          element.innerHTML = '';\n",
              "          dataTable['output_type'] = 'display_data';\n",
              "          await google.colab.output.renderOutput(dataTable, element);\n",
              "          const docLink = document.createElement('div');\n",
              "          docLink.innerHTML = docLinkHtml;\n",
              "          element.appendChild(docLink);\n",
              "        }\n",
              "      </script>\n",
              "    </div>\n",
              "  </div>\n",
              "  "
            ]
          },
          "metadata": {},
          "execution_count": 322
        }
      ]
    },
    {
      "cell_type": "code",
      "source": [
        "anime_df.isna().sum()"
      ],
      "metadata": {
        "colab": {
          "base_uri": "https://localhost:8080/"
        },
        "id": "AdmKIUfRQqA0",
        "outputId": "3c07747e-c4a4-4aad-a8d6-18dab5ee1c9a"
      },
      "execution_count": 323,
      "outputs": [
        {
          "output_type": "execute_result",
          "data": {
            "text/plain": [
              "title          0\n",
              "Description    3\n",
              "Type           0\n",
              "anime_id       0\n",
              "genres         0\n",
              "studios        0\n",
              "dtype: int64"
            ]
          },
          "metadata": {},
          "execution_count": 323
        }
      ]
    },
    {
      "cell_type": "code",
      "source": [
        "anime_df.dropna(inplace=True)"
      ],
      "metadata": {
        "id": "lK4jCqrGQxlR"
      },
      "execution_count": 324,
      "outputs": []
    },
    {
      "cell_type": "code",
      "source": [
        "anime_df.isna().sum()"
      ],
      "metadata": {
        "colab": {
          "base_uri": "https://localhost:8080/"
        },
        "id": "1f7bVurJRLgk",
        "outputId": "d1c88608-46da-4452-8bcb-400b811b5f4b"
      },
      "execution_count": 325,
      "outputs": [
        {
          "output_type": "execute_result",
          "data": {
            "text/plain": [
              "title          0\n",
              "Description    0\n",
              "Type           0\n",
              "anime_id       0\n",
              "genres         0\n",
              "studios        0\n",
              "dtype: int64"
            ]
          },
          "metadata": {},
          "execution_count": 325
        }
      ]
    },
    {
      "cell_type": "code",
      "source": [
        "anime_df[\"genres\"].value_counts()"
      ],
      "metadata": {
        "colab": {
          "base_uri": "https://localhost:8080/"
        },
        "id": "ZbHKIRcVR_qm",
        "outputId": "ad458b34-c140-4cff-d436-a064eb057166"
      },
      "execution_count": 326,
      "outputs": [
        {
          "output_type": "execute_result",
          "data": {
            "text/plain": [
              "[]                                                                                               1582\n",
              "['Comedy']                                                                                        799\n",
              "['Fantasy']                                                                                       315\n",
              "['Slice of Life']                                                                                 278\n",
              "['Comedy', 'Slice of Life']                                                                       249\n",
              "                                                                                                 ... \n",
              "['Action', 'Adventure', 'Comedy', 'Drama', 'Ecchi', 'Horror', 'Mystery', 'Romance', 'Sci-Fi']       1\n",
              "['Action', 'Adventure', 'Comedy', 'Mystery', 'Romance']                                             1\n",
              "['Mystery', 'Suspense']                                                                             1\n",
              "['Adventure', 'Comedy', 'Drama', 'Fantasy', 'Sci-Fi', 'Slice of Life', 'Supernatural']              1\n",
              "['Horror', 'Suspense']                                                                              1\n",
              "Name: genres, Length: 551, dtype: int64"
            ]
          },
          "metadata": {},
          "execution_count": 326
        }
      ]
    },
    {
      "cell_type": "code",
      "source": [
        "anime_df.replace(\"[]\" , np.nan , inplace = True)\n",
        "anime_df.dropna(inplace=True)"
      ],
      "metadata": {
        "id": "SlV9Afq4W5Dm"
      },
      "execution_count": 327,
      "outputs": []
    },
    {
      "cell_type": "code",
      "source": [
        "anime_df.duplicated().sum()\n",
        "anime_df.drop_duplicates(inplace = True)"
      ],
      "metadata": {
        "id": "LOxCKP6TRTRR"
      },
      "execution_count": 328,
      "outputs": []
    },
    {
      "cell_type": "code",
      "source": [
        "anime_df.duplicated().sum()"
      ],
      "metadata": {
        "colab": {
          "base_uri": "https://localhost:8080/"
        },
        "id": "Pa0XpjSHShJ6",
        "outputId": "714ed71e-3a77-4607-e50d-94e1798fd646"
      },
      "execution_count": 329,
      "outputs": [
        {
          "output_type": "execute_result",
          "data": {
            "text/plain": [
              "0"
            ]
          },
          "metadata": {},
          "execution_count": 329
        }
      ]
    },
    {
      "cell_type": "code",
      "source": [
        "anime_df.shape"
      ],
      "metadata": {
        "id": "zQeNj21KSaqG",
        "colab": {
          "base_uri": "https://localhost:8080/"
        },
        "outputId": "0116e6cb-9a75-4ad3-f842-2f5c3093c2c7"
      },
      "execution_count": 330,
      "outputs": [
        {
          "output_type": "execute_result",
          "data": {
            "text/plain": [
              "(4199, 6)"
            ]
          },
          "metadata": {},
          "execution_count": 330
        }
      ]
    },
    {
      "cell_type": "code",
      "source": [
        "import ast \n",
        "anime_df[\"studios\"]=anime_df[\"studios\"].replace(\"'\",\"\")\n",
        "anime_df[\"studios\"]=anime_df[\"studios\"].apply(ast.literal_eval)"
      ],
      "metadata": {
        "id": "-wZVkGGlG4Ar"
      },
      "execution_count": 331,
      "outputs": []
    },
    {
      "cell_type": "code",
      "source": [
        "anime_df[\"studios\"].head()"
      ],
      "metadata": {
        "colab": {
          "base_uri": "https://localhost:8080/"
        },
        "id": "O0vKGdMPBdRp",
        "outputId": "5ae9cce8-974e-499b-a7cc-6f2a6254b528"
      },
      "execution_count": 332,
      "outputs": [
        {
          "output_type": "execute_result",
          "data": {
            "text/plain": [
              "0                     [Bones]\n",
              "1    [Yokohama Animation Lab]\n",
              "2            [Production I.G]\n",
              "3                  [Madhouse]\n",
              "4           [Kyoto Animation]\n",
              "Name: studios, dtype: object"
            ]
          },
          "metadata": {},
          "execution_count": 332
        }
      ]
    },
    {
      "cell_type": "code",
      "source": [
        "anime_df[\"genres\"]=anime_df[\"genres\"].apply(ast.literal_eval)"
      ],
      "metadata": {
        "id": "sCIm1Qi6CxOm"
      },
      "execution_count": 333,
      "outputs": []
    },
    {
      "cell_type": "code",
      "source": [
        "#anime_df[\"Description\"]=anime_df[\"Description\"].apply(lambda x:x.split())"
      ],
      "metadata": {
        "id": "qX7qNkU9IBt5"
      },
      "execution_count": 334,
      "outputs": []
    },
    {
      "cell_type": "code",
      "source": [
        "type(anime_df[\"Description\"]) , type(anime_df[\"studios\"])"
      ],
      "metadata": {
        "colab": {
          "base_uri": "https://localhost:8080/"
        },
        "id": "kxEo43vTIzwm",
        "outputId": "9c3e493d-9c7f-4114-bde9-f68b556fde55"
      },
      "execution_count": 335,
      "outputs": [
        {
          "output_type": "execute_result",
          "data": {
            "text/plain": [
              "(pandas.core.series.Series, pandas.core.series.Series)"
            ]
          },
          "metadata": {},
          "execution_count": 335
        }
      ]
    },
    {
      "cell_type": "code",
      "source": [
        "anime_df[\"genres\"].head()"
      ],
      "metadata": {
        "colab": {
          "base_uri": "https://localhost:8080/"
        },
        "id": "maCpnWl7H6Fo",
        "outputId": "ba8600aa-c102-4b94-ba41-849824ebb049"
      },
      "execution_count": 336,
      "outputs": [
        {
          "output_type": "execute_result",
          "data": {
            "text/plain": [
              "0    [Action, Adventure, Drama, Fantasy]\n",
              "1                              [Fantasy]\n",
              "2                               [Sports]\n",
              "3           [Action, Adventure, Fantasy]\n",
              "4        [Drama, Fantasy, Slice of Life]\n",
              "Name: genres, dtype: object"
            ]
          },
          "metadata": {},
          "execution_count": 336
        }
      ]
    },
    {
      "cell_type": "code",
      "source": [
        "anime_df.head()"
      ],
      "metadata": {
        "colab": {
          "base_uri": "https://localhost:8080/",
          "height": 206
        },
        "id": "wQZWLs66J5uY",
        "outputId": "9f2e698e-4e91-4959-9397-1c94bc491832"
      },
      "execution_count": 338,
      "outputs": [
        {
          "output_type": "execute_result",
          "data": {
            "text/plain": [
              "                              title  \\\n",
              "0  Fullmetal Alchemist: Brotherhood   \n",
              "1                    Jujutsu Kaisen   \n",
              "2           Haikyuu!! Second Season   \n",
              "3            Hunter x Hunter (2011)   \n",
              "4           Violet Evergarden Movie   \n",
              "\n",
              "                                         Description   Type  anime_id  \\\n",
              "0  \"The foundation of alchemy is based on the law...  TV         5114   \n",
              "1  'Although Yuji Itadori looks like your average...  TV        38777   \n",
              "2  \"After losing to Aoba Johsai at the Inter-High...  TV        28891   \n",
              "3  'Drawn to the mystique of the unknown, Hunters...  TV        11061   \n",
              "4  'As the world moves on from the war and techno...  Movie     37987   \n",
              "\n",
              "                                genres                   studios  \n",
              "0  [Action, Adventure, Drama, Fantasy]                   [Bones]  \n",
              "1                            [Fantasy]  [Yokohama Animation Lab]  \n",
              "2                             [Sports]          [Production I.G]  \n",
              "3         [Action, Adventure, Fantasy]                [Madhouse]  \n",
              "4      [Drama, Fantasy, Slice of Life]         [Kyoto Animation]  "
            ],
            "text/html": [
              "\n",
              "  <div id=\"df-f396cdfa-9cdb-440b-913e-42a0c735f2dc\">\n",
              "    <div class=\"colab-df-container\">\n",
              "      <div>\n",
              "<style scoped>\n",
              "    .dataframe tbody tr th:only-of-type {\n",
              "        vertical-align: middle;\n",
              "    }\n",
              "\n",
              "    .dataframe tbody tr th {\n",
              "        vertical-align: top;\n",
              "    }\n",
              "\n",
              "    .dataframe thead th {\n",
              "        text-align: right;\n",
              "    }\n",
              "</style>\n",
              "<table border=\"1\" class=\"dataframe\">\n",
              "  <thead>\n",
              "    <tr style=\"text-align: right;\">\n",
              "      <th></th>\n",
              "      <th>title</th>\n",
              "      <th>Description</th>\n",
              "      <th>Type</th>\n",
              "      <th>anime_id</th>\n",
              "      <th>genres</th>\n",
              "      <th>studios</th>\n",
              "    </tr>\n",
              "  </thead>\n",
              "  <tbody>\n",
              "    <tr>\n",
              "      <th>0</th>\n",
              "      <td>Fullmetal Alchemist: Brotherhood</td>\n",
              "      <td>\"The foundation of alchemy is based on the law...</td>\n",
              "      <td>TV</td>\n",
              "      <td>5114</td>\n",
              "      <td>[Action, Adventure, Drama, Fantasy]</td>\n",
              "      <td>[Bones]</td>\n",
              "    </tr>\n",
              "    <tr>\n",
              "      <th>1</th>\n",
              "      <td>Jujutsu Kaisen</td>\n",
              "      <td>'Although Yuji Itadori looks like your average...</td>\n",
              "      <td>TV</td>\n",
              "      <td>38777</td>\n",
              "      <td>[Fantasy]</td>\n",
              "      <td>[Yokohama Animation Lab]</td>\n",
              "    </tr>\n",
              "    <tr>\n",
              "      <th>2</th>\n",
              "      <td>Haikyuu!! Second Season</td>\n",
              "      <td>\"After losing to Aoba Johsai at the Inter-High...</td>\n",
              "      <td>TV</td>\n",
              "      <td>28891</td>\n",
              "      <td>[Sports]</td>\n",
              "      <td>[Production I.G]</td>\n",
              "    </tr>\n",
              "    <tr>\n",
              "      <th>3</th>\n",
              "      <td>Hunter x Hunter (2011)</td>\n",
              "      <td>'Drawn to the mystique of the unknown, Hunters...</td>\n",
              "      <td>TV</td>\n",
              "      <td>11061</td>\n",
              "      <td>[Action, Adventure, Fantasy]</td>\n",
              "      <td>[Madhouse]</td>\n",
              "    </tr>\n",
              "    <tr>\n",
              "      <th>4</th>\n",
              "      <td>Violet Evergarden Movie</td>\n",
              "      <td>'As the world moves on from the war and techno...</td>\n",
              "      <td>Movie</td>\n",
              "      <td>37987</td>\n",
              "      <td>[Drama, Fantasy, Slice of Life]</td>\n",
              "      <td>[Kyoto Animation]</td>\n",
              "    </tr>\n",
              "  </tbody>\n",
              "</table>\n",
              "</div>\n",
              "      <button class=\"colab-df-convert\" onclick=\"convertToInteractive('df-f396cdfa-9cdb-440b-913e-42a0c735f2dc')\"\n",
              "              title=\"Convert this dataframe to an interactive table.\"\n",
              "              style=\"display:none;\">\n",
              "        \n",
              "  <svg xmlns=\"http://www.w3.org/2000/svg\" height=\"24px\"viewBox=\"0 0 24 24\"\n",
              "       width=\"24px\">\n",
              "    <path d=\"M0 0h24v24H0V0z\" fill=\"none\"/>\n",
              "    <path d=\"M18.56 5.44l.94 2.06.94-2.06 2.06-.94-2.06-.94-.94-2.06-.94 2.06-2.06.94zm-11 1L8.5 8.5l.94-2.06 2.06-.94-2.06-.94L8.5 2.5l-.94 2.06-2.06.94zm10 10l.94 2.06.94-2.06 2.06-.94-2.06-.94-.94-2.06-.94 2.06-2.06.94z\"/><path d=\"M17.41 7.96l-1.37-1.37c-.4-.4-.92-.59-1.43-.59-.52 0-1.04.2-1.43.59L10.3 9.45l-7.72 7.72c-.78.78-.78 2.05 0 2.83L4 21.41c.39.39.9.59 1.41.59.51 0 1.02-.2 1.41-.59l7.78-7.78 2.81-2.81c.8-.78.8-2.07 0-2.86zM5.41 20L4 18.59l7.72-7.72 1.47 1.35L5.41 20z\"/>\n",
              "  </svg>\n",
              "      </button>\n",
              "      \n",
              "  <style>\n",
              "    .colab-df-container {\n",
              "      display:flex;\n",
              "      flex-wrap:wrap;\n",
              "      gap: 12px;\n",
              "    }\n",
              "\n",
              "    .colab-df-convert {\n",
              "      background-color: #E8F0FE;\n",
              "      border: none;\n",
              "      border-radius: 50%;\n",
              "      cursor: pointer;\n",
              "      display: none;\n",
              "      fill: #1967D2;\n",
              "      height: 32px;\n",
              "      padding: 0 0 0 0;\n",
              "      width: 32px;\n",
              "    }\n",
              "\n",
              "    .colab-df-convert:hover {\n",
              "      background-color: #E2EBFA;\n",
              "      box-shadow: 0px 1px 2px rgba(60, 64, 67, 0.3), 0px 1px 3px 1px rgba(60, 64, 67, 0.15);\n",
              "      fill: #174EA6;\n",
              "    }\n",
              "\n",
              "    [theme=dark] .colab-df-convert {\n",
              "      background-color: #3B4455;\n",
              "      fill: #D2E3FC;\n",
              "    }\n",
              "\n",
              "    [theme=dark] .colab-df-convert:hover {\n",
              "      background-color: #434B5C;\n",
              "      box-shadow: 0px 1px 3px 1px rgba(0, 0, 0, 0.15);\n",
              "      filter: drop-shadow(0px 1px 2px rgba(0, 0, 0, 0.3));\n",
              "      fill: #FFFFFF;\n",
              "    }\n",
              "  </style>\n",
              "\n",
              "      <script>\n",
              "        const buttonEl =\n",
              "          document.querySelector('#df-f396cdfa-9cdb-440b-913e-42a0c735f2dc button.colab-df-convert');\n",
              "        buttonEl.style.display =\n",
              "          google.colab.kernel.accessAllowed ? 'block' : 'none';\n",
              "\n",
              "        async function convertToInteractive(key) {\n",
              "          const element = document.querySelector('#df-f396cdfa-9cdb-440b-913e-42a0c735f2dc');\n",
              "          const dataTable =\n",
              "            await google.colab.kernel.invokeFunction('convertToInteractive',\n",
              "                                                     [key], {});\n",
              "          if (!dataTable) return;\n",
              "\n",
              "          const docLinkHtml = 'Like what you see? Visit the ' +\n",
              "            '<a target=\"_blank\" href=https://colab.research.google.com/notebooks/data_table.ipynb>data table notebook</a>'\n",
              "            + ' to learn more about interactive tables.';\n",
              "          element.innerHTML = '';\n",
              "          dataTable['output_type'] = 'display_data';\n",
              "          await google.colab.output.renderOutput(dataTable, element);\n",
              "          const docLink = document.createElement('div');\n",
              "          docLink.innerHTML = docLinkHtml;\n",
              "          element.appendChild(docLink);\n",
              "        }\n",
              "      </script>\n",
              "    </div>\n",
              "  </div>\n",
              "  "
            ]
          },
          "metadata": {},
          "execution_count": 338
        }
      ]
    },
    {
      "cell_type": "code",
      "source": [
        "anime_df[\"Description\"]"
      ],
      "metadata": {
        "colab": {
          "base_uri": "https://localhost:8080/"
        },
        "id": "CujtBtnaJ_NI",
        "outputId": "4503fac8-3832-493c-ca64-86c4d1f86c39"
      },
      "execution_count": 339,
      "outputs": [
        {
          "output_type": "execute_result",
          "data": {
            "text/plain": [
              "0       \"The foundation of alchemy is based on the law...\n",
              "1       'Although Yuji Itadori looks like your average...\n",
              "2       \"After losing to Aoba Johsai at the Inter-High...\n",
              "3       'Drawn to the mystique of the unknown, Hunters...\n",
              "4       'As the world moves on from the war and techno...\n",
              "                              ...                        \n",
              "7964                   No synopsis yet - check back soon!\n",
              "7974                   No synopsis yet - check back soon!\n",
              "7975                   No synopsis yet - check back soon!\n",
              "7977    On a cold planet of ice and snow, mysterious c...\n",
              "7978    The story follows the daily life of Fushihara,...\n",
              "Name: Description, Length: 4199, dtype: object"
            ]
          },
          "metadata": {},
          "execution_count": 339
        }
      ]
    },
    {
      "cell_type": "code",
      "source": [
        "anime_df[\"Description\"].value_counts()"
      ],
      "metadata": {
        "id": "E5NtXdXEODRC"
      },
      "execution_count": null,
      "outputs": []
    },
    {
      "cell_type": "code",
      "source": [
        "anime_df.replace(\"'No synopsis yet - check back soon!'\" , np.nan , inplace = True)\n",
        "anime_df.replace(\"No synopsis yet - check back soon!\" , np.nan , inplace = True)"
      ],
      "metadata": {
        "id": "JdeOYIpyOVtv"
      },
      "execution_count": 341,
      "outputs": []
    },
    {
      "cell_type": "code",
      "source": [
        "anime_df.isna().sum()"
      ],
      "metadata": {
        "colab": {
          "base_uri": "https://localhost:8080/"
        },
        "id": "NdK_BEHTPl_Y",
        "outputId": "a3dd33bc-e77e-4ce4-9a0d-cab3546aa0f2"
      },
      "execution_count": 342,
      "outputs": [
        {
          "output_type": "execute_result",
          "data": {
            "text/plain": [
              "title             0\n",
              "Description    1262\n",
              "Type              0\n",
              "anime_id          0\n",
              "genres            0\n",
              "studios           0\n",
              "dtype: int64"
            ]
          },
          "metadata": {},
          "execution_count": 342
        }
      ]
    },
    {
      "cell_type": "code",
      "source": [
        "anime_df.dropna(inplace = True)"
      ],
      "metadata": {
        "id": "-KO_ioO3Pp2_"
      },
      "execution_count": 343,
      "outputs": []
    },
    {
      "cell_type": "code",
      "source": [
        "anime_df.shape"
      ],
      "metadata": {
        "colab": {
          "base_uri": "https://localhost:8080/"
        },
        "id": "T7dOnGwWQInp",
        "outputId": "25bfe044-cc4a-4e4c-b776-8926382b88ce"
      },
      "execution_count": 344,
      "outputs": [
        {
          "output_type": "execute_result",
          "data": {
            "text/plain": [
              "(2937, 6)"
            ]
          },
          "metadata": {},
          "execution_count": 344
        }
      ]
    },
    {
      "cell_type": "code",
      "source": [
        "anime_df[\"Description\"].head()"
      ],
      "metadata": {
        "colab": {
          "base_uri": "https://localhost:8080/"
        },
        "id": "ziPhdhsHQQMN",
        "outputId": "43766dfe-815c-47dd-a7ac-4bcc70fb90ce"
      },
      "execution_count": 345,
      "outputs": [
        {
          "output_type": "execute_result",
          "data": {
            "text/plain": [
              "0    \"The foundation of alchemy is based on the law...\n",
              "1    'Although Yuji Itadori looks like your average...\n",
              "2    \"After losing to Aoba Johsai at the Inter-High...\n",
              "3    'Drawn to the mystique of the unknown, Hunters...\n",
              "4    'As the world moves on from the war and techno...\n",
              "Name: Description, dtype: object"
            ]
          },
          "metadata": {},
          "execution_count": 345
        }
      ]
    },
    {
      "cell_type": "code",
      "source": [
        "anime_df[\"Description\"] = [i.replace(\"'\",\"\")for i in anime_df[\"Description\"]]\n",
        "anime_df[\"Description\"] = [i.replace(\",\",\"\")for i in anime_df[\"Description\"]]\n",
        "anime_df[\"Description\"] = [i.replace('\"',\"\")for i in anime_df[\"Description\"]]\n",
        "anime_df[\"Description\"] = [i.replace('-',\"\")for i in anime_df[\"Description\"]]"
      ],
      "metadata": {
        "id": "GxnjZ44rQk0O"
      },
      "execution_count": 346,
      "outputs": []
    },
    {
      "cell_type": "code",
      "source": [
        "anime_df[\"Description\"].head()"
      ],
      "metadata": {
        "colab": {
          "base_uri": "https://localhost:8080/"
        },
        "id": "6_EkICczRQOH",
        "outputId": "96be6bea-df15-4058-dc9e-23f45926949d"
      },
      "execution_count": 347,
      "outputs": [
        {
          "output_type": "execute_result",
          "data": {
            "text/plain": [
              "0    The foundation of alchemy is based on the law ...\n",
              "1    Although Yuji Itadori looks like your average ...\n",
              "2    After losing to Aoba Johsai at the InterHigh t...\n",
              "3    Drawn to the mystique of the unknown Hunters t...\n",
              "4    As the world moves on from the war and technol...\n",
              "Name: Description, dtype: object"
            ]
          },
          "metadata": {},
          "execution_count": 347
        }
      ]
    },
    {
      "cell_type": "code",
      "source": [
        "anime_df[\"Description\"]=anime_df[\"Description\"].apply(lambda x:x.split())"
      ],
      "metadata": {
        "id": "n7W0Iq33D_sF"
      },
      "execution_count": 348,
      "outputs": []
    },
    {
      "cell_type": "code",
      "source": [
        "anime_df[\"Description\"].head()"
      ],
      "metadata": {
        "colab": {
          "base_uri": "https://localhost:8080/"
        },
        "id": "ThaEbRD1EE8O",
        "outputId": "61abffd2-a273-473e-f012-a1428930f85d"
      },
      "execution_count": 349,
      "outputs": [
        {
          "output_type": "execute_result",
          "data": {
            "text/plain": [
              "0    [The, foundation, of, alchemy, is, based, on, ...\n",
              "1    [Although, Yuji, Itadori, looks, like, your, a...\n",
              "2    [After, losing, to, Aoba, Johsai, at, the, Int...\n",
              "3    [Drawn, to, the, mystique, of, the, unknown, H...\n",
              "4    [As, the, world, moves, on, from, the, war, an...\n",
              "Name: Description, dtype: object"
            ]
          },
          "metadata": {},
          "execution_count": 349
        }
      ]
    },
    {
      "cell_type": "code",
      "source": [
        "anime_df[\"Tags\"] = anime_df[\"genres\"] + anime_df[\"studios\"] + anime_df[\"Description\"]"
      ],
      "metadata": {
        "id": "5nK7UUwjTOUr"
      },
      "execution_count": 350,
      "outputs": []
    },
    {
      "cell_type": "code",
      "source": [
        "type(anime_df[\"genres\"]) , type(anime_df[\"studios\"]) , type(anime_df[\"Description\"])"
      ],
      "metadata": {
        "id": "9rNHjiaLT_of"
      },
      "execution_count": null,
      "outputs": []
    },
    {
      "cell_type": "code",
      "source": [
        "anime_df.head()"
      ],
      "metadata": {
        "colab": {
          "base_uri": "https://localhost:8080/",
          "height": 337
        },
        "id": "WFaLa09qURtQ",
        "outputId": "3bd605d1-515b-494e-a488-d95746e89693"
      },
      "execution_count": 352,
      "outputs": [
        {
          "output_type": "execute_result",
          "data": {
            "text/plain": [
              "                              title  \\\n",
              "0  Fullmetal Alchemist: Brotherhood   \n",
              "1                    Jujutsu Kaisen   \n",
              "2           Haikyuu!! Second Season   \n",
              "3            Hunter x Hunter (2011)   \n",
              "4           Violet Evergarden Movie   \n",
              "\n",
              "                                         Description   Type  anime_id  \\\n",
              "0  [The, foundation, of, alchemy, is, based, on, ...  TV         5114   \n",
              "1  [Although, Yuji, Itadori, looks, like, your, a...  TV        38777   \n",
              "2  [After, losing, to, Aoba, Johsai, at, the, Int...  TV        28891   \n",
              "3  [Drawn, to, the, mystique, of, the, unknown, H...  TV        11061   \n",
              "4  [As, the, world, moves, on, from, the, war, an...  Movie     37987   \n",
              "\n",
              "                                genres                   studios  \\\n",
              "0  [Action, Adventure, Drama, Fantasy]                   [Bones]   \n",
              "1                            [Fantasy]  [Yokohama Animation Lab]   \n",
              "2                             [Sports]          [Production I.G]   \n",
              "3         [Action, Adventure, Fantasy]                [Madhouse]   \n",
              "4      [Drama, Fantasy, Slice of Life]         [Kyoto Animation]   \n",
              "\n",
              "                                                Tags  \n",
              "0  [Action, Adventure, Drama, Fantasy, Bones, The...  \n",
              "1  [Fantasy, Yokohama Animation Lab, Although, Yu...  \n",
              "2  [Sports, Production I.G, After, losing, to, Ao...  \n",
              "3  [Action, Adventure, Fantasy, Madhouse, Drawn, ...  \n",
              "4  [Drama, Fantasy, Slice of Life, Kyoto Animatio...  "
            ],
            "text/html": [
              "\n",
              "  <div id=\"df-d673cf9f-04f6-4260-a10e-318a701aea6d\">\n",
              "    <div class=\"colab-df-container\">\n",
              "      <div>\n",
              "<style scoped>\n",
              "    .dataframe tbody tr th:only-of-type {\n",
              "        vertical-align: middle;\n",
              "    }\n",
              "\n",
              "    .dataframe tbody tr th {\n",
              "        vertical-align: top;\n",
              "    }\n",
              "\n",
              "    .dataframe thead th {\n",
              "        text-align: right;\n",
              "    }\n",
              "</style>\n",
              "<table border=\"1\" class=\"dataframe\">\n",
              "  <thead>\n",
              "    <tr style=\"text-align: right;\">\n",
              "      <th></th>\n",
              "      <th>title</th>\n",
              "      <th>Description</th>\n",
              "      <th>Type</th>\n",
              "      <th>anime_id</th>\n",
              "      <th>genres</th>\n",
              "      <th>studios</th>\n",
              "      <th>Tags</th>\n",
              "    </tr>\n",
              "  </thead>\n",
              "  <tbody>\n",
              "    <tr>\n",
              "      <th>0</th>\n",
              "      <td>Fullmetal Alchemist: Brotherhood</td>\n",
              "      <td>[The, foundation, of, alchemy, is, based, on, ...</td>\n",
              "      <td>TV</td>\n",
              "      <td>5114</td>\n",
              "      <td>[Action, Adventure, Drama, Fantasy]</td>\n",
              "      <td>[Bones]</td>\n",
              "      <td>[Action, Adventure, Drama, Fantasy, Bones, The...</td>\n",
              "    </tr>\n",
              "    <tr>\n",
              "      <th>1</th>\n",
              "      <td>Jujutsu Kaisen</td>\n",
              "      <td>[Although, Yuji, Itadori, looks, like, your, a...</td>\n",
              "      <td>TV</td>\n",
              "      <td>38777</td>\n",
              "      <td>[Fantasy]</td>\n",
              "      <td>[Yokohama Animation Lab]</td>\n",
              "      <td>[Fantasy, Yokohama Animation Lab, Although, Yu...</td>\n",
              "    </tr>\n",
              "    <tr>\n",
              "      <th>2</th>\n",
              "      <td>Haikyuu!! Second Season</td>\n",
              "      <td>[After, losing, to, Aoba, Johsai, at, the, Int...</td>\n",
              "      <td>TV</td>\n",
              "      <td>28891</td>\n",
              "      <td>[Sports]</td>\n",
              "      <td>[Production I.G]</td>\n",
              "      <td>[Sports, Production I.G, After, losing, to, Ao...</td>\n",
              "    </tr>\n",
              "    <tr>\n",
              "      <th>3</th>\n",
              "      <td>Hunter x Hunter (2011)</td>\n",
              "      <td>[Drawn, to, the, mystique, of, the, unknown, H...</td>\n",
              "      <td>TV</td>\n",
              "      <td>11061</td>\n",
              "      <td>[Action, Adventure, Fantasy]</td>\n",
              "      <td>[Madhouse]</td>\n",
              "      <td>[Action, Adventure, Fantasy, Madhouse, Drawn, ...</td>\n",
              "    </tr>\n",
              "    <tr>\n",
              "      <th>4</th>\n",
              "      <td>Violet Evergarden Movie</td>\n",
              "      <td>[As, the, world, moves, on, from, the, war, an...</td>\n",
              "      <td>Movie</td>\n",
              "      <td>37987</td>\n",
              "      <td>[Drama, Fantasy, Slice of Life]</td>\n",
              "      <td>[Kyoto Animation]</td>\n",
              "      <td>[Drama, Fantasy, Slice of Life, Kyoto Animatio...</td>\n",
              "    </tr>\n",
              "  </tbody>\n",
              "</table>\n",
              "</div>\n",
              "      <button class=\"colab-df-convert\" onclick=\"convertToInteractive('df-d673cf9f-04f6-4260-a10e-318a701aea6d')\"\n",
              "              title=\"Convert this dataframe to an interactive table.\"\n",
              "              style=\"display:none;\">\n",
              "        \n",
              "  <svg xmlns=\"http://www.w3.org/2000/svg\" height=\"24px\"viewBox=\"0 0 24 24\"\n",
              "       width=\"24px\">\n",
              "    <path d=\"M0 0h24v24H0V0z\" fill=\"none\"/>\n",
              "    <path d=\"M18.56 5.44l.94 2.06.94-2.06 2.06-.94-2.06-.94-.94-2.06-.94 2.06-2.06.94zm-11 1L8.5 8.5l.94-2.06 2.06-.94-2.06-.94L8.5 2.5l-.94 2.06-2.06.94zm10 10l.94 2.06.94-2.06 2.06-.94-2.06-.94-.94-2.06-.94 2.06-2.06.94z\"/><path d=\"M17.41 7.96l-1.37-1.37c-.4-.4-.92-.59-1.43-.59-.52 0-1.04.2-1.43.59L10.3 9.45l-7.72 7.72c-.78.78-.78 2.05 0 2.83L4 21.41c.39.39.9.59 1.41.59.51 0 1.02-.2 1.41-.59l7.78-7.78 2.81-2.81c.8-.78.8-2.07 0-2.86zM5.41 20L4 18.59l7.72-7.72 1.47 1.35L5.41 20z\"/>\n",
              "  </svg>\n",
              "      </button>\n",
              "      \n",
              "  <style>\n",
              "    .colab-df-container {\n",
              "      display:flex;\n",
              "      flex-wrap:wrap;\n",
              "      gap: 12px;\n",
              "    }\n",
              "\n",
              "    .colab-df-convert {\n",
              "      background-color: #E8F0FE;\n",
              "      border: none;\n",
              "      border-radius: 50%;\n",
              "      cursor: pointer;\n",
              "      display: none;\n",
              "      fill: #1967D2;\n",
              "      height: 32px;\n",
              "      padding: 0 0 0 0;\n",
              "      width: 32px;\n",
              "    }\n",
              "\n",
              "    .colab-df-convert:hover {\n",
              "      background-color: #E2EBFA;\n",
              "      box-shadow: 0px 1px 2px rgba(60, 64, 67, 0.3), 0px 1px 3px 1px rgba(60, 64, 67, 0.15);\n",
              "      fill: #174EA6;\n",
              "    }\n",
              "\n",
              "    [theme=dark] .colab-df-convert {\n",
              "      background-color: #3B4455;\n",
              "      fill: #D2E3FC;\n",
              "    }\n",
              "\n",
              "    [theme=dark] .colab-df-convert:hover {\n",
              "      background-color: #434B5C;\n",
              "      box-shadow: 0px 1px 3px 1px rgba(0, 0, 0, 0.15);\n",
              "      filter: drop-shadow(0px 1px 2px rgba(0, 0, 0, 0.3));\n",
              "      fill: #FFFFFF;\n",
              "    }\n",
              "  </style>\n",
              "\n",
              "      <script>\n",
              "        const buttonEl =\n",
              "          document.querySelector('#df-d673cf9f-04f6-4260-a10e-318a701aea6d button.colab-df-convert');\n",
              "        buttonEl.style.display =\n",
              "          google.colab.kernel.accessAllowed ? 'block' : 'none';\n",
              "\n",
              "        async function convertToInteractive(key) {\n",
              "          const element = document.querySelector('#df-d673cf9f-04f6-4260-a10e-318a701aea6d');\n",
              "          const dataTable =\n",
              "            await google.colab.kernel.invokeFunction('convertToInteractive',\n",
              "                                                     [key], {});\n",
              "          if (!dataTable) return;\n",
              "\n",
              "          const docLinkHtml = 'Like what you see? Visit the ' +\n",
              "            '<a target=\"_blank\" href=https://colab.research.google.com/notebooks/data_table.ipynb>data table notebook</a>'\n",
              "            + ' to learn more about interactive tables.';\n",
              "          element.innerHTML = '';\n",
              "          dataTable['output_type'] = 'display_data';\n",
              "          await google.colab.output.renderOutput(dataTable, element);\n",
              "          const docLink = document.createElement('div');\n",
              "          docLink.innerHTML = docLinkHtml;\n",
              "          element.appendChild(docLink);\n",
              "        }\n",
              "      </script>\n",
              "    </div>\n",
              "  </div>\n",
              "  "
            ]
          },
          "metadata": {},
          "execution_count": 352
        }
      ]
    },
    {
      "cell_type": "code",
      "source": [
        "#multi_chars = \"[']\"\n",
        "#def convert(lst , sym): \n",
        " #for i in lst:\n",
        "  #temp_string = i\n",
        "  #for ch in sym:\n",
        "    #temp_string = temp_string.replace(ch,\"\")\n",
        "    #for j in temp_string:\n",
        "      #dta = []\n",
        "      #dta.append(j)\n",
        " #return dta     \n",
        "    "
      ],
      "metadata": {
        "id": "KnEOIOyz2vR6"
      },
      "execution_count": 353,
      "outputs": []
    },
    {
      "cell_type": "code",
      "source": [
        "anime_df[\"Tags\"]=anime_df[\"Tags\"].apply(lambda x:[i.replace(\" \",\"\")for i in x])"
      ],
      "metadata": {
        "id": "F6MVu-eP4ns5"
      },
      "execution_count": 354,
      "outputs": []
    },
    {
      "cell_type": "code",
      "source": [
        "anime_df[\"Tags\"] = anime_df[\"Tags\"].apply(lambda x:\" \".join(x))"
      ],
      "metadata": {
        "id": "UYl6SdqDE7xH"
      },
      "execution_count": 355,
      "outputs": []
    },
    {
      "cell_type": "code",
      "source": [
        "anime_df=anime_df.reset_index(drop=True)"
      ],
      "metadata": {
        "id": "fM8BNPeTGFei"
      },
      "execution_count": 356,
      "outputs": []
    },
    {
      "cell_type": "code",
      "source": [
        "animef_df = anime_df[[\"anime_id\",\"title\",\"Tags\"]]"
      ],
      "metadata": {
        "id": "bAtV8o4gF0Xb"
      },
      "execution_count": 357,
      "outputs": []
    },
    {
      "cell_type": "code",
      "source": [
        "animef_df"
      ],
      "metadata": {
        "colab": {
          "base_uri": "https://localhost:8080/",
          "height": 424
        },
        "id": "U3rMYmbGHlHI",
        "outputId": "b68038a7-fcc6-41a4-81d6-a20bcd7f9d12"
      },
      "execution_count": 358,
      "outputs": [
        {
          "output_type": "execute_result",
          "data": {
            "text/plain": [
              "      anime_id                                              title  \\\n",
              "0         5114                   Fullmetal Alchemist: Brotherhood   \n",
              "1        38777                                     Jujutsu Kaisen   \n",
              "2        28891                            Haikyuu!! Second Season   \n",
              "3        11061                             Hunter x Hunter (2011)   \n",
              "4        37987                            Violet Evergarden Movie   \n",
              "...        ...                                                ...   \n",
              "2932     51520                           Xinghe Zhizun 2nd Season   \n",
              "2933     49450                                     Oishinbo Pilot   \n",
              "2934     38006  Renmei Kuugun Koukuu Mahou Ongakutai Luminous ...   \n",
              "2935     49164                                        Make My Day   \n",
              "2936     49160        Shachiku-san wa Youjo Yuurei ni Iyasaretai.   \n",
              "\n",
              "                                                   Tags  \n",
              "0     Action Adventure Drama Fantasy Bones The found...  \n",
              "1     Fantasy YokohamaAnimationLab Although Yuji Ita...  \n",
              "2     Sports ProductionI.G After losing to Aoba Johs...  \n",
              "3     Action Adventure Fantasy Madhouse Drawn to the...  \n",
              "4     Drama Fantasy SliceofLife KyotoAnimation As th...  \n",
              "...                                                 ...  \n",
              "2932  Action Fantasy RuoHongCulture The second seaso...  \n",
              "2933  SliceofLife Shin-EiAnimation A pilot film for ...  \n",
              "2934  Sci-Fi Shaft The anime centers on a unique squ...  \n",
              "2935  Horror Suspense 5Inc. On a cold planet of ice ...  \n",
              "2936  Comedy Supernatural ProjectNo.9 The story foll...  \n",
              "\n",
              "[2937 rows x 3 columns]"
            ],
            "text/html": [
              "\n",
              "  <div id=\"df-18f896a6-f924-49c2-8ba9-8b195e33a501\">\n",
              "    <div class=\"colab-df-container\">\n",
              "      <div>\n",
              "<style scoped>\n",
              "    .dataframe tbody tr th:only-of-type {\n",
              "        vertical-align: middle;\n",
              "    }\n",
              "\n",
              "    .dataframe tbody tr th {\n",
              "        vertical-align: top;\n",
              "    }\n",
              "\n",
              "    .dataframe thead th {\n",
              "        text-align: right;\n",
              "    }\n",
              "</style>\n",
              "<table border=\"1\" class=\"dataframe\">\n",
              "  <thead>\n",
              "    <tr style=\"text-align: right;\">\n",
              "      <th></th>\n",
              "      <th>anime_id</th>\n",
              "      <th>title</th>\n",
              "      <th>Tags</th>\n",
              "    </tr>\n",
              "  </thead>\n",
              "  <tbody>\n",
              "    <tr>\n",
              "      <th>0</th>\n",
              "      <td>5114</td>\n",
              "      <td>Fullmetal Alchemist: Brotherhood</td>\n",
              "      <td>Action Adventure Drama Fantasy Bones The found...</td>\n",
              "    </tr>\n",
              "    <tr>\n",
              "      <th>1</th>\n",
              "      <td>38777</td>\n",
              "      <td>Jujutsu Kaisen</td>\n",
              "      <td>Fantasy YokohamaAnimationLab Although Yuji Ita...</td>\n",
              "    </tr>\n",
              "    <tr>\n",
              "      <th>2</th>\n",
              "      <td>28891</td>\n",
              "      <td>Haikyuu!! Second Season</td>\n",
              "      <td>Sports ProductionI.G After losing to Aoba Johs...</td>\n",
              "    </tr>\n",
              "    <tr>\n",
              "      <th>3</th>\n",
              "      <td>11061</td>\n",
              "      <td>Hunter x Hunter (2011)</td>\n",
              "      <td>Action Adventure Fantasy Madhouse Drawn to the...</td>\n",
              "    </tr>\n",
              "    <tr>\n",
              "      <th>4</th>\n",
              "      <td>37987</td>\n",
              "      <td>Violet Evergarden Movie</td>\n",
              "      <td>Drama Fantasy SliceofLife KyotoAnimation As th...</td>\n",
              "    </tr>\n",
              "    <tr>\n",
              "      <th>...</th>\n",
              "      <td>...</td>\n",
              "      <td>...</td>\n",
              "      <td>...</td>\n",
              "    </tr>\n",
              "    <tr>\n",
              "      <th>2932</th>\n",
              "      <td>51520</td>\n",
              "      <td>Xinghe Zhizun 2nd Season</td>\n",
              "      <td>Action Fantasy RuoHongCulture The second seaso...</td>\n",
              "    </tr>\n",
              "    <tr>\n",
              "      <th>2933</th>\n",
              "      <td>49450</td>\n",
              "      <td>Oishinbo Pilot</td>\n",
              "      <td>SliceofLife Shin-EiAnimation A pilot film for ...</td>\n",
              "    </tr>\n",
              "    <tr>\n",
              "      <th>2934</th>\n",
              "      <td>38006</td>\n",
              "      <td>Renmei Kuugun Koukuu Mahou Ongakutai Luminous ...</td>\n",
              "      <td>Sci-Fi Shaft The anime centers on a unique squ...</td>\n",
              "    </tr>\n",
              "    <tr>\n",
              "      <th>2935</th>\n",
              "      <td>49164</td>\n",
              "      <td>Make My Day</td>\n",
              "      <td>Horror Suspense 5Inc. On a cold planet of ice ...</td>\n",
              "    </tr>\n",
              "    <tr>\n",
              "      <th>2936</th>\n",
              "      <td>49160</td>\n",
              "      <td>Shachiku-san wa Youjo Yuurei ni Iyasaretai.</td>\n",
              "      <td>Comedy Supernatural ProjectNo.9 The story foll...</td>\n",
              "    </tr>\n",
              "  </tbody>\n",
              "</table>\n",
              "<p>2937 rows × 3 columns</p>\n",
              "</div>\n",
              "      <button class=\"colab-df-convert\" onclick=\"convertToInteractive('df-18f896a6-f924-49c2-8ba9-8b195e33a501')\"\n",
              "              title=\"Convert this dataframe to an interactive table.\"\n",
              "              style=\"display:none;\">\n",
              "        \n",
              "  <svg xmlns=\"http://www.w3.org/2000/svg\" height=\"24px\"viewBox=\"0 0 24 24\"\n",
              "       width=\"24px\">\n",
              "    <path d=\"M0 0h24v24H0V0z\" fill=\"none\"/>\n",
              "    <path d=\"M18.56 5.44l.94 2.06.94-2.06 2.06-.94-2.06-.94-.94-2.06-.94 2.06-2.06.94zm-11 1L8.5 8.5l.94-2.06 2.06-.94-2.06-.94L8.5 2.5l-.94 2.06-2.06.94zm10 10l.94 2.06.94-2.06 2.06-.94-2.06-.94-.94-2.06-.94 2.06-2.06.94z\"/><path d=\"M17.41 7.96l-1.37-1.37c-.4-.4-.92-.59-1.43-.59-.52 0-1.04.2-1.43.59L10.3 9.45l-7.72 7.72c-.78.78-.78 2.05 0 2.83L4 21.41c.39.39.9.59 1.41.59.51 0 1.02-.2 1.41-.59l7.78-7.78 2.81-2.81c.8-.78.8-2.07 0-2.86zM5.41 20L4 18.59l7.72-7.72 1.47 1.35L5.41 20z\"/>\n",
              "  </svg>\n",
              "      </button>\n",
              "      \n",
              "  <style>\n",
              "    .colab-df-container {\n",
              "      display:flex;\n",
              "      flex-wrap:wrap;\n",
              "      gap: 12px;\n",
              "    }\n",
              "\n",
              "    .colab-df-convert {\n",
              "      background-color: #E8F0FE;\n",
              "      border: none;\n",
              "      border-radius: 50%;\n",
              "      cursor: pointer;\n",
              "      display: none;\n",
              "      fill: #1967D2;\n",
              "      height: 32px;\n",
              "      padding: 0 0 0 0;\n",
              "      width: 32px;\n",
              "    }\n",
              "\n",
              "    .colab-df-convert:hover {\n",
              "      background-color: #E2EBFA;\n",
              "      box-shadow: 0px 1px 2px rgba(60, 64, 67, 0.3), 0px 1px 3px 1px rgba(60, 64, 67, 0.15);\n",
              "      fill: #174EA6;\n",
              "    }\n",
              "\n",
              "    [theme=dark] .colab-df-convert {\n",
              "      background-color: #3B4455;\n",
              "      fill: #D2E3FC;\n",
              "    }\n",
              "\n",
              "    [theme=dark] .colab-df-convert:hover {\n",
              "      background-color: #434B5C;\n",
              "      box-shadow: 0px 1px 3px 1px rgba(0, 0, 0, 0.15);\n",
              "      filter: drop-shadow(0px 1px 2px rgba(0, 0, 0, 0.3));\n",
              "      fill: #FFFFFF;\n",
              "    }\n",
              "  </style>\n",
              "\n",
              "      <script>\n",
              "        const buttonEl =\n",
              "          document.querySelector('#df-18f896a6-f924-49c2-8ba9-8b195e33a501 button.colab-df-convert');\n",
              "        buttonEl.style.display =\n",
              "          google.colab.kernel.accessAllowed ? 'block' : 'none';\n",
              "\n",
              "        async function convertToInteractive(key) {\n",
              "          const element = document.querySelector('#df-18f896a6-f924-49c2-8ba9-8b195e33a501');\n",
              "          const dataTable =\n",
              "            await google.colab.kernel.invokeFunction('convertToInteractive',\n",
              "                                                     [key], {});\n",
              "          if (!dataTable) return;\n",
              "\n",
              "          const docLinkHtml = 'Like what you see? Visit the ' +\n",
              "            '<a target=\"_blank\" href=https://colab.research.google.com/notebooks/data_table.ipynb>data table notebook</a>'\n",
              "            + ' to learn more about interactive tables.';\n",
              "          element.innerHTML = '';\n",
              "          dataTable['output_type'] = 'display_data';\n",
              "          await google.colab.output.renderOutput(dataTable, element);\n",
              "          const docLink = document.createElement('div');\n",
              "          docLink.innerHTML = docLinkHtml;\n",
              "          element.appendChild(docLink);\n",
              "        }\n",
              "      </script>\n",
              "    </div>\n",
              "  </div>\n",
              "  "
            ]
          },
          "metadata": {},
          "execution_count": 358
        }
      ]
    },
    {
      "cell_type": "code",
      "source": [
        "animef_df[\"Tags\"] = anime_df[\"Tags\"].apply(lambda x:x.lower())"
      ],
      "metadata": {
        "id": "DbK7bkCLHo2u"
      },
      "execution_count": null,
      "outputs": []
    },
    {
      "cell_type": "code",
      "source": [
        "from sklearn.feature_extraction.text import CountVectorizer\n",
        "cv=CountVectorizer(max_features=3000,stop_words=\"english\")\n",
        "from nltk.stem.porter import PorterStemmer \n",
        "ps=PorterStemmer()"
      ],
      "metadata": {
        "id": "WgP7dggfIp_q"
      },
      "execution_count": 360,
      "outputs": []
    },
    {
      "cell_type": "code",
      "source": [
        "ps.stem(\"abilities\")"
      ],
      "metadata": {
        "colab": {
          "base_uri": "https://localhost:8080/",
          "height": 35
        },
        "id": "i9obynBvNBN4",
        "outputId": "cd59676a-fdfe-47a9-d878-1ed388dd8047"
      },
      "execution_count": 361,
      "outputs": [
        {
          "output_type": "execute_result",
          "data": {
            "text/plain": [
              "'abil'"
            ],
            "application/vnd.google.colaboratory.intrinsic+json": {
              "type": "string"
            }
          },
          "metadata": {},
          "execution_count": 361
        }
      ]
    },
    {
      "cell_type": "code",
      "source": [
        "def stem(text):\n",
        "  y=[]\n",
        "\n",
        "  for i in text.split():\n",
        "    y.append(ps.stem(i))\n",
        "\n",
        "  return \" \".join(y)  "
      ],
      "metadata": {
        "id": "ykGZVQ3aM2OW"
      },
      "execution_count": 362,
      "outputs": []
    },
    {
      "cell_type": "code",
      "source": [
        "stem(animef_df[\"Tags\"][0])"
      ],
      "metadata": {
        "colab": {
          "base_uri": "https://localhost:8080/",
          "height": 105
        },
        "id": "acCZxbu0N18E",
        "outputId": "7a592c94-4736-41f6-cd20-1ddbfb570ba4"
      },
      "execution_count": 363,
      "outputs": [
        {
          "output_type": "execute_result",
          "data": {
            "text/plain": [
              "'action adventur drama fantasi bone the foundat of alchemi is base on the law of equival exchange; you cannot produc someth from nothing. as such alchemi is bound by one taboo human transmutation. four year ago two young brother edward and alphons elric broke thi taboo when they tri to resurrect their dead mother. dure the process al bodi disintegr and ed lost hi leg. in a desper attempt to prevent hi brother from disappear complet ed sacrif one of hi arm so he could affix al soul to a suit of armor. when hi miss limb are replac by auto mail part ed bear the name of the fullmet alchemist the youngest ever state alchemist and dog of the military. now alongsid hi brother ed use hi statu within the militari to attempt to find ani way that he can return their bodi back to their origin state.'"
            ],
            "application/vnd.google.colaboratory.intrinsic+json": {
              "type": "string"
            }
          },
          "metadata": {},
          "execution_count": 363
        }
      ]
    },
    {
      "cell_type": "code",
      "source": [
        "animef_df[\"Tags\"]=animef_df[\"Tags\"].apply(stem)"
      ],
      "metadata": {
        "id": "M9seqYcxOHCl"
      },
      "execution_count": null,
      "outputs": []
    },
    {
      "cell_type": "code",
      "source": [
        "vectors = cv.fit_transform(animef_df[\"Tags\"]).toarray()"
      ],
      "metadata": {
        "id": "EB1Y-4lqQ8be"
      },
      "execution_count": 365,
      "outputs": []
    },
    {
      "cell_type": "code",
      "source": [
        "from sklearn.metrics.pairwise import cosine_similarity\n",
        "cosine_similarity(vectors).shape"
      ],
      "metadata": {
        "colab": {
          "base_uri": "https://localhost:8080/"
        },
        "id": "32PmIsp4OrLr",
        "outputId": "e125082d-bdf4-4745-c61c-ed7935132e3e"
      },
      "execution_count": 366,
      "outputs": [
        {
          "output_type": "execute_result",
          "data": {
            "text/plain": [
              "(2937, 2937)"
            ]
          },
          "metadata": {},
          "execution_count": 366
        }
      ]
    },
    {
      "cell_type": "code",
      "source": [
        "similarity = cosine_similarity(vectors)"
      ],
      "metadata": {
        "id": "6AO-XHCPQSHM"
      },
      "execution_count": 367,
      "outputs": []
    },
    {
      "cell_type": "code",
      "source": [
        "similarity[0]"
      ],
      "metadata": {
        "colab": {
          "base_uri": "https://localhost:8080/"
        },
        "id": "5BNXoBIpQfWo",
        "outputId": "d3da64ea-89f6-4f80-c4e1-2bbbc4b4c135"
      },
      "execution_count": 368,
      "outputs": [
        {
          "output_type": "execute_result",
          "data": {
            "text/plain": [
              "array([1.        , 0.10868522, 0.02750067, ..., 0.        , 0.01968748,\n",
              "       0.        ])"
            ]
          },
          "metadata": {},
          "execution_count": 368
        }
      ]
    },
    {
      "cell_type": "code",
      "source": [
        "sorted(list(enumerate(similarity[0])),reverse=True,key=lambda x:x[1])"
      ],
      "metadata": {
        "colab": {
          "base_uri": "https://localhost:8080/"
        },
        "id": "W9EW9p8XVllw",
        "outputId": "5c76c4e0-7769-4962-cebc-21f36a6bfb6c"
      },
      "execution_count": 369,
      "outputs": [
        {
          "output_type": "execute_result",
          "data": {
            "text/plain": [
              "[(0, 1.0000000000000002),\n",
              " (2341, 0.4413583187717844),\n",
              " (47, 0.43312457702698676),\n",
              " (776, 0.43140788994652884),\n",
              " (75, 0.42803366691386047),\n",
              " (438, 0.4232873155770772),\n",
              " (452, 0.4222494211285681),\n",
              " (1821, 0.41937106841466293),\n",
              " (101, 0.4155199159652607),\n",
              " (72, 0.41245448421660735),\n",
              " (794, 0.4085587286199869),\n",
              " (1353, 0.40613971144718775),\n",
              " (131, 0.40383908874406593),\n",
              " (648, 0.4035933558660559),\n",
              " (879, 0.40135530772506844),\n",
              " (372, 0.39649628286477206),\n",
              " (2048, 0.3962338648265246),\n",
              " (1391, 0.3953341273759034),\n",
              " (749, 0.3952467677069581),\n",
              " (2673, 0.3950503151270584),\n",
              " (2435, 0.3919759595450326),\n",
              " (2185, 0.3913608192227547),\n",
              " (444, 0.3913314782863768),\n",
              " (352, 0.3865681687603371),\n",
              " (1414, 0.3864634590332683),\n",
              " (1851, 0.38492560807137666),\n",
              " (2696, 0.38437327958308387),\n",
              " (988, 0.3826189423584093),\n",
              " (2166, 0.381528726074437),\n",
              " (1105, 0.3784149671774809),\n",
              " (2860, 0.37733610271098167),\n",
              " (9, 0.3773361027109816),\n",
              " (1593, 0.37725525588710085),\n",
              " (2356, 0.3761650751642657),\n",
              " (1880, 0.37616507516426567),\n",
              " (1710, 0.37587108131305064),\n",
              " (2571, 0.3758710813130506),\n",
              " (2242, 0.37312164811314036),\n",
              " (175, 0.372839548067714),\n",
              " (1769, 0.37200961703407703),\n",
              " (155, 0.3716523112413292),\n",
              " (2410, 0.3702717053044339),\n",
              " (1293, 0.3689973438385973),\n",
              " (1389, 0.3660570791018469),\n",
              " (2820, 0.3644337581138171),\n",
              " (1717, 0.3630192084951347),\n",
              " (76, 0.36281769906606626),\n",
              " (2354, 0.36186309343004136),\n",
              " (2602, 0.36186309343004136),\n",
              " (2819, 0.36186309343004136),\n",
              " (2190, 0.36087748355852695),\n",
              " (1194, 0.3583790144112817),\n",
              " (657, 0.3577956382006258),\n",
              " (866, 0.35750865851767405),\n",
              " (1714, 0.356654251494682),\n",
              " (1813, 0.35526701543291755),\n",
              " (2055, 0.3545856654632937),\n",
              " (417, 0.354374653931171),\n",
              " (40, 0.35364473625830223),\n",
              " (723, 0.3533437436627265),\n",
              " (917, 0.3530406225343201),\n",
              " (1284, 0.35279125693999125),\n",
              " (2218, 0.35279125693999125),\n",
              " (1463, 0.35218036253024954),\n",
              " (1675, 0.35218036253024954),\n",
              " (254, 0.34892001932350447),\n",
              " (519, 0.34864535601719515),\n",
              " (1590, 0.3486407715642266),\n",
              " (1743, 0.34508399300738246),\n",
              " (1005, 0.34418557034803166),\n",
              " (279, 0.34206780712548734),\n",
              " (144, 0.34187040335385305),\n",
              " (2066, 0.34147044847755503),\n",
              " (137, 0.3411747262011792),\n",
              " (166, 0.34099716973523675),\n",
              " (1506, 0.3396413108080093),\n",
              " (1214, 0.3396024924398835),\n",
              " (20, 0.33862466931200785),\n",
              " (1514, 0.3383639475502508),\n",
              " (1816, 0.337882975100225),\n",
              " (66, 0.3373276083701872),\n",
              " (107, 0.33674883595353017),\n",
              " (1896, 0.33674883595353017),\n",
              " (1345, 0.33549685473173024),\n",
              " (907, 0.3352657166714094),\n",
              " (235, 0.33344901382730097),\n",
              " (775, 0.33287702465488905),\n",
              " (2049, 0.3327791628198608),\n",
              " (2186, 0.3322951201450048),\n",
              " (140, 0.33226680044851975),\n",
              " (1876, 0.3320388300611682),\n",
              " (463, 0.3304560687093142),\n",
              " (2239, 0.3304560687093142),\n",
              " (1163, 0.3262254348299824),\n",
              " (108, 0.3253302833762232),\n",
              " (2531, 0.3237048298896367),\n",
              " (1253, 0.321860342910192),\n",
              " (41, 0.3210774170536921),\n",
              " (1147, 0.32106740991375177),\n",
              " (1019, 0.3208574728244173),\n",
              " (1302, 0.32031106631923656),\n",
              " (2780, 0.32031106631923656),\n",
              " (646, 0.3195447708044532),\n",
              " (1795, 0.3190125890957755),\n",
              " (2227, 0.3190125890957755),\n",
              " (960, 0.31891873922727815),\n",
              " (48, 0.31855912392113933),\n",
              " (375, 0.3184395222184365),\n",
              " (1375, 0.318264025086221),\n",
              " (984, 0.3177053548595931),\n",
              " (509, 0.3176690436011329),\n",
              " (1150, 0.3172860505596491),\n",
              " (899, 0.3149306866445732),\n",
              " (1884, 0.31444675225915136),\n",
              " (1340, 0.3123122601560129),\n",
              " (171, 0.31198938735591086),\n",
              " (1832, 0.31128640318234524),\n",
              " (737, 0.3112864031823452),\n",
              " (2181, 0.3112864031823452),\n",
              " (96, 0.3104149202100402),\n",
              " (2913, 0.31016695192106325),\n",
              " (2521, 0.30963403077526197),\n",
              " (220, 0.3090434456865325),\n",
              " (199, 0.3084101893658133),\n",
              " (1377, 0.30822471351720165),\n",
              " (734, 0.30815781721396834),\n",
              " (1326, 0.30815781721396834),\n",
              " (1346, 0.30815781721396834),\n",
              " (303, 0.3059035234677576),\n",
              " (2006, 0.30499714066520933),\n",
              " (869, 0.30437150484606307),\n",
              " (2542, 0.3034528414224324),\n",
              " (439, 0.3032082857012385),\n",
              " (2655, 0.30302186610454734),\n",
              " (501, 0.30199216944456814),\n",
              " (2478, 0.30186888216878527),\n",
              " (2468, 0.301179754424659),\n",
              " (1062, 0.3005830563260912),\n",
              " (1532, 0.30045393680568655),\n",
              " (727, 0.2981730748203958),\n",
              " (1095, 0.29802485613319213),\n",
              " (961, 0.29715218088489803),\n",
              " (469, 0.29698455807450913),\n",
              " (1854, 0.2960684541064695),\n",
              " (2053, 0.2960684541064695),\n",
              " (786, 0.2960447582039059),\n",
              " (1622, 0.2957220830232279),\n",
              " (916, 0.29531221160930915),\n",
              " (2710, 0.29531221160930915),\n",
              " (2874, 0.2948575351093024),\n",
              " (2200, 0.29485753510930235),\n",
              " (589, 0.2948305693097023),\n",
              " (560, 0.29261523994305977),\n",
              " (732, 0.2916886116585612),\n",
              " (2303, 0.29072517999404635),\n",
              " (1210, 0.29055888811289726),\n",
              " (852, 0.2905339763035222),\n",
              " (274, 0.29045333703446),\n",
              " (2366, 0.28929101207841923),\n",
              " (678, 0.2890221695443185),\n",
              " (1131, 0.28875699341812133),\n",
              " (5, 0.2887569934181213),\n",
              " (1598, 0.2882799596873129),\n",
              " (965, 0.28793992294366927),\n",
              " (925, 0.2872695519992303),\n",
              " (1397, 0.28618335033700204),\n",
              " (1698, 0.2861465445558278),\n",
              " (401, 0.2855938886394046),\n",
              " (1966, 0.2852987010787278),\n",
              " (377, 0.28466399795419534),\n",
              " (2124, 0.28466399795419534),\n",
              " (864, 0.28464057171065044),\n",
              " (92, 0.2841643081126973),\n",
              " (189, 0.2841335859862102),\n",
              " (1739, 0.28413183033579115),\n",
              " (2443, 0.2839368856608097),\n",
              " (1033, 0.2835465942245569),\n",
              " (296, 0.2831827358942995),\n",
              " (2805, 0.2828622883968817),\n",
              " (1671, 0.2817776384636872),\n",
              " (2045, 0.28082211704066506),\n",
              " (491, 0.2791360154588036),\n",
              " (1707, 0.2789929788030068),\n",
              " (2037, 0.2788094536697809),\n",
              " (489, 0.2782322571408046),\n",
              " (1944, 0.27799435007965095),\n",
              " (2131, 0.2779425689573285),\n",
              " (1744, 0.27760292414333837),\n",
              " (1522, 0.2773159690165507),\n",
              " (2614, 0.2773159690165507),\n",
              " (848, 0.2768890003737664),\n",
              " (356, 0.27671314198805325),\n",
              " (704, 0.2763459150035653),\n",
              " (1149, 0.2750998671998696),\n",
              " (2484, 0.27449742659868837),\n",
              " (148, 0.2744167276621808),\n",
              " (908, 0.2739320348004638),\n",
              " (325, 0.27393203480046374),\n",
              " (2425, 0.2736084292122433),\n",
              " (1702, 0.2727977357881894),\n",
              " (1574, 0.27261234824670433),\n",
              " (413, 0.2713731947940201),\n",
              " (1587, 0.27123313120028),\n",
              " (1425, 0.27110856948018613),\n",
              " (2343, 0.27099707098915315),\n",
              " (261, 0.27060696306763177),\n",
              " (759, 0.27055244875205603),\n",
              " (2871, 0.26978154942469923),\n",
              " (2865, 0.2696966243275514),\n",
              " (2898, 0.2696966243275514),\n",
              " (1548, 0.2688272066156143),\n",
              " (204, 0.2686124597780274),\n",
              " (2262, 0.2679273587281822),\n",
              " (821, 0.2678714584772819),\n",
              " (2205, 0.2676593670279742),\n",
              " (617, 0.26745785875790407),\n",
              " (1052, 0.26739526547449566),\n",
              " (1402, 0.2668724980820582),\n",
              " (195, 0.26611088111454445),\n",
              " (2740, 0.2641352718976872),\n",
              " (246, 0.26413527189768715),\n",
              " (1244, 0.26413527189768715),\n",
              " (1624, 0.26413527189768715),\n",
              " (412, 0.2636373727332084),\n",
              " (1223, 0.2628640737984248),\n",
              " (2632, 0.26282441878442614),\n",
              " (1974, 0.26279786952239725),\n",
              " (1234, 0.26258607805520245),\n",
              " (833, 0.26159300607748565),\n",
              " (1206, 0.26159300607748565),\n",
              " (283, 0.25987474621619205),\n",
              " (724, 0.2592794300540537),\n",
              " (2183, 0.2592794300540537),\n",
              " (1475, 0.25919772864031765),\n",
              " (1611, 0.25842973368218203),\n",
              " (1160, 0.2581540752211363),\n",
              " (1812, 0.2581540752211363),\n",
              " (2447, 0.2581540752211363),\n",
              " (1003, 0.2581273962140871),\n",
              " (1238, 0.2581273962140871),\n",
              " (1316, 0.2578454345646922),\n",
              " (1222, 0.2578203681732886),\n",
              " (158, 0.25776963111323353),\n",
              " (1828, 0.257552012137241),\n",
              " (287, 0.25702138677391106),\n",
              " (1937, 0.2559372500614013),\n",
              " (993, 0.2556358166435625),\n",
              " (1320, 0.2553492053874918),\n",
              " (2272, 0.255108258479137),\n",
              " (946, 0.2542724159001765),\n",
              " (1843, 0.2540402710557551),\n",
              " (1737, 0.25341223132516877),\n",
              " (1134, 0.2531296355686169),\n",
              " (1637, 0.2530138415205782),\n",
              " (1898, 0.25299972205063104),\n",
              " (612, 0.25248661351461776),\n",
              " (2910, 0.25219263977090195),\n",
              " (147, 0.25217487826654716),\n",
              " (1740, 0.25217487826654716),\n",
              " (1693, 0.25160980414135636),\n",
              " (1934, 0.2516098041413563),\n",
              " (2823, 0.2516098041413563),\n",
              " (50, 0.2507767167761772),\n",
              " (1689, 0.25058072087536704),\n",
              " (1093, 0.24946109012559342),\n",
              " (2423, 0.24931194957915645),\n",
              " (739, 0.24931194957915642),\n",
              " (2498, 0.24922858523107466),\n",
              " (35, 0.24922858523107463),\n",
              " (1732, 0.24922858523107463),\n",
              " (483, 0.24902912254587617),\n",
              " (2281, 0.24902912254587617),\n",
              " (624, 0.2490291225458761),\n",
              " (1620, 0.24800641135605137),\n",
              " (1913, 0.24799916016597834),\n",
              " (695, 0.24731756190293736),\n",
              " (1129, 0.24657557381843637),\n",
              " (1204, 0.24657557381843637),\n",
              " (2171, 0.24652625377117468),\n",
              " (2636, 0.24652625377117468),\n",
              " (458, 0.24599822922573156),\n",
              " (593, 0.24564081333650256),\n",
              " (1820, 0.24524344319764277),\n",
              " (2007, 0.24522692793157488),\n",
              " (892, 0.24489899998946185),\n",
              " (177, 0.24456251606838575),\n",
              " (2240, 0.24378581695374243),\n",
              " (2127, 0.24315622700068312),\n",
              " (616, 0.24277862241722756),\n",
              " (972, 0.24277862241722753),\n",
              " (828, 0.2426517844802583),\n",
              " (2719, 0.24238714897403305),\n",
              " (225, 0.24212399923954658),\n",
              " (385, 0.24212399923954658),\n",
              " (1447, 0.24203822584159979),\n",
              " (662, 0.24187846604404414),\n",
              " (2153, 0.24173888049848974),\n",
              " (2880, 0.24173888049848974),\n",
              " (3, 0.2416051054752107),\n",
              " (78, 0.2416051054752107),\n",
              " (1958, 0.2415937355556545),\n",
              " (1370, 0.2413698618580582),\n",
              " (2128, 0.2413698618580582),\n",
              " (2388, 0.24129995343553864),\n",
              " (2465, 0.24129995343553864),\n",
              " (1104, 0.24025428786683897),\n",
              " (806, 0.24016267404343128),\n",
              " (1577, 0.24016267404343128),\n",
              " (2534, 0.23962838489652982),\n",
              " (275, 0.2387457727450854),\n",
              " (309, 0.23865290910646464),\n",
              " (889, 0.23816275411477048),\n",
              " (2665, 0.23811738545941746),\n",
              " (415, 0.23743995198014897),\n",
              " (1127, 0.23743995198014897),\n",
              " (810, 0.2373761154547366),\n",
              " (1035, 0.23720047642554204),\n",
              " (503, 0.23673339265804902),\n",
              " (1250, 0.23664123561937497),\n",
              " (477, 0.23657766641858233),\n",
              " (573, 0.23657766641858233),\n",
              " (103, 0.23505101943399367),\n",
              " (1735, 0.2347869083534997),\n",
              " (114, 0.23424679512751456),\n",
              " (1170, 0.23424679512751456),\n",
              " (1640, 0.23424679512751456),\n",
              " (52, 0.2340439313195403),\n",
              " (1686, 0.2337556613384792),\n",
              " (1557, 0.23346480238675887),\n",
              " (1658, 0.2333190235387099),\n",
              " (2118, 0.23318643360792757),\n",
              " (2248, 0.23318643360792757),\n",
              " (1881, 0.23294541397390262),\n",
              " (746, 0.2329454139739026),\n",
              " (1708, 0.231514824718052),\n",
              " (2762, 0.231514824718052),\n",
              " (747, 0.2312177356354548),\n",
              " (1101, 0.2312177356354548),\n",
              " (1001, 0.2311183629104763),\n",
              " (422, 0.23077439350734114),\n",
              " (1763, 0.2298869169990922),\n",
              " (186, 0.22948338104813487),\n",
              " (837, 0.22933363841834628),\n",
              " (1791, 0.2292498893332247),\n",
              " (57, 0.22924988933322468),\n",
              " (1410, 0.22924988933322468),\n",
              " (2352, 0.22924988933322468),\n",
              " (1588, 0.2289172356446622),\n",
              " (1668, 0.22889388031779992),\n",
              " (1869, 0.22889388031779992),\n",
              " (1694, 0.22874785549890705),\n",
              " (683, 0.22874785549890703),\n",
              " (1890, 0.22852479561601696),\n",
              " (2207, 0.22827669566705314),\n",
              " (329, 0.22791360223590199),\n",
              " (1560, 0.2278595109565747),\n",
              " (830, 0.22783447227525164),\n",
              " (2776, 0.22758963106682428),\n",
              " (154, 0.22670776507769258),\n",
              " (184, 0.22670776507769258),\n",
              " (835, 0.2264941270834261),\n",
              " (2226, 0.22640166162658898),\n",
              " (798, 0.22599024631003126),\n",
              " (538, 0.2258848158184943),\n",
              " (1442, 0.22557596503350058),\n",
              " (94, 0.22525531673348334),\n",
              " (800, 0.2252553167334833),\n",
              " (528, 0.22500412050543722),\n",
              " (71, 0.22462593490340607),\n",
              " (681, 0.22447181760574048),\n",
              " (1240, 0.22398626259716148),\n",
              " (1853, 0.22354488253413057),\n",
              " (1511, 0.22349061283153535),\n",
              " (948, 0.22323504886820386),\n",
              " (1630, 0.22323504886820386),\n",
              " (2556, 0.2231247821048114),\n",
              " (230, 0.22273841855588183),\n",
              " (142, 0.22258705026211267),\n",
              " (2225, 0.22157528570475118),\n",
              " (1597, 0.22151120029901317),\n",
              " (1609, 0.22138711133050593),\n",
              " (2533, 0.22138711133050593),\n",
              " (2047, 0.22122161383412453),\n",
              " (2273, 0.2209496601199568),\n",
              " (110, 0.2203040458062095),\n",
              " (2881, 0.22030404580620946),\n",
              " (1378, 0.2202757127026512),\n",
              " (433, 0.22011272658140596),\n",
              " (2022, 0.22011272658140596),\n",
              " (2023, 0.22011272658140596),\n",
              " (2431, 0.22011272658140596),\n",
              " (530, 0.22000532831856864),\n",
              " (706, 0.22000532831856864),\n",
              " (1472, 0.21977383072747697),\n",
              " (1584, 0.21977383072747697),\n",
              " (788, 0.21965684885368206),\n",
              " (1050, 0.21942962717915504),\n",
              " (1466, 0.2193211550033457),\n",
              " (138, 0.21841298896985362),\n",
              " (1636, 0.2184129889698536),\n",
              " (2371, 0.21832583874135114),\n",
              " (471, 0.2179477850572942),\n",
              " (2159, 0.2179477850572942),\n",
              " (517, 0.21794778505729417),\n",
              " (174, 0.21794407540247565),\n",
              " (1124, 0.21790048222764163),\n",
              " (2595, 0.21790048222764163),\n",
              " (797, 0.21688351399723116),\n",
              " (210, 0.21656228851349338),\n",
              " (562, 0.2164028666650702),\n",
              " (2038, 0.2164028666650702),\n",
              " (1168, 0.21630645583290956),\n",
              " (2087, 0.21630645583290956),\n",
              " (1112, 0.21603964130452333),\n",
              " (1912, 0.21566554640687685),\n",
              " (1482, 0.21522133265737473),\n",
              " (480, 0.21493571166943976),\n",
              " (1537, 0.21493571166943976),\n",
              " (2536, 0.21457356194012803),\n",
              " (1076, 0.21424199589001588),\n",
              " (2575, 0.21418735526204435),\n",
              " (1778, 0.21390498188294488),\n",
              " (2221, 0.21390498188294488),\n",
              " (2113, 0.21345765111605344),\n",
              " (2859, 0.21261249281818545),\n",
              " (1119, 0.21254431743795707),\n",
              " (507, 0.21237274928075955),\n",
              " (555, 0.21237274928075955),\n",
              " (1476, 0.21237274928075955),\n",
              " (2003, 0.21237274928075955),\n",
              " (2326, 0.2118035699063954),\n",
              " (2927, 0.2117793624007553),\n",
              " (272, 0.21139451861119768),\n",
              " (462, 0.21139451861119768),\n",
              " (1314, 0.21139451861119768),\n",
              " (782, 0.21076013645257854),\n",
              " (913, 0.21076013645257854),\n",
              " (1546, 0.21070705494148542),\n",
              " (1190, 0.2107070549414854),\n",
              " (1106, 0.2095892377456709),\n",
              " (1038, 0.2091070902523357),\n",
              " (353, 0.20910709025233565),\n",
              " (313, 0.20898059731348098),\n",
              " (1046, 0.20898059731348095),\n",
              " (1570, 0.20898059731348095),\n",
              " (104, 0.20897188960717858),\n",
              " (1067, 0.20887121837686012),\n",
              " (1453, 0.2088666273465736),\n",
              " (1652, 0.2088172673961392),\n",
              " (2009, 0.2088172673961392),\n",
              " (485, 0.20835271227699026),\n",
              " (121, 0.20809596207190934),\n",
              " (77, 0.20770464628320334),\n",
              " (1195, 0.20752426878823013),\n",
              " (2217, 0.20752426878823013),\n",
              " (2339, 0.20752426878823013),\n",
              " (2678, 0.20752426878823013),\n",
              " (289, 0.20749233952136092),\n",
              " (2856, 0.20648404033902637),\n",
              " (268, 0.2062549952986581),\n",
              " (2598, 0.20559669613743753),\n",
              " (2314, 0.2054831423448011),\n",
              " (705, 0.2047006777804188),\n",
              " (311, 0.20459830184114203),\n",
              " (602, 0.2045596363769697),\n",
              " (939, 0.20455963637696967),\n",
              " (2123, 0.20437197621673295),\n",
              " (1011, 0.2037847864848056),\n",
              " (2549, 0.2037847864848056),\n",
              " (2448, 0.2033314271101396),\n",
              " (38, 0.20333142711013957),\n",
              " (1412, 0.2024904663484688),\n",
              " (621, 0.20233616206852437),\n",
              " (1421, 0.20233616206852437),\n",
              " (1259, 0.20198929081169417),\n",
              " (1910, 0.20182395918312665),\n",
              " (1280, 0.2017366461964823),\n",
              " (2603, 0.20147448020372585),\n",
              " (1435, 0.20138828357048288),\n",
              " (934, 0.2012712784574167),\n",
              " (368, 0.2012459214458569),\n",
              " (2027, 0.2012459214458569),\n",
              " (410, 0.20124592144585687),\n",
              " (701, 0.20054644910587174),\n",
              " (250, 0.2000059174223721),\n",
              " (1456, 0.19966749769191652),\n",
              " (688, 0.1995328328774527),\n",
              " (129, 0.19937707208700287),\n",
              " (718, 0.1990994524507121),\n",
              " (1792, 0.1990994524507121),\n",
              " (498, 0.1987820498802639),\n",
              " (245, 0.19873118539204568),\n",
              " (1819, 0.19825157142004052),\n",
              " (1595, 0.19810145392326536),\n",
              " (2685, 0.19810145392326536),\n",
              " (1116, 0.19769341753963715),\n",
              " (80, 0.1972604590547491),\n",
              " (1942, 0.19687480773953947),\n",
              " (549, 0.19657169007286823),\n",
              " (1801, 0.19657169007286823),\n",
              " (1099, 0.19629491013896927),\n",
              " (1255, 0.19619475455811422),\n",
              " (308, 0.19535451620220176),\n",
              " (858, 0.19535451620220176),\n",
              " (1938, 0.19535451620220173),\n",
              " (2538, 0.19535451620220173),\n",
              " (2904, 0.19507682662870654),\n",
              " (100, 0.1948961162363966),\n",
              " (257, 0.19486240593324097),\n",
              " (1249, 0.19472310589050312),\n",
              " (2268, 0.1946750201740296),\n",
              " (1750, 0.19467502017402957),\n",
              " (2216, 0.19467502017402957),\n",
              " (1437, 0.19396337481285766),\n",
              " (2438, 0.19382230026163652),\n",
              " (212, 0.19369919939163724),\n",
              " (236, 0.19350277283523531),\n",
              " (2707, 0.19347037568577669),\n",
              " (641, 0.19316485575463255),\n",
              " (389, 0.19273790710857916),\n",
              " (981, 0.19264044594825103),\n",
              " (2464, 0.19264044594825103),\n",
              " (686, 0.19250466227874757),\n",
              " (2511, 0.19250466227874757),\n",
              " (1613, 0.19250466227874755),\n",
              " (785, 0.192130139234745),\n",
              " (472, 0.19188982627110948),\n",
              " (707, 0.1916413178660397),\n",
              " (233, 0.1909966181960683),\n",
              " (2035, 0.19078890022466802),\n",
              " (2777, 0.1907643630372185),\n",
              " (1738, 0.19070431192513243),\n",
              " (451, 0.19063971637562965),\n",
              " (2552, 0.19062321291575587),\n",
              " (2611, 0.19019913405248523),\n",
              " (1667, 0.18976038114043364),\n",
              " (465, 0.18941372477561674),\n",
              " (2561, 0.18941372477561672),\n",
              " (34, 0.18866805135549083),\n",
              " (1408, 0.18866805135549083),\n",
              " (911, 0.18857485893125447),\n",
              " (2537, 0.1881688085836215),\n",
              " (2642, 0.1881688085836215),\n",
              " (345, 0.18808253758213286),\n",
              " (763, 0.18808253758213286),\n",
              " (1895, 0.18808253758213286),\n",
              " (2154, 0.18797450624778514),\n",
              " (2441, 0.18797450624778514),\n",
              " (49, 0.18771276394456946),\n",
              " (1696, 0.18771276394456943),\n",
              " (2012, 0.18677184190940713),\n",
              " (2424, 0.18677184190940713),\n",
              " (24, 0.1867718419094071),\n",
              " (1295, 0.1867718419094071),\n",
              " (2869, 0.1867718419094071),\n",
              " (771, 0.18658971427768523),\n",
              " (970, 0.18582615562066462),\n",
              " (1351, 0.1858261556206646),\n",
              " (772, 0.18561534879656819),\n",
              " (1418, 0.18548817142720303),\n",
              " (1459, 0.18548817142720303),\n",
              " (282, 0.1839770931490983),\n",
              " (722, 0.18392019594868117),\n",
              " (636, 0.1837498205569035),\n",
              " (992, 0.1837498205569035),\n",
              " (18, 0.1835867048385079),\n",
              " (1173, 0.1835867048385079),\n",
              " (2233, 0.1835867048385079),\n",
              " (1836, 0.18328047158971922),\n",
              " (673, 0.18314485893956414),\n",
              " (1556, 0.18314485893956414),\n",
              " (872, 0.18186515719212626),\n",
              " (896, 0.18186515719212626),\n",
              " (1949, 0.18186515719212626),\n",
              " (1849, 0.18179036173052476),\n",
              " (1286, 0.18174156549780293),\n",
              " (1770, 0.1817415654978029),\n",
              " (1393, 0.18140884953303313),\n",
              " (2792, 0.18140884953303313),\n",
              " (2459, 0.1814088495330331),\n",
              " (2745, 0.180974965076654),\n",
              " (2065, 0.18038877950728832),\n",
              " (1042, 0.1797212886723974),\n",
              " (2546, 0.17972128867239737),\n",
              " (721, 0.17890780307325932),\n",
              " (222, 0.17875432925883702),\n",
              " (340, 0.17875432925883702),\n",
              " (880, 0.17875432925883702),\n",
              " (2201, 0.1785880390945631),\n",
              " (29, 0.17858803909456308),\n",
              " (1566, 0.17807996398511175),\n",
              " (1045, 0.17791499872137215),\n",
              " (2560, 0.17791499872137215),\n",
              " (437, 0.17763350771645883),\n",
              " (655, 0.17763350771645883),\n",
              " (211, 0.17718732696558548),\n",
              " (1120, 0.1764828020006294),\n",
              " (2624, 0.17648280200062938),\n",
              " (844, 0.1763956284699956),\n",
              " (492, 0.17609018126512477),\n",
              " (535, 0.17609018126512477),\n",
              " (888, 0.17609018126512477),\n",
              " (1969, 0.17609018126512477),\n",
              " (2152, 0.17609018126512477),\n",
              " (120, 0.17473039117588293),\n",
              " (971, 0.1747303911758829),\n",
              " (1007, 0.1747303911758829),\n",
              " (1561, 0.1747303911758829),\n",
              " (1416, 0.17454775580151477),\n",
              " (1986, 0.17454775580151477),\n",
              " (482, 0.1743203857821133),\n",
              " (595, 0.1743203857821133),\n",
              " (2682, 0.1743203857821133),\n",
              " (2386, 0.17432038578211329),\n",
              " (118, 0.17394701604539753),\n",
              " (2063, 0.17369428484641986),\n",
              " (1811, 0.1734133017265911),\n",
              " (395, 0.17340162366996137),\n",
              " (1648, 0.1731697435983527),\n",
              " (2609, 0.17291712531127051),\n",
              " (42, 0.1729171253112705),\n",
              " (2316, 0.1729171253112705),\n",
              " (284, 0.1728317130436186),\n",
              " (1634, 0.17260290167290546),\n",
              " (404, 0.17255285879061713),\n",
              " (1616, 0.1721027168140909),\n",
              " (2509, 0.1721027168140909),\n",
              " (1495, 0.17210271681409087),\n",
              " (2411, 0.17093520167692652),\n",
              " (2014, 0.1708325687035928),\n",
              " (756, 0.17062483337426754),\n",
              " (1197, 0.17062483337426754),\n",
              " (1278, 0.17062483337426754),\n",
              " (2739, 0.17049858486761837),\n",
              " (1721, 0.16959013353303823),\n",
              " (985, 0.16918197377512542),\n",
              " (2629, 0.16918197377512542),\n",
              " (1248, 0.16909528047003503),\n",
              " (1804, 0.1689840474418445),\n",
              " (89, 0.1689414875501125),\n",
              " (1290, 0.16894148755011248),\n",
              " (1188, 0.1687600251051027),\n",
              " (2774, 0.1687600251051027),\n",
              " (2908, 0.1687600251051027),\n",
              " (1189, 0.16798969694787108),\n",
              " (2771, 0.16789540016977156),\n",
              " (1341, 0.16773986942757085),\n",
              " (632, 0.1677260653811806),\n",
              " (1065, 0.1677260653811806),\n",
              " (2713, 0.16772606538118057),\n",
              " (181, 0.1673435865786085),\n",
              " (2764, 0.1673435865786085),\n",
              " (493, 0.16705381391691138),\n",
              " (656, 0.16705381391691138),\n",
              " (32, 0.16695505315515088),\n",
              " (234, 0.16630739341706227),\n",
              " (542, 0.1662079663861043),\n",
              " (1029, 0.16609569319451248),\n",
              " (950, 0.16609569319451245),\n",
              " (2090, 0.16601941503058412),\n",
              " (2512, 0.16601941503058412),\n",
              " (1794, 0.1660194150305841),\n",
              " (2613, 0.1660194150305841),\n",
              " (478, 0.16563749730588148),\n",
              " (1400, 0.1652280343546571),\n",
              " (2373, 0.1652280343546571),\n",
              " (2348, 0.16508454493605448),\n",
              " (269, 0.16508454493605446),\n",
              " (341, 0.16500399623892648),\n",
              " (264, 0.16487837460195826),\n",
              " (1179, 0.16487837460195826),\n",
              " (1433, 0.16429351661186004),\n",
              " (1762, 0.16380974172739024),\n",
              " (1166, 0.1638097417273902),\n",
              " (178, 0.16370570250334948),\n",
              " (1676, 0.16351231117475873),\n",
              " (767, 0.16349562879842852),\n",
              " (2471, 0.16349562879842852),\n",
              " (901, 0.16331061834953325),\n",
              " (666, 0.16326599999297456),\n",
              " (583, 0.16248220838460653),\n",
              " (630, 0.1618689296548195),\n",
              " (1087, 0.1618689296548195),\n",
              " (2741, 0.1618689296548195),\n",
              " (951, 0.16185241494481833),\n",
              " (258, 0.16159143264935535),\n",
              " (1313, 0.16159143264935535),\n",
              " (1682, 0.16141599949303104),\n",
              " (2420, 0.1611210053552444),\n",
              " (281, 0.16074760739013735),\n",
              " (1156, 0.1604749225332573),\n",
              " (1438, 0.1604749225332573),\n",
              " (425, 0.16027412298198362),\n",
              " (1310, 0.16027412298198362),\n",
              " (424, 0.16023061397583893),\n",
              " (845, 0.15927956196056967),\n",
              " (878, 0.15927956196056967),\n",
              " (1662, 0.15927956196056967),\n",
              " (2079, 0.15927956196056967),\n",
              " (1331, 0.15913201254311046),\n",
              " (1481, 0.15913201254311046),\n",
              " (291, 0.15899075018722336),\n",
              " (15, 0.1587805333452351),\n",
              " (65, 0.1587255444142889),\n",
              " (1383, 0.1584811631386123),\n",
              " (2458, 0.1578510168532173),\n",
              " (1306, 0.15749984619163154),\n",
              " (1008, 0.1572210029286287),\n",
              " (1833, 0.1572210029286287),\n",
              " (611, 0.15673544798511072),\n",
              " (2785, 0.15673544798511072),\n",
              " (968, 0.15654432768910187),\n",
              " (1632, 0.1565246055689998),\n",
              " (1361, 0.15615613007800644),\n",
              " (1419, 0.1557784847124025),\n",
              " (506, 0.15575845018274437),\n",
              " (68, 0.1556432015911726),\n",
              " (215, 0.1554035660347434),\n",
              " (1311, 0.1554035660347434),\n",
              " (2731, 0.1552074601050201),\n",
              " (2073, 0.15508347596053165),\n",
              " (1352, 0.15457347618933584),\n",
              " (1226, 0.15437968108225003),\n",
              " (263, 0.15433596878709685),\n",
              " (346, 0.15433596878709685),\n",
              " (2426, 0.15407890860698417),\n",
              " (1142, 0.153850705709517),\n",
              " (881, 0.153704111387796),\n",
              " (1500, 0.153704111387796),\n",
              " (2391, 0.153704111387796),\n",
              " (676, 0.1535255083353141),\n",
              " (2428, 0.1532668299572343),\n",
              " (1382, 0.15288909227889755),\n",
              " (1227, 0.1524985703326047),\n",
              " (1687, 0.1524985703326047),\n",
              " (1580, 0.15249857033260464),\n",
              " (117, 0.15190634063771646),\n",
              " (622, 0.15190634063771646),\n",
              " (1599, 0.1517264207112162),\n",
              " (481, 0.1516041428506192),\n",
              " (91, 0.15149196810877066),\n",
              " (2245, 0.15099608472228407),\n",
              " (679, 0.15099608472228404),\n",
              " (764, 0.15099608472228404),\n",
              " (2749, 0.15093444108439266),\n",
              " (1088, 0.1502915281630456),\n",
              " (2413, 0.1502915281630456),\n",
              " (2161, 0.15017021115565557),\n",
              " (2230, 0.1497506232689374),\n",
              " (1960, 0.14975062326893737),\n",
              " (51, 0.14953715113864477),\n",
              " (998, 0.14947849761564372),\n",
              " (2637, 0.14947849761564372),\n",
              " (2916, 0.14944217675552413),\n",
              " (700, 0.14941747352752568),\n",
              " (113, 0.14901242806659604),\n",
              " (255, 0.1488233659121359),\n",
              " (271, 0.1488233659121359),\n",
              " (132, 0.14820197127368345),\n",
              " (1959, 0.14794534429106182),\n",
              " (809, 0.14776544021860258),\n",
              " (1635, 0.14769425490897403),\n",
              " (2587, 0.14765610580465457),\n",
              " (67, 0.1473276157296695),\n",
              " (1239, 0.14686936387080632),\n",
              " (1333, 0.14686936387080632),\n",
              " (563, 0.1467418177209373),\n",
              " (1014, 0.1467418177209373),\n",
              " (1823, 0.14651588715165131),\n",
              " (1559, 0.1465158871516513),\n",
              " (1935, 0.14600626513052217),\n",
              " (280, 0.1452669881517611),\n",
              " (1409, 0.1452669881517611),\n",
              " (116, 0.14474523737201656),\n",
              " (995, 0.14474523737201653),\n",
              " (1830, 0.14467284665112362),\n",
              " (449, 0.1443748590089956),\n",
              " (1343, 0.14426857777671348),\n",
              " (854, 0.1437770309379179),\n",
              " (2101, 0.1437770309379179),\n",
              " (2594, 0.1428279972600106),\n",
              " (943, 0.14282799726001058),\n",
              " (1108, 0.14282799726001058),\n",
              " (2265, 0.14233199897709767),\n",
              " (2724, 0.14232028585532525),\n",
              " (1638, 0.1422266848679854),\n",
              " (2670, 0.14159136794714974),\n",
              " (2080, 0.14143114419844086),\n",
              " (1269, 0.14139250356818595),\n",
              " (2372, 0.14139250356818595),\n",
              " (1870, 0.14118624160050353),\n",
              " (1470, 0.14098497814593788),\n",
              " (2379, 0.14098497814593788),\n",
              " (59, 0.14098497814593786),\n",
              " (561, 0.1408888192318436),\n",
              " (2650, 0.14087214501209983),\n",
              " (644, 0.14080395199852025),\n",
              " (112, 0.14007888143205532),\n",
              " (322, 0.14007888143205532),\n",
              " (128, 0.13994228570826392),\n",
              " (157, 0.13994228570826392),\n",
              " (1136, 0.1399422857082639),\n",
              " (1983, 0.13983345741144884),\n",
              " (2209, 0.13979035613822097),\n",
              " (2389, 0.13979035613822097),\n",
              " (2551, 0.13957419960659168),\n",
              " (600, 0.13956800772940178),\n",
              " (2223, 0.13956800772940178),\n",
              " (2368, 0.13956800772940178),\n",
              " (1143, 0.13948420825758442),\n",
              " (251, 0.13921151159742617),\n",
              " (996, 0.13921151159742617),\n",
              " (567, 0.13921151159742615),\n",
              " (938, 0.13880146207166916),\n",
              " (1092, 0.13844450018688323),\n",
              " (99, 0.1383565709940266),\n",
              " (1785, 0.13794014696151088),\n",
              " (241, 0.1378123654176776),\n",
              " (1325, 0.1378123654176776),\n",
              " (1655, 0.1378123654176776),\n",
              " (1998, 0.1375499335999348),\n",
              " (1262, 0.1369660174002319),\n",
              " (2067, 0.1369660174002319),\n",
              " (64, 0.1363988678940947),\n",
              " (1614, 0.1363988678940947),\n",
              " (1623, 0.1363988678940947),\n",
              " (1842, 0.13585652432320375),\n",
              " (2604, 0.13585652432320375),\n",
              " (2137, 0.1348907747123496),\n",
              " (218, 0.1344910974643215),\n",
              " (665, 0.1344910974643215),\n",
              " (1107, 0.1344910974643215),\n",
              " (2581, 0.1344910974643215),\n",
              " (2072, 0.13431632013581724),\n",
              " (2144, 0.1343062298890137),\n",
              " (1047, 0.13426750446270366),\n",
              " (671, 0.13418085230494448),\n",
              " (2450, 0.13418085230494448),\n",
              " (105, 0.13409436769892122),\n",
              " (1122, 0.1339410293209223),\n",
              " (1344, 0.1339410293209223),\n",
              " (1720, 0.13340845850671934),\n",
              " (2010, 0.13340845850671934),\n",
              " (2407, 0.13340845850671934),\n",
              " (1846, 0.13311166512794434),\n",
              " (2044, 0.13311166512794434),\n",
              " (2254, 0.13311166512794434),\n",
              " (2390, 0.13311166512794434),\n",
              " (2847, 0.13311166512794434),\n",
              " (1193, 0.1331116651279443),\n",
              " (1493, 0.1330331563242243),\n",
              " (219, 0.13303315632422427),\n",
              " (2236, 0.1329180480580019),\n",
              " (2620, 0.1327329683004747),\n",
              " (574, 0.13206763594884358),\n",
              " (2334, 0.13206763594884358),\n",
              " (139, 0.13129303902760123),\n",
              " (1069, 0.13104779338191216),\n",
              " (1158, 0.13104779338191216),\n",
              " (494, 0.13079650303874282),\n",
              " (2052, 0.13079650303874282),\n",
              " (337, 0.13059197358908195),\n",
              " (2095, 0.13059197358908195),\n",
              " (973, 0.13027071363481488),\n",
              " (456, 0.13005121775247103),\n",
              " (351, 0.12888481555661677),\n",
              " (1051, 0.1287760060686205),\n",
              " (1575, 0.1287760060686205),\n",
              " (750, 0.1285980859121099),\n",
              " (882, 0.1285980859121099),\n",
              " (843, 0.12854519753400953),\n",
              " (871, 0.12851069338695553),\n",
              " (1121, 0.12851069338695553),\n",
              " (653, 0.12842696396550068),\n",
              " (1154, 0.12842696396550068),\n",
              " (1749, 0.12842696396550068),\n",
              " (1420, 0.1282804285659086),\n",
              " (1162, 0.12812442652769462),\n",
              " (1492, 0.12812442652769462),\n",
              " (1539, 0.12812442652769462),\n",
              " (2277, 0.12812442652769462),\n",
              " (1317, 0.12796862503070064),\n",
              " (495, 0.12781790832178125),\n",
              " (1787, 0.12716975459950014),\n",
              " (2656, 0.12716975459950014),\n",
              " (33, 0.1271697545995001),\n",
              " (581, 0.12708214194383724),\n",
              " (1027, 0.12708214194383724),\n",
              " (2199, 0.12708214194383724),\n",
              " (2365, 0.12708214194383724),\n",
              " (190, 0.1268864803313441),\n",
              " (1894, 0.1268864803313441),\n",
              " (1780, 0.1265069207602891),\n",
              " (584, 0.1262808134825738),\n",
              " (1254, 0.12580490207067818),\n",
              " (2641, 0.12580490207067818),\n",
              " (817, 0.12529036043768355),\n",
              " (1213, 0.12503229556958678),\n",
              " (1718, 0.12488459050258424),\n",
              " (940, 0.12479218605744782),\n",
              " (1751, 0.12451456127293808),\n",
              " (22, 0.12451456127293806),\n",
              " (1709, 0.12451456127293806),\n",
              " (2020, 0.12451456127293806),\n",
              " (2021, 0.12451456127293806),\n",
              " (124, 0.12400320567802567),\n",
              " (25, 0.12375299717919486),\n",
              " (930, 0.12375299717919486),\n",
              " (1360, 0.12328778690921818),\n",
              " (1704, 0.12328778690921818),\n",
              " (125, 0.12326312688558735),\n",
              " (2241, 0.12326312688558735),\n",
              " (376, 0.12299911461286576),\n",
              " (2296, 0.12282040666825127),\n",
              " (206, 0.12261346396578744),\n",
              " (249, 0.12261346396578744),\n",
              " (2836, 0.12261346396578744),\n",
              " (696, 0.12227087189088337),\n",
              " (1364, 0.12227087189088337),\n",
              " (1322, 0.12209657262637609),\n",
              " (180, 0.1219988562660837),\n",
              " (1641, 0.12119357448701652),\n",
              " (2565, 0.12119357448701652),\n",
              " (409, 0.12106199961977328),\n",
              " (1444, 0.12106199961977328),\n",
              " (1977, 0.12093923302202209),\n",
              " (2397, 0.12093923302202207),\n",
              " (434, 0.12086944024924487),\n",
              " (1319, 0.12086944024924487),\n",
              " (1855, 0.12086944024924487),\n",
              " (224, 0.12086944024924486),\n",
              " (1731, 0.12079686777782725),\n",
              " (2146, 0.12040403139513454),\n",
              " (1086, 0.11981419244826491),\n",
              " (1576, 0.11981419244826491),\n",
              " (536, 0.1198141924482649),\n",
              " (629, 0.1198141924482649),\n",
              " (1589, 0.1198141924482649),\n",
              " (823, 0.11945967147042724),\n",
              " (191, 0.11905869272970872),\n",
              " (1915, 0.11905869272970872),\n",
              " (1272, 0.11860999914758141),\n",
              " (2698, 0.11832061780968749),\n",
              " (243, 0.11812488464372367),\n",
              " (256, 0.11812488464372367),\n",
              " (799, 0.11812488464372367),\n",
              " (1303, 0.11812488464372367),\n",
              " (1309, 0.11812488464372367),\n",
              " (2502, 0.11812488464372367),\n",
              " (2849, 0.11812488464372366),\n",
              " (2890, 0.11812488464372366),\n",
              " (2919, 0.11812488464372364),\n",
              " (2700, 0.11765520133375294),\n",
              " (194, 0.11739345417674985),\n",
              " (738, 0.11739345417674985),\n",
              " (1441, 0.11739345417674985),\n",
              " (2369, 0.11739345417674985),\n",
              " (1012, 0.11683386353430186),\n",
              " (1957, 0.11683386353430186),\n",
              " (2853, 0.11661857142355325),\n",
              " (1063, 0.11647270698695131),\n",
              " (1384, 0.11647270698695131),\n",
              " (442, 0.11575741235902598),\n",
              " (1967, 0.11560886781772738),\n",
              " (2559, 0.11558426756895063),\n",
              " (2808, 0.11558426756895063),\n",
              " (1643, 0.11558426756895061),\n",
              " (712, 0.115278083540847),\n",
              " (2417, 0.11513588775027389),\n",
              " (719, 0.11503523919374475),\n",
              " (1531, 0.11493932852241452),\n",
              " (558, 0.11462494466661236),\n",
              " (426, 0.114597970917641),\n",
              " (2000, 0.11444694015889996),\n",
              " (2661, 0.11444694015889996),\n",
              " (2693, 0.11444694015889996),\n",
              " (248, 0.11437392774945353),\n",
              " (402, 0.11437392774945353),\n",
              " (2309, 0.11426239780800848),\n",
              " (2487, 0.11426239780800848),\n",
              " (521, 0.11426239780800847),\n",
              " (2461, 0.11426239780800847),\n",
              " (431, 0.11413834783352657),\n",
              " (2283, 0.11392975547828735),\n",
              " (364, 0.11389058147325133),\n",
              " (802, 0.1136657232450789),\n",
              " (1607, 0.1136657232450789),\n",
              " (1994, 0.1136657232450789),\n",
              " (201, 0.11320083081329449),\n",
              " (310, 0.11320083081329449),\n",
              " (453, 0.11320083081329449),\n",
              " (515, 0.11320083081329449),\n",
              " (672, 0.11320083081329449),\n",
              " (1111, 0.11278798251675029),\n",
              " (339, 0.11278798251675028),\n",
              " (2547, 0.11278798251675028),\n",
              " (504, 0.11273018698002334),\n",
              " (1629, 0.11273018698002334),\n",
              " (2064, 0.11273018698002334),\n",
              " (223, 0.11262765836674167),\n",
              " ...]"
            ]
          },
          "metadata": {},
          "execution_count": 369
        }
      ]
    },
    {
      "cell_type": "code",
      "source": [
        "def recommend(anime):\n",
        "  anime_index = animef_df[animef_df['title']==anime].index[0]\n",
        "  distances = similarity[anime_index]\n",
        "  anime_list = sorted(list(enumerate(distances)),reverse=True,key=lambda x:x[1])[1:6]\n",
        "\n",
        "  for i in anime_list:\n",
        "    print(animef_df.iloc[i[0]].title)"
      ],
      "metadata": {
        "id": "5dJygPxaQpyt"
      },
      "execution_count": 370,
      "outputs": []
    },
    {
      "cell_type": "code",
      "source": [
        "recommend('Fullmetal Alchemist')"
      ],
      "metadata": {
        "colab": {
          "base_uri": "https://localhost:8080/"
        },
        "id": "1aMMdvTUUOuN",
        "outputId": "849a2790-2fbd-477f-ab7e-8572de85b1b1"
      },
      "execution_count": 374,
      "outputs": [
        {
          "output_type": "stream",
          "name": "stdout",
          "text": [
            "Fullmetal Alchemist: Brotherhood\n",
            "D_Cide Traumerei the Animation\n",
            "Power Stone\n",
            "Ozma\n",
            "Fullmetal Alchemist: Brotherhood Specials\n"
          ]
        }
      ]
    },
    {
      "cell_type": "code",
      "source": [],
      "metadata": {
        "id": "ABmOmlzWZqmS"
      },
      "execution_count": null,
      "outputs": []
    }
  ],
  "metadata": {
    "colab": {
      "collapsed_sections": [],
      "provenance": [],
      "authorship_tag": "ABX9TyMkLncirvykbirZGn61Mcho",
      "include_colab_link": true
    },
    "kernelspec": {
      "display_name": "Python 3",
      "name": "python3"
    },
    "language_info": {
      "name": "python"
    }
  },
  "nbformat": 4,
  "nbformat_minor": 0
}