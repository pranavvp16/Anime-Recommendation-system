{
  "nbformat": 4,
  "nbformat_minor": 0,
  "metadata": {
    "colab": {
      "provenance": [],
      "collapsed_sections": [],
      "mount_file_id": "1QtmogFPIfd3nZDDwBr1YEFtHfi-i3ktO",
      "authorship_tag": "ABX9TyP3DR8xBqtM51AIkI3vkEat",
      "include_colab_link": true
    },
    "kernelspec": {
      "name": "python3",
      "display_name": "Python 3"
    },
    "language_info": {
      "name": "python"
    }
  },
  "cells": [
    {
      "cell_type": "markdown",
      "metadata": {
        "id": "view-in-github",
        "colab_type": "text"
      },
      "source": [
        "<a href=\"https://colab.research.google.com/github/pranavvp16/Anime-Recommendation-system/blob/main/anime_recommendation_model.ipynb\" target=\"_parent\"><img src=\"https://colab.research.google.com/assets/colab-badge.svg\" alt=\"Open In Colab\"/></a>"
      ]
    },
    {
      "cell_type": "code",
      "execution_count": 1,
      "metadata": {
        "id": "lgSmw4ODXrVo"
      },
      "outputs": [],
      "source": [
        "import numpy as np \n",
        "import pandas as pd"
      ]
    },
    {
      "cell_type": "code",
      "source": [
        "from google.colab import drive\n",
        "drive.mount('/content/drive')"
      ],
      "metadata": {
        "colab": {
          "base_uri": "https://localhost:8080/"
        },
        "id": "n0VdRX-U6QeY",
        "outputId": "80851863-5b16-47eb-fc7b-beee5fb35393"
      },
      "execution_count": 2,
      "outputs": [
        {
          "output_type": "stream",
          "name": "stdout",
          "text": [
            "Drive already mounted at /content/drive; to attempt to forcibly remount, call drive.mount(\"/content/drive\", force_remount=True).\n"
          ]
        }
      ]
    },
    {
      "cell_type": "code",
      "source": [
        "## This is content based recommendation system\n",
        "### Data : The dataset used in the system is downloaded from kaggle link: "
      ],
      "metadata": {
        "id": "Uf32Q9wmjWIV"
      },
      "execution_count": 3,
      "outputs": []
    },
    {
      "cell_type": "code",
      "source": [
        "data_frame = pd.read_csv(\"drive/MyDrive/Anime recommendation system/anime.csv\")"
      ],
      "metadata": {
        "id": "-qvVVSlwXwHD"
      },
      "execution_count": 4,
      "outputs": []
    },
    {
      "cell_type": "code",
      "source": [
        "data_frame.head(1)"
      ],
      "metadata": {
        "colab": {
          "base_uri": "https://localhost:8080/",
          "height": 261
        },
        "id": "5l3fNGemX6Ca",
        "outputId": "d3b828a0-e984-43c4-84af-7d329c49424d"
      },
      "execution_count": 5,
      "outputs": [
        {
          "output_type": "execute_result",
          "data": {
            "text/plain": [
              "   anime_id                             title type  score  scored_by  \\\n",
              "0      5114  Fullmetal Alchemist: Brotherhood   tv   9.13    1871705   \n",
              "\n",
              "            status  episodes  start_date    end_date source  ...  \\\n",
              "0  finished_airing      64.0  2009-04-05  2010-07-04  manga  ...   \n",
              "\n",
              "                                           producers  \\\n",
              "0  ['Aniplex', 'Square Enix', 'Mainichi Broadcast...   \n",
              "\n",
              "                              licensors  \\\n",
              "0  ['Funimation', 'Aniplex of America']   \n",
              "\n",
              "                                            synopsis background  \\\n",
              "0  After a horrific alchemy experiment goes wrong...        NaN   \n",
              "\n",
              "                                        main_picture  \\\n",
              "0  https://cdn.myanimelist.net/images/anime/1223/...   \n",
              "\n",
              "                                                 url  \\\n",
              "0  https://myanimelist.net/anime/5114/Fullmetal_A...   \n",
              "\n",
              "                                   trailer_url  \\\n",
              "0  https://www.youtube.com/watch?v=--IcmZkvL0Q   \n",
              "\n",
              "                      title_english              title_japanese  \\\n",
              "0  Fullmetal Alchemist: Brotherhood  鋼の錬金術師 FULLMETAL ALCHEMIST   \n",
              "\n",
              "                                      title_synonyms  \n",
              "0  ['Hagane no Renkinjutsushi: Fullmetal Alchemis...  \n",
              "\n",
              "[1 rows x 39 columns]"
            ],
            "text/html": [
              "\n",
              "  <div id=\"df-d36fe45e-81a2-4506-825a-cab09b6b0ad7\">\n",
              "    <div class=\"colab-df-container\">\n",
              "      <div>\n",
              "<style scoped>\n",
              "    .dataframe tbody tr th:only-of-type {\n",
              "        vertical-align: middle;\n",
              "    }\n",
              "\n",
              "    .dataframe tbody tr th {\n",
              "        vertical-align: top;\n",
              "    }\n",
              "\n",
              "    .dataframe thead th {\n",
              "        text-align: right;\n",
              "    }\n",
              "</style>\n",
              "<table border=\"1\" class=\"dataframe\">\n",
              "  <thead>\n",
              "    <tr style=\"text-align: right;\">\n",
              "      <th></th>\n",
              "      <th>anime_id</th>\n",
              "      <th>title</th>\n",
              "      <th>type</th>\n",
              "      <th>score</th>\n",
              "      <th>scored_by</th>\n",
              "      <th>status</th>\n",
              "      <th>episodes</th>\n",
              "      <th>start_date</th>\n",
              "      <th>end_date</th>\n",
              "      <th>source</th>\n",
              "      <th>...</th>\n",
              "      <th>producers</th>\n",
              "      <th>licensors</th>\n",
              "      <th>synopsis</th>\n",
              "      <th>background</th>\n",
              "      <th>main_picture</th>\n",
              "      <th>url</th>\n",
              "      <th>trailer_url</th>\n",
              "      <th>title_english</th>\n",
              "      <th>title_japanese</th>\n",
              "      <th>title_synonyms</th>\n",
              "    </tr>\n",
              "  </thead>\n",
              "  <tbody>\n",
              "    <tr>\n",
              "      <th>0</th>\n",
              "      <td>5114</td>\n",
              "      <td>Fullmetal Alchemist: Brotherhood</td>\n",
              "      <td>tv</td>\n",
              "      <td>9.13</td>\n",
              "      <td>1871705</td>\n",
              "      <td>finished_airing</td>\n",
              "      <td>64.0</td>\n",
              "      <td>2009-04-05</td>\n",
              "      <td>2010-07-04</td>\n",
              "      <td>manga</td>\n",
              "      <td>...</td>\n",
              "      <td>['Aniplex', 'Square Enix', 'Mainichi Broadcast...</td>\n",
              "      <td>['Funimation', 'Aniplex of America']</td>\n",
              "      <td>After a horrific alchemy experiment goes wrong...</td>\n",
              "      <td>NaN</td>\n",
              "      <td>https://cdn.myanimelist.net/images/anime/1223/...</td>\n",
              "      <td>https://myanimelist.net/anime/5114/Fullmetal_A...</td>\n",
              "      <td>https://www.youtube.com/watch?v=--IcmZkvL0Q</td>\n",
              "      <td>Fullmetal Alchemist: Brotherhood</td>\n",
              "      <td>鋼の錬金術師 FULLMETAL ALCHEMIST</td>\n",
              "      <td>['Hagane no Renkinjutsushi: Fullmetal Alchemis...</td>\n",
              "    </tr>\n",
              "  </tbody>\n",
              "</table>\n",
              "<p>1 rows × 39 columns</p>\n",
              "</div>\n",
              "      <button class=\"colab-df-convert\" onclick=\"convertToInteractive('df-d36fe45e-81a2-4506-825a-cab09b6b0ad7')\"\n",
              "              title=\"Convert this dataframe to an interactive table.\"\n",
              "              style=\"display:none;\">\n",
              "        \n",
              "  <svg xmlns=\"http://www.w3.org/2000/svg\" height=\"24px\"viewBox=\"0 0 24 24\"\n",
              "       width=\"24px\">\n",
              "    <path d=\"M0 0h24v24H0V0z\" fill=\"none\"/>\n",
              "    <path d=\"M18.56 5.44l.94 2.06.94-2.06 2.06-.94-2.06-.94-.94-2.06-.94 2.06-2.06.94zm-11 1L8.5 8.5l.94-2.06 2.06-.94-2.06-.94L8.5 2.5l-.94 2.06-2.06.94zm10 10l.94 2.06.94-2.06 2.06-.94-2.06-.94-.94-2.06-.94 2.06-2.06.94z\"/><path d=\"M17.41 7.96l-1.37-1.37c-.4-.4-.92-.59-1.43-.59-.52 0-1.04.2-1.43.59L10.3 9.45l-7.72 7.72c-.78.78-.78 2.05 0 2.83L4 21.41c.39.39.9.59 1.41.59.51 0 1.02-.2 1.41-.59l7.78-7.78 2.81-2.81c.8-.78.8-2.07 0-2.86zM5.41 20L4 18.59l7.72-7.72 1.47 1.35L5.41 20z\"/>\n",
              "  </svg>\n",
              "      </button>\n",
              "      \n",
              "  <style>\n",
              "    .colab-df-container {\n",
              "      display:flex;\n",
              "      flex-wrap:wrap;\n",
              "      gap: 12px;\n",
              "    }\n",
              "\n",
              "    .colab-df-convert {\n",
              "      background-color: #E8F0FE;\n",
              "      border: none;\n",
              "      border-radius: 50%;\n",
              "      cursor: pointer;\n",
              "      display: none;\n",
              "      fill: #1967D2;\n",
              "      height: 32px;\n",
              "      padding: 0 0 0 0;\n",
              "      width: 32px;\n",
              "    }\n",
              "\n",
              "    .colab-df-convert:hover {\n",
              "      background-color: #E2EBFA;\n",
              "      box-shadow: 0px 1px 2px rgba(60, 64, 67, 0.3), 0px 1px 3px 1px rgba(60, 64, 67, 0.15);\n",
              "      fill: #174EA6;\n",
              "    }\n",
              "\n",
              "    [theme=dark] .colab-df-convert {\n",
              "      background-color: #3B4455;\n",
              "      fill: #D2E3FC;\n",
              "    }\n",
              "\n",
              "    [theme=dark] .colab-df-convert:hover {\n",
              "      background-color: #434B5C;\n",
              "      box-shadow: 0px 1px 3px 1px rgba(0, 0, 0, 0.15);\n",
              "      filter: drop-shadow(0px 1px 2px rgba(0, 0, 0, 0.3));\n",
              "      fill: #FFFFFF;\n",
              "    }\n",
              "  </style>\n",
              "\n",
              "      <script>\n",
              "        const buttonEl =\n",
              "          document.querySelector('#df-d36fe45e-81a2-4506-825a-cab09b6b0ad7 button.colab-df-convert');\n",
              "        buttonEl.style.display =\n",
              "          google.colab.kernel.accessAllowed ? 'block' : 'none';\n",
              "\n",
              "        async function convertToInteractive(key) {\n",
              "          const element = document.querySelector('#df-d36fe45e-81a2-4506-825a-cab09b6b0ad7');\n",
              "          const dataTable =\n",
              "            await google.colab.kernel.invokeFunction('convertToInteractive',\n",
              "                                                     [key], {});\n",
              "          if (!dataTable) return;\n",
              "\n",
              "          const docLinkHtml = 'Like what you see? Visit the ' +\n",
              "            '<a target=\"_blank\" href=https://colab.research.google.com/notebooks/data_table.ipynb>data table notebook</a>'\n",
              "            + ' to learn more about interactive tables.';\n",
              "          element.innerHTML = '';\n",
              "          dataTable['output_type'] = 'display_data';\n",
              "          await google.colab.output.renderOutput(dataTable, element);\n",
              "          const docLink = document.createElement('div');\n",
              "          docLink.innerHTML = docLinkHtml;\n",
              "          element.appendChild(docLink);\n",
              "        }\n",
              "      </script>\n",
              "    </div>\n",
              "  </div>\n",
              "  "
            ]
          },
          "metadata": {},
          "execution_count": 5
        }
      ]
    },
    {
      "cell_type": "code",
      "source": [
        "data_frame.info()"
      ],
      "metadata": {
        "id": "f_YH2Qa_fU9J",
        "colab": {
          "base_uri": "https://localhost:8080/"
        },
        "outputId": "aa46f21a-2e39-4368-eda4-335932557415"
      },
      "execution_count": 6,
      "outputs": [
        {
          "output_type": "stream",
          "name": "stdout",
          "text": [
            "<class 'pandas.core.frame.DataFrame'>\n",
            "RangeIndex: 24165 entries, 0 to 24164\n",
            "Data columns (total 39 columns):\n",
            " #   Column            Non-Null Count  Dtype  \n",
            "---  ------            --------------  -----  \n",
            " 0   anime_id          24165 non-null  int64  \n",
            " 1   title             24165 non-null  object \n",
            " 2   type              24092 non-null  object \n",
            " 3   score             14272 non-null  float64\n",
            " 4   scored_by         24165 non-null  int64  \n",
            " 5   status            24165 non-null  object \n",
            " 6   episodes          23397 non-null  float64\n",
            " 7   start_date        21391 non-null  object \n",
            " 8   end_date          19912 non-null  object \n",
            " 9   source            20404 non-null  object \n",
            " 10  members           24165 non-null  int64  \n",
            " 11  favorites         24165 non-null  int64  \n",
            " 12  episode_duration  23302 non-null  object \n",
            " 13  total_duration    23002 non-null  object \n",
            " 14  rating            23148 non-null  object \n",
            " 15  sfw               24165 non-null  bool   \n",
            " 16  approved          24165 non-null  bool   \n",
            " 17  created_at        24165 non-null  object \n",
            " 18  updated_at        24165 non-null  object \n",
            " 19  start_year        17749 non-null  float64\n",
            " 20  start_season      17749 non-null  object \n",
            " 21  real_start_date   21391 non-null  object \n",
            " 22  real_end_date     19912 non-null  object \n",
            " 23  broadcast_day     3065 non-null   object \n",
            " 24  broadcast_time    2928 non-null   object \n",
            " 25  genres            24165 non-null  object \n",
            " 26  themes            24165 non-null  object \n",
            " 27  demographics      24165 non-null  object \n",
            " 28  studios           24165 non-null  object \n",
            " 29  producers         24165 non-null  object \n",
            " 30  licensors         24165 non-null  object \n",
            " 31  synopsis          20848 non-null  object \n",
            " 32  background        2342 non-null   object \n",
            " 33  main_picture      21378 non-null  object \n",
            " 34  url               24165 non-null  object \n",
            " 35  trailer_url       4362 non-null   object \n",
            " 36  title_english     9084 non-null   object \n",
            " 37  title_japanese    23911 non-null  object \n",
            " 38  title_synonyms    24165 non-null  object \n",
            "dtypes: bool(2), float64(3), int64(4), object(30)\n",
            "memory usage: 6.9+ MB\n"
          ]
        }
      ]
    },
    {
      "cell_type": "markdown",
      "source": [
        "### Usefull columns for the recommendation system\n",
        "* anime id\n",
        "* title\n",
        "* score \n",
        "* start_date\n",
        "* genres\n",
        "* synopsis"
      ],
      "metadata": {
        "id": "8CfI6wvsl3yV"
      }
    },
    {
      "cell_type": "code",
      "source": [
        "anime_df = data_frame[[\"anime_id\",\"title\",\"type\",\"score\",\"start_date\",\"genres\",\"synopsis\"]]"
      ],
      "metadata": {
        "id": "oQ4Vo5tclZRT"
      },
      "execution_count": 7,
      "outputs": []
    },
    {
      "cell_type": "code",
      "source": [
        "anime_df"
      ],
      "metadata": {
        "colab": {
          "base_uri": "https://localhost:8080/",
          "height": 641
        },
        "id": "dgKf969inXgr",
        "outputId": "0a936bce-eefd-419c-cc78-8a1de4537936"
      },
      "execution_count": 8,
      "outputs": [
        {
          "output_type": "execute_result",
          "data": {
            "text/plain": [
              "       anime_id                                           title   type  score  \\\n",
              "0          5114                Fullmetal Alchemist: Brotherhood     tv   9.13   \n",
              "1         11061                          Hunter x Hunter (2011)     tv   9.04   \n",
              "2         38524              Shingeki no Kyojin Season 3 Part 2     tv   9.07   \n",
              "3          9253                                     Steins;Gate     tv   9.08   \n",
              "4         28851                                  Koe no Katachi  movie   8.95   \n",
              "...         ...                                             ...    ...    ...   \n",
              "24160     52470                                      STARTLINER  music    NaN   \n",
              "24161     52474  Blue Archive: 1.5 Shuunenkinen Short Animation    ona    NaN   \n",
              "24162     52475                                  Ryuujin Kappei    ova    NaN   \n",
              "24163     52476                              Yeongnihan neoguri    NaN    NaN   \n",
              "24164     52477                     Dab-eul chaj-eun du sonyeon    NaN    NaN   \n",
              "\n",
              "       start_date                                       genres  \\\n",
              "0      2009-04-05  ['Action', 'Adventure', 'Drama', 'Fantasy']   \n",
              "1      2011-10-02           ['Action', 'Adventure', 'Fantasy']   \n",
              "2      2019-04-29                          ['Action', 'Drama']   \n",
              "3      2011-04-06              ['Drama', 'Sci-Fi', 'Suspense']   \n",
              "4      2016-09-17                                    ['Drama']   \n",
              "...           ...                                          ...   \n",
              "24160  2018-07-25                                           []   \n",
              "24161  2022-07-16                        ['Action', 'Fantasy']   \n",
              "24162  1991-04-21           ['Action', 'Adventure', 'Fantasy']   \n",
              "24163  1988-01-01                                           []   \n",
              "24164  2015-01-01                                           []   \n",
              "\n",
              "                                                synopsis  \n",
              "0      After a horrific alchemy experiment goes wrong...  \n",
              "1      Hunters devote themselves to accomplishing haz...  \n",
              "2      Seeking to restore humanity's diminishing hope...  \n",
              "3      Eccentric scientist Rintarou Okabe has a never...  \n",
              "4      As a wild youth, elementary school student Sho...  \n",
              "...                                                  ...  \n",
              "24160  Music video for the main theme of ONGEKI, \"STA...  \n",
              "24161                                                NaN  \n",
              "24162  Kappei got drown into a strange picture book. ...  \n",
              "24163  Clever Raccoon Dog is a North Korean animated ...  \n",
              "24164  Two young boys play a computer game that invol...  \n",
              "\n",
              "[24165 rows x 7 columns]"
            ],
            "text/html": [
              "\n",
              "  <div id=\"df-d1806631-893d-4d5b-a595-37e978d55900\">\n",
              "    <div class=\"colab-df-container\">\n",
              "      <div>\n",
              "<style scoped>\n",
              "    .dataframe tbody tr th:only-of-type {\n",
              "        vertical-align: middle;\n",
              "    }\n",
              "\n",
              "    .dataframe tbody tr th {\n",
              "        vertical-align: top;\n",
              "    }\n",
              "\n",
              "    .dataframe thead th {\n",
              "        text-align: right;\n",
              "    }\n",
              "</style>\n",
              "<table border=\"1\" class=\"dataframe\">\n",
              "  <thead>\n",
              "    <tr style=\"text-align: right;\">\n",
              "      <th></th>\n",
              "      <th>anime_id</th>\n",
              "      <th>title</th>\n",
              "      <th>type</th>\n",
              "      <th>score</th>\n",
              "      <th>start_date</th>\n",
              "      <th>genres</th>\n",
              "      <th>synopsis</th>\n",
              "    </tr>\n",
              "  </thead>\n",
              "  <tbody>\n",
              "    <tr>\n",
              "      <th>0</th>\n",
              "      <td>5114</td>\n",
              "      <td>Fullmetal Alchemist: Brotherhood</td>\n",
              "      <td>tv</td>\n",
              "      <td>9.13</td>\n",
              "      <td>2009-04-05</td>\n",
              "      <td>['Action', 'Adventure', 'Drama', 'Fantasy']</td>\n",
              "      <td>After a horrific alchemy experiment goes wrong...</td>\n",
              "    </tr>\n",
              "    <tr>\n",
              "      <th>1</th>\n",
              "      <td>11061</td>\n",
              "      <td>Hunter x Hunter (2011)</td>\n",
              "      <td>tv</td>\n",
              "      <td>9.04</td>\n",
              "      <td>2011-10-02</td>\n",
              "      <td>['Action', 'Adventure', 'Fantasy']</td>\n",
              "      <td>Hunters devote themselves to accomplishing haz...</td>\n",
              "    </tr>\n",
              "    <tr>\n",
              "      <th>2</th>\n",
              "      <td>38524</td>\n",
              "      <td>Shingeki no Kyojin Season 3 Part 2</td>\n",
              "      <td>tv</td>\n",
              "      <td>9.07</td>\n",
              "      <td>2019-04-29</td>\n",
              "      <td>['Action', 'Drama']</td>\n",
              "      <td>Seeking to restore humanity's diminishing hope...</td>\n",
              "    </tr>\n",
              "    <tr>\n",
              "      <th>3</th>\n",
              "      <td>9253</td>\n",
              "      <td>Steins;Gate</td>\n",
              "      <td>tv</td>\n",
              "      <td>9.08</td>\n",
              "      <td>2011-04-06</td>\n",
              "      <td>['Drama', 'Sci-Fi', 'Suspense']</td>\n",
              "      <td>Eccentric scientist Rintarou Okabe has a never...</td>\n",
              "    </tr>\n",
              "    <tr>\n",
              "      <th>4</th>\n",
              "      <td>28851</td>\n",
              "      <td>Koe no Katachi</td>\n",
              "      <td>movie</td>\n",
              "      <td>8.95</td>\n",
              "      <td>2016-09-17</td>\n",
              "      <td>['Drama']</td>\n",
              "      <td>As a wild youth, elementary school student Sho...</td>\n",
              "    </tr>\n",
              "    <tr>\n",
              "      <th>...</th>\n",
              "      <td>...</td>\n",
              "      <td>...</td>\n",
              "      <td>...</td>\n",
              "      <td>...</td>\n",
              "      <td>...</td>\n",
              "      <td>...</td>\n",
              "      <td>...</td>\n",
              "    </tr>\n",
              "    <tr>\n",
              "      <th>24160</th>\n",
              "      <td>52470</td>\n",
              "      <td>STARTLINER</td>\n",
              "      <td>music</td>\n",
              "      <td>NaN</td>\n",
              "      <td>2018-07-25</td>\n",
              "      <td>[]</td>\n",
              "      <td>Music video for the main theme of ONGEKI, \"STA...</td>\n",
              "    </tr>\n",
              "    <tr>\n",
              "      <th>24161</th>\n",
              "      <td>52474</td>\n",
              "      <td>Blue Archive: 1.5 Shuunenkinen Short Animation</td>\n",
              "      <td>ona</td>\n",
              "      <td>NaN</td>\n",
              "      <td>2022-07-16</td>\n",
              "      <td>['Action', 'Fantasy']</td>\n",
              "      <td>NaN</td>\n",
              "    </tr>\n",
              "    <tr>\n",
              "      <th>24162</th>\n",
              "      <td>52475</td>\n",
              "      <td>Ryuujin Kappei</td>\n",
              "      <td>ova</td>\n",
              "      <td>NaN</td>\n",
              "      <td>1991-04-21</td>\n",
              "      <td>['Action', 'Adventure', 'Fantasy']</td>\n",
              "      <td>Kappei got drown into a strange picture book. ...</td>\n",
              "    </tr>\n",
              "    <tr>\n",
              "      <th>24163</th>\n",
              "      <td>52476</td>\n",
              "      <td>Yeongnihan neoguri</td>\n",
              "      <td>NaN</td>\n",
              "      <td>NaN</td>\n",
              "      <td>1988-01-01</td>\n",
              "      <td>[]</td>\n",
              "      <td>Clever Raccoon Dog is a North Korean animated ...</td>\n",
              "    </tr>\n",
              "    <tr>\n",
              "      <th>24164</th>\n",
              "      <td>52477</td>\n",
              "      <td>Dab-eul chaj-eun du sonyeon</td>\n",
              "      <td>NaN</td>\n",
              "      <td>NaN</td>\n",
              "      <td>2015-01-01</td>\n",
              "      <td>[]</td>\n",
              "      <td>Two young boys play a computer game that invol...</td>\n",
              "    </tr>\n",
              "  </tbody>\n",
              "</table>\n",
              "<p>24165 rows × 7 columns</p>\n",
              "</div>\n",
              "      <button class=\"colab-df-convert\" onclick=\"convertToInteractive('df-d1806631-893d-4d5b-a595-37e978d55900')\"\n",
              "              title=\"Convert this dataframe to an interactive table.\"\n",
              "              style=\"display:none;\">\n",
              "        \n",
              "  <svg xmlns=\"http://www.w3.org/2000/svg\" height=\"24px\"viewBox=\"0 0 24 24\"\n",
              "       width=\"24px\">\n",
              "    <path d=\"M0 0h24v24H0V0z\" fill=\"none\"/>\n",
              "    <path d=\"M18.56 5.44l.94 2.06.94-2.06 2.06-.94-2.06-.94-.94-2.06-.94 2.06-2.06.94zm-11 1L8.5 8.5l.94-2.06 2.06-.94-2.06-.94L8.5 2.5l-.94 2.06-2.06.94zm10 10l.94 2.06.94-2.06 2.06-.94-2.06-.94-.94-2.06-.94 2.06-2.06.94z\"/><path d=\"M17.41 7.96l-1.37-1.37c-.4-.4-.92-.59-1.43-.59-.52 0-1.04.2-1.43.59L10.3 9.45l-7.72 7.72c-.78.78-.78 2.05 0 2.83L4 21.41c.39.39.9.59 1.41.59.51 0 1.02-.2 1.41-.59l7.78-7.78 2.81-2.81c.8-.78.8-2.07 0-2.86zM5.41 20L4 18.59l7.72-7.72 1.47 1.35L5.41 20z\"/>\n",
              "  </svg>\n",
              "      </button>\n",
              "      \n",
              "  <style>\n",
              "    .colab-df-container {\n",
              "      display:flex;\n",
              "      flex-wrap:wrap;\n",
              "      gap: 12px;\n",
              "    }\n",
              "\n",
              "    .colab-df-convert {\n",
              "      background-color: #E8F0FE;\n",
              "      border: none;\n",
              "      border-radius: 50%;\n",
              "      cursor: pointer;\n",
              "      display: none;\n",
              "      fill: #1967D2;\n",
              "      height: 32px;\n",
              "      padding: 0 0 0 0;\n",
              "      width: 32px;\n",
              "    }\n",
              "\n",
              "    .colab-df-convert:hover {\n",
              "      background-color: #E2EBFA;\n",
              "      box-shadow: 0px 1px 2px rgba(60, 64, 67, 0.3), 0px 1px 3px 1px rgba(60, 64, 67, 0.15);\n",
              "      fill: #174EA6;\n",
              "    }\n",
              "\n",
              "    [theme=dark] .colab-df-convert {\n",
              "      background-color: #3B4455;\n",
              "      fill: #D2E3FC;\n",
              "    }\n",
              "\n",
              "    [theme=dark] .colab-df-convert:hover {\n",
              "      background-color: #434B5C;\n",
              "      box-shadow: 0px 1px 3px 1px rgba(0, 0, 0, 0.15);\n",
              "      filter: drop-shadow(0px 1px 2px rgba(0, 0, 0, 0.3));\n",
              "      fill: #FFFFFF;\n",
              "    }\n",
              "  </style>\n",
              "\n",
              "      <script>\n",
              "        const buttonEl =\n",
              "          document.querySelector('#df-d1806631-893d-4d5b-a595-37e978d55900 button.colab-df-convert');\n",
              "        buttonEl.style.display =\n",
              "          google.colab.kernel.accessAllowed ? 'block' : 'none';\n",
              "\n",
              "        async function convertToInteractive(key) {\n",
              "          const element = document.querySelector('#df-d1806631-893d-4d5b-a595-37e978d55900');\n",
              "          const dataTable =\n",
              "            await google.colab.kernel.invokeFunction('convertToInteractive',\n",
              "                                                     [key], {});\n",
              "          if (!dataTable) return;\n",
              "\n",
              "          const docLinkHtml = 'Like what you see? Visit the ' +\n",
              "            '<a target=\"_blank\" href=https://colab.research.google.com/notebooks/data_table.ipynb>data table notebook</a>'\n",
              "            + ' to learn more about interactive tables.';\n",
              "          element.innerHTML = '';\n",
              "          dataTable['output_type'] = 'display_data';\n",
              "          await google.colab.output.renderOutput(dataTable, element);\n",
              "          const docLink = document.createElement('div');\n",
              "          docLink.innerHTML = docLinkHtml;\n",
              "          element.appendChild(docLink);\n",
              "        }\n",
              "      </script>\n",
              "    </div>\n",
              "  </div>\n",
              "  "
            ]
          },
          "metadata": {},
          "execution_count": 8
        }
      ]
    },
    {
      "cell_type": "code",
      "source": [
        "anime_df.isna().sum()"
      ],
      "metadata": {
        "colab": {
          "base_uri": "https://localhost:8080/"
        },
        "id": "3kKavaFjnYze",
        "outputId": "78dd8617-bbeb-4b91-e8d2-21f806fb340b"
      },
      "execution_count": 9,
      "outputs": [
        {
          "output_type": "execute_result",
          "data": {
            "text/plain": [
              "anime_id         0\n",
              "title            0\n",
              "type            73\n",
              "score         9893\n",
              "start_date    2774\n",
              "genres           0\n",
              "synopsis      3317\n",
              "dtype: int64"
            ]
          },
          "metadata": {},
          "execution_count": 9
        }
      ]
    },
    {
      "cell_type": "code",
      "source": [
        "anime_df.columns"
      ],
      "metadata": {
        "colab": {
          "base_uri": "https://localhost:8080/"
        },
        "id": "-k8X8W44nowK",
        "outputId": "7cbdd724-3637-49a4-9a33-3a308829a727"
      },
      "execution_count": 10,
      "outputs": [
        {
          "output_type": "execute_result",
          "data": {
            "text/plain": [
              "Index(['anime_id', 'title', 'type', 'score', 'start_date', 'genres',\n",
              "       'synopsis'],\n",
              "      dtype='object')"
            ]
          },
          "metadata": {},
          "execution_count": 10
        }
      ]
    },
    {
      "cell_type": "code",
      "source": [
        "anime_df.dropna(subset=[\"synopsis\",\"start_date\",\"type\"] , inplace=True)"
      ],
      "metadata": {
        "id": "As6b1U_KpVqs",
        "colab": {
          "base_uri": "https://localhost:8080/"
        },
        "outputId": "c725cfa6-a6e7-4a48-975f-770dcf6ead83"
      },
      "execution_count": 11,
      "outputs": [
        {
          "output_type": "stream",
          "name": "stderr",
          "text": [
            "/usr/local/lib/python3.7/dist-packages/pandas/util/_decorators.py:311: SettingWithCopyWarning: \n",
            "A value is trying to be set on a copy of a slice from a DataFrame\n",
            "\n",
            "See the caveats in the documentation: https://pandas.pydata.org/pandas-docs/stable/user_guide/indexing.html#returning-a-view-versus-a-copy\n",
            "  return func(*args, **kwargs)\n"
          ]
        }
      ]
    },
    {
      "cell_type": "code",
      "source": [
        "anime_df.isna().sum()"
      ],
      "metadata": {
        "colab": {
          "base_uri": "https://localhost:8080/"
        },
        "id": "e1M7nk9ap6Ja",
        "outputId": "50e06e72-64c0-421b-82f2-e695d5e7cb24"
      },
      "execution_count": 12,
      "outputs": [
        {
          "output_type": "execute_result",
          "data": {
            "text/plain": [
              "anime_id         0\n",
              "title            0\n",
              "type             0\n",
              "score         5010\n",
              "start_date       0\n",
              "genres           0\n",
              "synopsis         0\n",
              "dtype: int64"
            ]
          },
          "metadata": {},
          "execution_count": 12
        }
      ]
    },
    {
      "cell_type": "code",
      "source": [
        "anime_df[\"score\"].mean()"
      ],
      "metadata": {
        "colab": {
          "base_uri": "https://localhost:8080/"
        },
        "id": "pAPlNKmbqGQv",
        "outputId": "f26d9b23-fcc0-4f40-cbe6-3e10bbf1d00b"
      },
      "execution_count": 13,
      "outputs": [
        {
          "output_type": "execute_result",
          "data": {
            "text/plain": [
              "6.467405912040375"
            ]
          },
          "metadata": {},
          "execution_count": 13
        }
      ]
    },
    {
      "cell_type": "code",
      "source": [
        "anime_df[\"score\"].fillna(value=anime_df[\"score\"].mean() , inplace = True)"
      ],
      "metadata": {
        "colab": {
          "base_uri": "https://localhost:8080/"
        },
        "id": "JWZifAVJq-tW",
        "outputId": "4a1b204a-4493-4556-d751-70eb63e5bc71"
      },
      "execution_count": 14,
      "outputs": [
        {
          "output_type": "stream",
          "name": "stderr",
          "text": [
            "/usr/local/lib/python3.7/dist-packages/pandas/core/generic.py:6392: SettingWithCopyWarning: \n",
            "A value is trying to be set on a copy of a slice from a DataFrame\n",
            "\n",
            "See the caveats in the documentation: https://pandas.pydata.org/pandas-docs/stable/user_guide/indexing.html#returning-a-view-versus-a-copy\n",
            "  return self._update_inplace(result)\n"
          ]
        }
      ]
    },
    {
      "cell_type": "code",
      "source": [
        "anime_df.head(1)"
      ],
      "metadata": {
        "colab": {
          "base_uri": "https://localhost:8080/",
          "height": 125
        },
        "id": "S2HOzh_hropd",
        "outputId": "a4a37980-a7f8-4c14-828f-a1e83d20b320"
      },
      "execution_count": 15,
      "outputs": [
        {
          "output_type": "execute_result",
          "data": {
            "text/plain": [
              "   anime_id                             title type  score  start_date  \\\n",
              "0      5114  Fullmetal Alchemist: Brotherhood   tv   9.13  2009-04-05   \n",
              "\n",
              "                                        genres  \\\n",
              "0  ['Action', 'Adventure', 'Drama', 'Fantasy']   \n",
              "\n",
              "                                            synopsis  \n",
              "0  After a horrific alchemy experiment goes wrong...  "
            ],
            "text/html": [
              "\n",
              "  <div id=\"df-33db2845-50ea-4f06-8f71-08376f94bae6\">\n",
              "    <div class=\"colab-df-container\">\n",
              "      <div>\n",
              "<style scoped>\n",
              "    .dataframe tbody tr th:only-of-type {\n",
              "        vertical-align: middle;\n",
              "    }\n",
              "\n",
              "    .dataframe tbody tr th {\n",
              "        vertical-align: top;\n",
              "    }\n",
              "\n",
              "    .dataframe thead th {\n",
              "        text-align: right;\n",
              "    }\n",
              "</style>\n",
              "<table border=\"1\" class=\"dataframe\">\n",
              "  <thead>\n",
              "    <tr style=\"text-align: right;\">\n",
              "      <th></th>\n",
              "      <th>anime_id</th>\n",
              "      <th>title</th>\n",
              "      <th>type</th>\n",
              "      <th>score</th>\n",
              "      <th>start_date</th>\n",
              "      <th>genres</th>\n",
              "      <th>synopsis</th>\n",
              "    </tr>\n",
              "  </thead>\n",
              "  <tbody>\n",
              "    <tr>\n",
              "      <th>0</th>\n",
              "      <td>5114</td>\n",
              "      <td>Fullmetal Alchemist: Brotherhood</td>\n",
              "      <td>tv</td>\n",
              "      <td>9.13</td>\n",
              "      <td>2009-04-05</td>\n",
              "      <td>['Action', 'Adventure', 'Drama', 'Fantasy']</td>\n",
              "      <td>After a horrific alchemy experiment goes wrong...</td>\n",
              "    </tr>\n",
              "  </tbody>\n",
              "</table>\n",
              "</div>\n",
              "      <button class=\"colab-df-convert\" onclick=\"convertToInteractive('df-33db2845-50ea-4f06-8f71-08376f94bae6')\"\n",
              "              title=\"Convert this dataframe to an interactive table.\"\n",
              "              style=\"display:none;\">\n",
              "        \n",
              "  <svg xmlns=\"http://www.w3.org/2000/svg\" height=\"24px\"viewBox=\"0 0 24 24\"\n",
              "       width=\"24px\">\n",
              "    <path d=\"M0 0h24v24H0V0z\" fill=\"none\"/>\n",
              "    <path d=\"M18.56 5.44l.94 2.06.94-2.06 2.06-.94-2.06-.94-.94-2.06-.94 2.06-2.06.94zm-11 1L8.5 8.5l.94-2.06 2.06-.94-2.06-.94L8.5 2.5l-.94 2.06-2.06.94zm10 10l.94 2.06.94-2.06 2.06-.94-2.06-.94-.94-2.06-.94 2.06-2.06.94z\"/><path d=\"M17.41 7.96l-1.37-1.37c-.4-.4-.92-.59-1.43-.59-.52 0-1.04.2-1.43.59L10.3 9.45l-7.72 7.72c-.78.78-.78 2.05 0 2.83L4 21.41c.39.39.9.59 1.41.59.51 0 1.02-.2 1.41-.59l7.78-7.78 2.81-2.81c.8-.78.8-2.07 0-2.86zM5.41 20L4 18.59l7.72-7.72 1.47 1.35L5.41 20z\"/>\n",
              "  </svg>\n",
              "      </button>\n",
              "      \n",
              "  <style>\n",
              "    .colab-df-container {\n",
              "      display:flex;\n",
              "      flex-wrap:wrap;\n",
              "      gap: 12px;\n",
              "    }\n",
              "\n",
              "    .colab-df-convert {\n",
              "      background-color: #E8F0FE;\n",
              "      border: none;\n",
              "      border-radius: 50%;\n",
              "      cursor: pointer;\n",
              "      display: none;\n",
              "      fill: #1967D2;\n",
              "      height: 32px;\n",
              "      padding: 0 0 0 0;\n",
              "      width: 32px;\n",
              "    }\n",
              "\n",
              "    .colab-df-convert:hover {\n",
              "      background-color: #E2EBFA;\n",
              "      box-shadow: 0px 1px 2px rgba(60, 64, 67, 0.3), 0px 1px 3px 1px rgba(60, 64, 67, 0.15);\n",
              "      fill: #174EA6;\n",
              "    }\n",
              "\n",
              "    [theme=dark] .colab-df-convert {\n",
              "      background-color: #3B4455;\n",
              "      fill: #D2E3FC;\n",
              "    }\n",
              "\n",
              "    [theme=dark] .colab-df-convert:hover {\n",
              "      background-color: #434B5C;\n",
              "      box-shadow: 0px 1px 3px 1px rgba(0, 0, 0, 0.15);\n",
              "      filter: drop-shadow(0px 1px 2px rgba(0, 0, 0, 0.3));\n",
              "      fill: #FFFFFF;\n",
              "    }\n",
              "  </style>\n",
              "\n",
              "      <script>\n",
              "        const buttonEl =\n",
              "          document.querySelector('#df-33db2845-50ea-4f06-8f71-08376f94bae6 button.colab-df-convert');\n",
              "        buttonEl.style.display =\n",
              "          google.colab.kernel.accessAllowed ? 'block' : 'none';\n",
              "\n",
              "        async function convertToInteractive(key) {\n",
              "          const element = document.querySelector('#df-33db2845-50ea-4f06-8f71-08376f94bae6');\n",
              "          const dataTable =\n",
              "            await google.colab.kernel.invokeFunction('convertToInteractive',\n",
              "                                                     [key], {});\n",
              "          if (!dataTable) return;\n",
              "\n",
              "          const docLinkHtml = 'Like what you see? Visit the ' +\n",
              "            '<a target=\"_blank\" href=https://colab.research.google.com/notebooks/data_table.ipynb>data table notebook</a>'\n",
              "            + ' to learn more about interactive tables.';\n",
              "          element.innerHTML = '';\n",
              "          dataTable['output_type'] = 'display_data';\n",
              "          await google.colab.output.renderOutput(dataTable, element);\n",
              "          const docLink = document.createElement('div');\n",
              "          docLink.innerHTML = docLinkHtml;\n",
              "          element.appendChild(docLink);\n",
              "        }\n",
              "      </script>\n",
              "    </div>\n",
              "  </div>\n",
              "  "
            ]
          },
          "metadata": {},
          "execution_count": 15
        }
      ]
    },
    {
      "cell_type": "code",
      "source": [
        "anime_df[\"type\"].value_counts()"
      ],
      "metadata": {
        "colab": {
          "base_uri": "https://localhost:8080/"
        },
        "id": "zIxx4Nu3rqtf",
        "outputId": "ff12d9b4-11c3-49c0-99f3-26ca0db72a5d"
      },
      "execution_count": 16,
      "outputs": [
        {
          "output_type": "execute_result",
          "data": {
            "text/plain": [
              "tv         5235\n",
              "ova        3662\n",
              "movie      3292\n",
              "special    2366\n",
              "ona        2285\n",
              "music      2040\n",
              "Name: type, dtype: int64"
            ]
          },
          "metadata": {},
          "execution_count": 16
        }
      ]
    },
    {
      "cell_type": "code",
      "source": [
        "anime_df[\"synopsis\"].value_counts()"
      ],
      "metadata": {
        "id": "Vr_5PTGHsAbG",
        "colab": {
          "base_uri": "https://localhost:8080/"
        },
        "outputId": "b9132c13-1e00-4171-983b-5467cc99bc3d"
      },
      "execution_count": 17,
      "outputs": [
        {
          "output_type": "execute_result",
          "data": {
            "text/plain": [
              "Furukawa Taku film.                                                                                                                                                                                                                                                                                                                                                                                                                                                                                                                                                                                                                                                                                                                                                                                                                                                                         13\n",
              "Film by Takashi Ito.                                                                                                                                                                                                                                                                                                                                                                                                                                                                                                                                                                                                                                                                                                                                                                                                                                                                        13\n",
              "A short film by Okamoto Tadanari.                                                                                                                                                                                                                                                                                                                                                                                                                                                                                                                                                                                                                                                                                                                                                                                                                                                            8\n",
              "A short animation by Taku Furukawa.                                                                                                                                                                                                                                                                                                                                                                                                                                                                                                                                                                                                                                                                                                                                                                                                                                                          7\n",
              "                                                                                                                                                                                                                                                                                                                                                                                                                                                                                                                                                                                                                                                                                                                                                                                                                                                                                             6\n",
              "                                                                                                                                                                                                                                                                                                                                                                                                                                                                                                                                                                                                                                                                                                                                                                                                                                                                                            ..\n",
              "On the last Valentine's Day before her high school entrance exams, Nana Suzuki tries to build up the courage to confess to her longtime crush. However, when her chocolates are accidentally ruined, she rushes back to her house to make more—not realizing that the microwave has been turned into a strange invention by her grandfather. Suddenly, six additional copies of Nana appear, each possessing their own extreme personality and a crystal that grants them magic powers!\\n\\nWith her plans ruined, Nana vows to confess to her crush in her first year of high school. The only problem is that her crush is top student Yuuichi Kamichika, and following him to his elite high school will mean that she has to hit the books. With six new allies to help her, Nana begins to prepare for anything that the exam season might throw at her.\\n\\n[Written by MAL Rewrite]     1\n",
              "Studio T-Rex and Raika Ken announced another adaptation of the popular cgi project. Hentai is based on the eponymous cgi manga authored by Lunatic Orgasm.\\n\\nSaina Miyamoto is Vice President of the student Council and helps her elders in all matters of concern. This time she receives a rather strange task to accompany an elderly man. Goguryeo Cisco and Kyoko Tazawa with which Sayn, before met on the Internet, help her, accompanied by an elderly man in one of the love hotels. Saina understand that girls do it is not the first time and just following their instructions.                                                                                                                                                                                                                                                                                               1\n",
              "The Gunpla Force Battle Tournament is a big event held in GBN once per year. Competing in the final round are Avalon, led by the champion Kyoya Kujo, and the elite 7th Panzer Division led by the cunning Rommel. Starting with Kyoya's Gundam AGE II Magnum, a variety of Gunpla take to the field to determine which is the strongest force!\\n\\n(Source: Official site)                                                                                                                                                                                                                                                                                                                                                                                                                                                                                                                   1\n",
              "Long time ago, the Rindo family was cursed by a monster. Since then, new born babies have been girls. To break the curse, they had to marry persons of the Higetsu family who have strong spiritual power, and have to bear a child by the next red moon. Now, the curse befalls to Rindo Naoto. In order to break the curse, he has to beget a child with one of four sisters of the Higetsus.\\n\\n(Source: AnimeNfo)                                                                                                                                                                                                                                                                                                                                                                                                                                                                        1\n",
              "Kappei got drown into a strange picture book. Then he found himself in Edo era, 400 years ago, where the King of Evil was trying to take away every sounds and voices in the world. Oh, it's crisis for the beautiful sound which Princess Shizu plays! Hurry up, Kappei, riding the Dragon Lord. Fight with a brave sword!                                                                                                                                                                                                                                                                                                                                                                                                                                                                                                                                                                  1\n",
              "Name: synopsis, Length: 18638, dtype: int64"
            ]
          },
          "metadata": {},
          "execution_count": 17
        }
      ]
    },
    {
      "cell_type": "code",
      "source": [
        "anime_df[\"genres\"].value_counts()"
      ],
      "metadata": {
        "colab": {
          "base_uri": "https://localhost:8080/"
        },
        "id": "V_JWEiHysLzU",
        "outputId": "df20c431-a8d4-430d-c33e-dba4162ac50a"
      },
      "execution_count": 18,
      "outputs": [
        {
          "output_type": "execute_result",
          "data": {
            "text/plain": [
              "[]                                                              2881\n",
              "['Comedy']                                                      1682\n",
              "['Hentai']                                                      1000\n",
              "['Fantasy']                                                      620\n",
              "['Comedy', 'Slice of Life']                                      574\n",
              "                                                                ... \n",
              "['Action', 'Avant Garde', 'Comedy', 'Ecchi', 'Supernatural']       1\n",
              "['Drama', 'Ecchi', 'Horror', 'Supernatural']                       1\n",
              "['Action', 'Mystery', 'Romance', 'Suspense']                       1\n",
              "['Comedy', 'Drama', 'Ecchi', 'Mystery', 'Sci-Fi']                  1\n",
              "['Avant Garde', 'Mystery']                                         1\n",
              "Name: genres, Length: 910, dtype: int64"
            ]
          },
          "metadata": {},
          "execution_count": 18
        }
      ]
    },
    {
      "cell_type": "code",
      "source": [
        "anime_df.replace(\"[]\" , np.nan , inplace = True)"
      ],
      "metadata": {
        "colab": {
          "base_uri": "https://localhost:8080/"
        },
        "id": "W2oeDkOZsYhX",
        "outputId": "cbec7278-8e60-4d6f-99a1-8df54dcb2238"
      },
      "execution_count": 19,
      "outputs": [
        {
          "output_type": "stream",
          "name": "stderr",
          "text": [
            "/usr/local/lib/python3.7/dist-packages/pandas/core/frame.py:5244: SettingWithCopyWarning: \n",
            "A value is trying to be set on a copy of a slice from a DataFrame\n",
            "\n",
            "See the caveats in the documentation: https://pandas.pydata.org/pandas-docs/stable/user_guide/indexing.html#returning-a-view-versus-a-copy\n",
            "  method=method,\n"
          ]
        }
      ]
    },
    {
      "cell_type": "code",
      "source": [
        "anime_df.dropna(subset =[\"genres\"] , inplace = True )"
      ],
      "metadata": {
        "colab": {
          "base_uri": "https://localhost:8080/"
        },
        "id": "Yk_fQ4L6xTCC",
        "outputId": "a41d33d0-9930-4995-e2a8-0631a420f5c9"
      },
      "execution_count": 20,
      "outputs": [
        {
          "output_type": "stream",
          "name": "stderr",
          "text": [
            "/usr/local/lib/python3.7/dist-packages/pandas/util/_decorators.py:311: SettingWithCopyWarning: \n",
            "A value is trying to be set on a copy of a slice from a DataFrame\n",
            "\n",
            "See the caveats in the documentation: https://pandas.pydata.org/pandas-docs/stable/user_guide/indexing.html#returning-a-view-versus-a-copy\n",
            "  return func(*args, **kwargs)\n"
          ]
        }
      ]
    },
    {
      "cell_type": "code",
      "source": [
        "anime_df.shape"
      ],
      "metadata": {
        "colab": {
          "base_uri": "https://localhost:8080/"
        },
        "id": "S6V2x_ZZ3f3h",
        "outputId": "eab8937b-e238-4bd7-c31f-6f4c87f674ff"
      },
      "execution_count": 21,
      "outputs": [
        {
          "output_type": "execute_result",
          "data": {
            "text/plain": [
              "(15999, 7)"
            ]
          },
          "metadata": {},
          "execution_count": 21
        }
      ]
    },
    {
      "cell_type": "code",
      "source": [
        "anime_df.duplicated().sum()"
      ],
      "metadata": {
        "id": "ybwuACxH5tg1",
        "colab": {
          "base_uri": "https://localhost:8080/"
        },
        "outputId": "5af32d00-fc79-49aa-a7e9-2b3208e00b2e"
      },
      "execution_count": 22,
      "outputs": [
        {
          "output_type": "execute_result",
          "data": {
            "text/plain": [
              "0"
            ]
          },
          "metadata": {},
          "execution_count": 22
        }
      ]
    },
    {
      "cell_type": "code",
      "source": [
        "anime_df.iloc[0].genres"
      ],
      "metadata": {
        "colab": {
          "base_uri": "https://localhost:8080/",
          "height": 36
        },
        "id": "PsEO4jcsAQw5",
        "outputId": "a5f31795-9561-4c8d-a426-3d3d64a35b28"
      },
      "execution_count": 23,
      "outputs": [
        {
          "output_type": "execute_result",
          "data": {
            "text/plain": [
              "\"['Action', 'Adventure', 'Drama', 'Fantasy']\""
            ],
            "application/vnd.google.colaboratory.intrinsic+json": {
              "type": "string"
            }
          },
          "metadata": {},
          "execution_count": 23
        }
      ]
    },
    {
      "cell_type": "code",
      "source": [
        "anime_df.head(1)"
      ],
      "metadata": {
        "colab": {
          "base_uri": "https://localhost:8080/",
          "height": 125
        },
        "id": "VSePgtDmAV1f",
        "outputId": "267497c3-c6db-43c0-b311-c1be23620f0d"
      },
      "execution_count": 24,
      "outputs": [
        {
          "output_type": "execute_result",
          "data": {
            "text/plain": [
              "   anime_id                             title type  score  start_date  \\\n",
              "0      5114  Fullmetal Alchemist: Brotherhood   tv   9.13  2009-04-05   \n",
              "\n",
              "                                        genres  \\\n",
              "0  ['Action', 'Adventure', 'Drama', 'Fantasy']   \n",
              "\n",
              "                                            synopsis  \n",
              "0  After a horrific alchemy experiment goes wrong...  "
            ],
            "text/html": [
              "\n",
              "  <div id=\"df-9a182f51-150f-4fa5-abe8-b14a40109060\">\n",
              "    <div class=\"colab-df-container\">\n",
              "      <div>\n",
              "<style scoped>\n",
              "    .dataframe tbody tr th:only-of-type {\n",
              "        vertical-align: middle;\n",
              "    }\n",
              "\n",
              "    .dataframe tbody tr th {\n",
              "        vertical-align: top;\n",
              "    }\n",
              "\n",
              "    .dataframe thead th {\n",
              "        text-align: right;\n",
              "    }\n",
              "</style>\n",
              "<table border=\"1\" class=\"dataframe\">\n",
              "  <thead>\n",
              "    <tr style=\"text-align: right;\">\n",
              "      <th></th>\n",
              "      <th>anime_id</th>\n",
              "      <th>title</th>\n",
              "      <th>type</th>\n",
              "      <th>score</th>\n",
              "      <th>start_date</th>\n",
              "      <th>genres</th>\n",
              "      <th>synopsis</th>\n",
              "    </tr>\n",
              "  </thead>\n",
              "  <tbody>\n",
              "    <tr>\n",
              "      <th>0</th>\n",
              "      <td>5114</td>\n",
              "      <td>Fullmetal Alchemist: Brotherhood</td>\n",
              "      <td>tv</td>\n",
              "      <td>9.13</td>\n",
              "      <td>2009-04-05</td>\n",
              "      <td>['Action', 'Adventure', 'Drama', 'Fantasy']</td>\n",
              "      <td>After a horrific alchemy experiment goes wrong...</td>\n",
              "    </tr>\n",
              "  </tbody>\n",
              "</table>\n",
              "</div>\n",
              "      <button class=\"colab-df-convert\" onclick=\"convertToInteractive('df-9a182f51-150f-4fa5-abe8-b14a40109060')\"\n",
              "              title=\"Convert this dataframe to an interactive table.\"\n",
              "              style=\"display:none;\">\n",
              "        \n",
              "  <svg xmlns=\"http://www.w3.org/2000/svg\" height=\"24px\"viewBox=\"0 0 24 24\"\n",
              "       width=\"24px\">\n",
              "    <path d=\"M0 0h24v24H0V0z\" fill=\"none\"/>\n",
              "    <path d=\"M18.56 5.44l.94 2.06.94-2.06 2.06-.94-2.06-.94-.94-2.06-.94 2.06-2.06.94zm-11 1L8.5 8.5l.94-2.06 2.06-.94-2.06-.94L8.5 2.5l-.94 2.06-2.06.94zm10 10l.94 2.06.94-2.06 2.06-.94-2.06-.94-.94-2.06-.94 2.06-2.06.94z\"/><path d=\"M17.41 7.96l-1.37-1.37c-.4-.4-.92-.59-1.43-.59-.52 0-1.04.2-1.43.59L10.3 9.45l-7.72 7.72c-.78.78-.78 2.05 0 2.83L4 21.41c.39.39.9.59 1.41.59.51 0 1.02-.2 1.41-.59l7.78-7.78 2.81-2.81c.8-.78.8-2.07 0-2.86zM5.41 20L4 18.59l7.72-7.72 1.47 1.35L5.41 20z\"/>\n",
              "  </svg>\n",
              "      </button>\n",
              "      \n",
              "  <style>\n",
              "    .colab-df-container {\n",
              "      display:flex;\n",
              "      flex-wrap:wrap;\n",
              "      gap: 12px;\n",
              "    }\n",
              "\n",
              "    .colab-df-convert {\n",
              "      background-color: #E8F0FE;\n",
              "      border: none;\n",
              "      border-radius: 50%;\n",
              "      cursor: pointer;\n",
              "      display: none;\n",
              "      fill: #1967D2;\n",
              "      height: 32px;\n",
              "      padding: 0 0 0 0;\n",
              "      width: 32px;\n",
              "    }\n",
              "\n",
              "    .colab-df-convert:hover {\n",
              "      background-color: #E2EBFA;\n",
              "      box-shadow: 0px 1px 2px rgba(60, 64, 67, 0.3), 0px 1px 3px 1px rgba(60, 64, 67, 0.15);\n",
              "      fill: #174EA6;\n",
              "    }\n",
              "\n",
              "    [theme=dark] .colab-df-convert {\n",
              "      background-color: #3B4455;\n",
              "      fill: #D2E3FC;\n",
              "    }\n",
              "\n",
              "    [theme=dark] .colab-df-convert:hover {\n",
              "      background-color: #434B5C;\n",
              "      box-shadow: 0px 1px 3px 1px rgba(0, 0, 0, 0.15);\n",
              "      filter: drop-shadow(0px 1px 2px rgba(0, 0, 0, 0.3));\n",
              "      fill: #FFFFFF;\n",
              "    }\n",
              "  </style>\n",
              "\n",
              "      <script>\n",
              "        const buttonEl =\n",
              "          document.querySelector('#df-9a182f51-150f-4fa5-abe8-b14a40109060 button.colab-df-convert');\n",
              "        buttonEl.style.display =\n",
              "          google.colab.kernel.accessAllowed ? 'block' : 'none';\n",
              "\n",
              "        async function convertToInteractive(key) {\n",
              "          const element = document.querySelector('#df-9a182f51-150f-4fa5-abe8-b14a40109060');\n",
              "          const dataTable =\n",
              "            await google.colab.kernel.invokeFunction('convertToInteractive',\n",
              "                                                     [key], {});\n",
              "          if (!dataTable) return;\n",
              "\n",
              "          const docLinkHtml = 'Like what you see? Visit the ' +\n",
              "            '<a target=\"_blank\" href=https://colab.research.google.com/notebooks/data_table.ipynb>data table notebook</a>'\n",
              "            + ' to learn more about interactive tables.';\n",
              "          element.innerHTML = '';\n",
              "          dataTable['output_type'] = 'display_data';\n",
              "          await google.colab.output.renderOutput(dataTable, element);\n",
              "          const docLink = document.createElement('div');\n",
              "          docLink.innerHTML = docLinkHtml;\n",
              "          element.appendChild(docLink);\n",
              "        }\n",
              "      </script>\n",
              "    </div>\n",
              "  </div>\n",
              "  "
            ]
          },
          "metadata": {},
          "execution_count": 24
        }
      ]
    },
    {
      "cell_type": "code",
      "source": [
        "anime_df[\"genres\"]"
      ],
      "metadata": {
        "colab": {
          "base_uri": "https://localhost:8080/"
        },
        "id": "Bxx9QJ7XBDBR",
        "outputId": "994dbc8f-60f5-40e3-902d-d4940f1b09db"
      },
      "execution_count": 25,
      "outputs": [
        {
          "output_type": "execute_result",
          "data": {
            "text/plain": [
              "0        ['Action', 'Adventure', 'Drama', 'Fantasy']\n",
              "1                 ['Action', 'Adventure', 'Fantasy']\n",
              "2                                ['Action', 'Drama']\n",
              "3                    ['Drama', 'Sci-Fi', 'Suspense']\n",
              "4                                          ['Drama']\n",
              "                            ...                     \n",
              "24150                                    ['Fantasy']\n",
              "24152                                ['Avant Garde']\n",
              "24153                                ['Avant Garde']\n",
              "24154                                ['Avant Garde']\n",
              "24162             ['Action', 'Adventure', 'Fantasy']\n",
              "Name: genres, Length: 15999, dtype: object"
            ]
          },
          "metadata": {},
          "execution_count": 25
        }
      ]
    },
    {
      "cell_type": "code",
      "source": [
        "anime_df[\"synopsis\"]=anime_df[\"synopsis\"].apply(lambda x:x.split())"
      ],
      "metadata": {
        "colab": {
          "base_uri": "https://localhost:8080/"
        },
        "id": "8q56_HFYBQqs",
        "outputId": "d8323947-d76d-4ea8-9ed8-c8df654bb8e2"
      },
      "execution_count": 26,
      "outputs": [
        {
          "output_type": "stream",
          "name": "stderr",
          "text": [
            "/usr/local/lib/python3.7/dist-packages/ipykernel_launcher.py:1: SettingWithCopyWarning: \n",
            "A value is trying to be set on a copy of a slice from a DataFrame.\n",
            "Try using .loc[row_indexer,col_indexer] = value instead\n",
            "\n",
            "See the caveats in the documentation: https://pandas.pydata.org/pandas-docs/stable/user_guide/indexing.html#returning-a-view-versus-a-copy\n",
            "  \"\"\"Entry point for launching an IPython kernel.\n"
          ]
        }
      ]
    },
    {
      "cell_type": "code",
      "source": [
        "anime_df[\"synopsis\"]"
      ],
      "metadata": {
        "colab": {
          "base_uri": "https://localhost:8080/"
        },
        "id": "AOHu_eKLLn2d",
        "outputId": "d3f1ae52-e67e-4484-e439-b4834913b9ff"
      },
      "execution_count": 27,
      "outputs": [
        {
          "output_type": "execute_result",
          "data": {
            "text/plain": [
              "0        [After, a, horrific, alchemy, experiment, goes...\n",
              "1        [Hunters, devote, themselves, to, accomplishin...\n",
              "2        [Seeking, to, restore, humanity's, diminishing...\n",
              "3        [Eccentric, scientist, Rintarou, Okabe, has, a...\n",
              "4        [As, a, wild, youth,, elementary, school, stud...\n",
              "                               ...                        \n",
              "24150    [Story, on, the, sky., Above, the, cloud,, the...\n",
              "24152    [You, can, hear, three, stories,, and, see, on...\n",
              "24153    [A, boy, and, a, girl, draw, pictures, on, the...\n",
              "24154    [The, motif, in, this, animation, is, the, mem...\n",
              "24162    [Kappei, got, drown, into, a, strange, picture...\n",
              "Name: synopsis, Length: 15999, dtype: object"
            ]
          },
          "metadata": {},
          "execution_count": 27
        }
      ]
    },
    {
      "cell_type": "code",
      "source": [
        "new_genre =anime_df['genres']"
      ],
      "metadata": {
        "id": "F6dw2FhwHP-1"
      },
      "execution_count": 37,
      "outputs": []
    },
    {
      "cell_type": "code",
      "source": [
        "anime_df[\"genres\"] = [i.replace(\"'\",\"\")for i in anime_df[\"genres\"]]"
      ],
      "metadata": {
        "colab": {
          "base_uri": "https://localhost:8080/"
        },
        "id": "Jnsf3LUlpUrh",
        "outputId": "3bfe5bd2-a433-48ca-d83e-fcd4db444494"
      },
      "execution_count": 61,
      "outputs": [
        {
          "output_type": "stream",
          "name": "stderr",
          "text": [
            "/usr/local/lib/python3.7/dist-packages/ipykernel_launcher.py:1: SettingWithCopyWarning: \n",
            "A value is trying to be set on a copy of a slice from a DataFrame.\n",
            "Try using .loc[row_indexer,col_indexer] = value instead\n",
            "\n",
            "See the caveats in the documentation: https://pandas.pydata.org/pandas-docs/stable/user_guide/indexing.html#returning-a-view-versus-a-copy\n",
            "  \"\"\"Entry point for launching an IPython kernel.\n"
          ]
        }
      ]
    },
    {
      "cell_type": "code",
      "source": [
        "new_genre"
      ],
      "metadata": {
        "id": "Gtga6qOhPtTM"
      },
      "execution_count": null,
      "outputs": []
    },
    {
      "cell_type": "code",
      "source": [
        "anime_df[\"genres\"]"
      ],
      "metadata": {
        "colab": {
          "base_uri": "https://localhost:8080/"
        },
        "id": "jxP6dQDSTNOk",
        "outputId": "6bdef1b2-ebf0-4b2e-eea6-95bb63a9dca0"
      },
      "execution_count": 44,
      "outputs": [
        {
          "output_type": "execute_result",
          "data": {
            "text/plain": [
              "0        ['Action', 'Adventure', 'Drama', 'Fantasy']\n",
              "1                 ['Action', 'Adventure', 'Fantasy']\n",
              "2                                ['Action', 'Drama']\n",
              "3                    ['Drama', 'Sci-Fi', 'Suspense']\n",
              "4                                          ['Drama']\n",
              "                            ...                     \n",
              "24150                                    ['Fantasy']\n",
              "24152                                ['Avant Garde']\n",
              "24153                                ['Avant Garde']\n",
              "24154                                ['Avant Garde']\n",
              "24162             ['Action', 'Adventure', 'Fantasy']\n",
              "Name: genres, Length: 15999, dtype: object"
            ]
          },
          "metadata": {},
          "execution_count": 44
        }
      ]
    },
    {
      "cell_type": "code",
      "source": [
        "anime_df[\"synopsis\"]"
      ],
      "metadata": {
        "id": "hmu3IQToTPra",
        "colab": {
          "base_uri": "https://localhost:8080/"
        },
        "outputId": "4fab82d9-9e27-40e9-87ac-633dade192ed"
      },
      "execution_count": 34,
      "outputs": [
        {
          "output_type": "execute_result",
          "data": {
            "text/plain": [
              "0        [After, a, horrific, alchemy, experiment, goes...\n",
              "1        [Hunters, devote, themselves, to, accomplishin...\n",
              "2        [Seeking, to, restore, humanity's, diminishing...\n",
              "3        [Eccentric, scientist, Rintarou, Okabe, has, a...\n",
              "4        [As, a, wild, youth,, elementary, school, stud...\n",
              "                               ...                        \n",
              "24150    [Story, on, the, sky., Above, the, cloud,, the...\n",
              "24152    [You, can, hear, three, stories,, and, see, on...\n",
              "24153    [A, boy, and, a, girl, draw, pictures, on, the...\n",
              "24154    [The, motif, in, this, animation, is, the, mem...\n",
              "24162    [Kappei, got, drown, into, a, strange, picture...\n",
              "Name: synopsis, Length: 15999, dtype: object"
            ]
          },
          "metadata": {},
          "execution_count": 34
        }
      ]
    },
    {
      "cell_type": "code",
      "source": [
        "print(type(anime_df[\"genres\"])) , print(type(anime_df[\"synopsis\"]))"
      ],
      "metadata": {
        "colab": {
          "base_uri": "https://localhost:8080/"
        },
        "id": "A00jBra0uDyV",
        "outputId": "4aeb42af-9678-478a-d94b-4bffe3394398"
      },
      "execution_count": 79,
      "outputs": [
        {
          "output_type": "stream",
          "name": "stdout",
          "text": [
            "<class 'pandas.core.series.Series'>\n",
            "<class 'pandas.core.series.Series'>\n"
          ]
        },
        {
          "output_type": "execute_result",
          "data": {
            "text/plain": [
              "(None, None)"
            ]
          },
          "metadata": {},
          "execution_count": 79
        }
      ]
    },
    {
      "cell_type": "code",
      "source": [
        "anime_df[\"genres\"] = pd.Series(anime_df[\"genres\"])"
      ],
      "metadata": {
        "colab": {
          "base_uri": "https://localhost:8080/"
        },
        "id": "WKmm1rvCv7cN",
        "outputId": "56e06211-5170-4a7c-bc8d-6bf88e086485"
      },
      "execution_count": 70,
      "outputs": [
        {
          "output_type": "stream",
          "name": "stderr",
          "text": [
            "/usr/local/lib/python3.7/dist-packages/ipykernel_launcher.py:1: SettingWithCopyWarning: \n",
            "A value is trying to be set on a copy of a slice from a DataFrame.\n",
            "Try using .loc[row_indexer,col_indexer] = value instead\n",
            "\n",
            "See the caveats in the documentation: https://pandas.pydata.org/pandas-docs/stable/user_guide/indexing.html#returning-a-view-versus-a-copy\n",
            "  \"\"\"Entry point for launching an IPython kernel.\n"
          ]
        }
      ]
    },
    {
      "cell_type": "code",
      "source": [
        "anime_df[\"Tags\"] = anime_df[\"genres\"] + anime_df[\"synopsis\"]"
      ],
      "metadata": {
        "colab": {
          "base_uri": "https://localhost:8080/"
        },
        "id": "0cIim-rIyFOk",
        "outputId": "fceedc49-b53f-4486-d58c-d9e8b6b0239d"
      },
      "execution_count": 86,
      "outputs": [
        {
          "output_type": "stream",
          "name": "stderr",
          "text": [
            "/usr/local/lib/python3.7/dist-packages/ipykernel_launcher.py:1: SettingWithCopyWarning: \n",
            "A value is trying to be set on a copy of a slice from a DataFrame.\n",
            "Try using .loc[row_indexer,col_indexer] = value instead\n",
            "\n",
            "See the caveats in the documentation: https://pandas.pydata.org/pandas-docs/stable/user_guide/indexing.html#returning-a-view-versus-a-copy\n",
            "  \"\"\"Entry point for launching an IPython kernel.\n"
          ]
        }
      ]
    },
    {
      "cell_type": "code",
      "source": [
        "anime_df.head()"
      ],
      "metadata": {
        "colab": {
          "base_uri": "https://localhost:8080/",
          "height": 337
        },
        "id": "NOUInoRlwgZj",
        "outputId": "047d63b1-5888-491c-cb22-3bb335bd1b10"
      },
      "execution_count": 87,
      "outputs": [
        {
          "output_type": "execute_result",
          "data": {
            "text/plain": [
              "   anime_id                               title   type  score  start_date  \\\n",
              "0      5114    Fullmetal Alchemist: Brotherhood     tv   9.13  2009-04-05   \n",
              "1     11061              Hunter x Hunter (2011)     tv   9.04  2011-10-02   \n",
              "2     38524  Shingeki no Kyojin Season 3 Part 2     tv   9.07  2019-04-29   \n",
              "3      9253                         Steins;Gate     tv   9.08  2011-04-06   \n",
              "4     28851                      Koe no Katachi  movie   8.95  2016-09-17   \n",
              "\n",
              "                                              genres  \\\n",
              "0  [After, a, horrific, alchemy, experiment, goes...   \n",
              "1  [Hunters, devote, themselves, to, accomplishin...   \n",
              "2  [Seeking, to, restore, humanity's, diminishing...   \n",
              "3  [Eccentric, scientist, Rintarou, Okabe, has, a...   \n",
              "4  [As, a, wild, youth,, elementary, school, stud...   \n",
              "\n",
              "                                            synopsis  tags  \\\n",
              "0  [After, a, horrific, alchemy, experiment, goes...  None   \n",
              "1  [Hunters, devote, themselves, to, accomplishin...  None   \n",
              "2  [Seeking, to, restore, humanity's, diminishing...  None   \n",
              "3  [Eccentric, scientist, Rintarou, Okabe, has, a...  None   \n",
              "4  [As, a, wild, youth,, elementary, school, stud...  None   \n",
              "\n",
              "                                                Tags  \n",
              "0  [After, a, horrific, alchemy, experiment, goes...  \n",
              "1  [Hunters, devote, themselves, to, accomplishin...  \n",
              "2  [Seeking, to, restore, humanity's, diminishing...  \n",
              "3  [Eccentric, scientist, Rintarou, Okabe, has, a...  \n",
              "4  [As, a, wild, youth,, elementary, school, stud...  "
            ],
            "text/html": [
              "\n",
              "  <div id=\"df-f9042791-75e8-46d4-bd08-7d0db12f8094\">\n",
              "    <div class=\"colab-df-container\">\n",
              "      <div>\n",
              "<style scoped>\n",
              "    .dataframe tbody tr th:only-of-type {\n",
              "        vertical-align: middle;\n",
              "    }\n",
              "\n",
              "    .dataframe tbody tr th {\n",
              "        vertical-align: top;\n",
              "    }\n",
              "\n",
              "    .dataframe thead th {\n",
              "        text-align: right;\n",
              "    }\n",
              "</style>\n",
              "<table border=\"1\" class=\"dataframe\">\n",
              "  <thead>\n",
              "    <tr style=\"text-align: right;\">\n",
              "      <th></th>\n",
              "      <th>anime_id</th>\n",
              "      <th>title</th>\n",
              "      <th>type</th>\n",
              "      <th>score</th>\n",
              "      <th>start_date</th>\n",
              "      <th>genres</th>\n",
              "      <th>synopsis</th>\n",
              "      <th>tags</th>\n",
              "      <th>Tags</th>\n",
              "    </tr>\n",
              "  </thead>\n",
              "  <tbody>\n",
              "    <tr>\n",
              "      <th>0</th>\n",
              "      <td>5114</td>\n",
              "      <td>Fullmetal Alchemist: Brotherhood</td>\n",
              "      <td>tv</td>\n",
              "      <td>9.13</td>\n",
              "      <td>2009-04-05</td>\n",
              "      <td>[After, a, horrific, alchemy, experiment, goes...</td>\n",
              "      <td>[After, a, horrific, alchemy, experiment, goes...</td>\n",
              "      <td>None</td>\n",
              "      <td>[After, a, horrific, alchemy, experiment, goes...</td>\n",
              "    </tr>\n",
              "    <tr>\n",
              "      <th>1</th>\n",
              "      <td>11061</td>\n",
              "      <td>Hunter x Hunter (2011)</td>\n",
              "      <td>tv</td>\n",
              "      <td>9.04</td>\n",
              "      <td>2011-10-02</td>\n",
              "      <td>[Hunters, devote, themselves, to, accomplishin...</td>\n",
              "      <td>[Hunters, devote, themselves, to, accomplishin...</td>\n",
              "      <td>None</td>\n",
              "      <td>[Hunters, devote, themselves, to, accomplishin...</td>\n",
              "    </tr>\n",
              "    <tr>\n",
              "      <th>2</th>\n",
              "      <td>38524</td>\n",
              "      <td>Shingeki no Kyojin Season 3 Part 2</td>\n",
              "      <td>tv</td>\n",
              "      <td>9.07</td>\n",
              "      <td>2019-04-29</td>\n",
              "      <td>[Seeking, to, restore, humanity's, diminishing...</td>\n",
              "      <td>[Seeking, to, restore, humanity's, diminishing...</td>\n",
              "      <td>None</td>\n",
              "      <td>[Seeking, to, restore, humanity's, diminishing...</td>\n",
              "    </tr>\n",
              "    <tr>\n",
              "      <th>3</th>\n",
              "      <td>9253</td>\n",
              "      <td>Steins;Gate</td>\n",
              "      <td>tv</td>\n",
              "      <td>9.08</td>\n",
              "      <td>2011-04-06</td>\n",
              "      <td>[Eccentric, scientist, Rintarou, Okabe, has, a...</td>\n",
              "      <td>[Eccentric, scientist, Rintarou, Okabe, has, a...</td>\n",
              "      <td>None</td>\n",
              "      <td>[Eccentric, scientist, Rintarou, Okabe, has, a...</td>\n",
              "    </tr>\n",
              "    <tr>\n",
              "      <th>4</th>\n",
              "      <td>28851</td>\n",
              "      <td>Koe no Katachi</td>\n",
              "      <td>movie</td>\n",
              "      <td>8.95</td>\n",
              "      <td>2016-09-17</td>\n",
              "      <td>[As, a, wild, youth,, elementary, school, stud...</td>\n",
              "      <td>[As, a, wild, youth,, elementary, school, stud...</td>\n",
              "      <td>None</td>\n",
              "      <td>[As, a, wild, youth,, elementary, school, stud...</td>\n",
              "    </tr>\n",
              "  </tbody>\n",
              "</table>\n",
              "</div>\n",
              "      <button class=\"colab-df-convert\" onclick=\"convertToInteractive('df-f9042791-75e8-46d4-bd08-7d0db12f8094')\"\n",
              "              title=\"Convert this dataframe to an interactive table.\"\n",
              "              style=\"display:none;\">\n",
              "        \n",
              "  <svg xmlns=\"http://www.w3.org/2000/svg\" height=\"24px\"viewBox=\"0 0 24 24\"\n",
              "       width=\"24px\">\n",
              "    <path d=\"M0 0h24v24H0V0z\" fill=\"none\"/>\n",
              "    <path d=\"M18.56 5.44l.94 2.06.94-2.06 2.06-.94-2.06-.94-.94-2.06-.94 2.06-2.06.94zm-11 1L8.5 8.5l.94-2.06 2.06-.94-2.06-.94L8.5 2.5l-.94 2.06-2.06.94zm10 10l.94 2.06.94-2.06 2.06-.94-2.06-.94-.94-2.06-.94 2.06-2.06.94z\"/><path d=\"M17.41 7.96l-1.37-1.37c-.4-.4-.92-.59-1.43-.59-.52 0-1.04.2-1.43.59L10.3 9.45l-7.72 7.72c-.78.78-.78 2.05 0 2.83L4 21.41c.39.39.9.59 1.41.59.51 0 1.02-.2 1.41-.59l7.78-7.78 2.81-2.81c.8-.78.8-2.07 0-2.86zM5.41 20L4 18.59l7.72-7.72 1.47 1.35L5.41 20z\"/>\n",
              "  </svg>\n",
              "      </button>\n",
              "      \n",
              "  <style>\n",
              "    .colab-df-container {\n",
              "      display:flex;\n",
              "      flex-wrap:wrap;\n",
              "      gap: 12px;\n",
              "    }\n",
              "\n",
              "    .colab-df-convert {\n",
              "      background-color: #E8F0FE;\n",
              "      border: none;\n",
              "      border-radius: 50%;\n",
              "      cursor: pointer;\n",
              "      display: none;\n",
              "      fill: #1967D2;\n",
              "      height: 32px;\n",
              "      padding: 0 0 0 0;\n",
              "      width: 32px;\n",
              "    }\n",
              "\n",
              "    .colab-df-convert:hover {\n",
              "      background-color: #E2EBFA;\n",
              "      box-shadow: 0px 1px 2px rgba(60, 64, 67, 0.3), 0px 1px 3px 1px rgba(60, 64, 67, 0.15);\n",
              "      fill: #174EA6;\n",
              "    }\n",
              "\n",
              "    [theme=dark] .colab-df-convert {\n",
              "      background-color: #3B4455;\n",
              "      fill: #D2E3FC;\n",
              "    }\n",
              "\n",
              "    [theme=dark] .colab-df-convert:hover {\n",
              "      background-color: #434B5C;\n",
              "      box-shadow: 0px 1px 3px 1px rgba(0, 0, 0, 0.15);\n",
              "      filter: drop-shadow(0px 1px 2px rgba(0, 0, 0, 0.3));\n",
              "      fill: #FFFFFF;\n",
              "    }\n",
              "  </style>\n",
              "\n",
              "      <script>\n",
              "        const buttonEl =\n",
              "          document.querySelector('#df-f9042791-75e8-46d4-bd08-7d0db12f8094 button.colab-df-convert');\n",
              "        buttonEl.style.display =\n",
              "          google.colab.kernel.accessAllowed ? 'block' : 'none';\n",
              "\n",
              "        async function convertToInteractive(key) {\n",
              "          const element = document.querySelector('#df-f9042791-75e8-46d4-bd08-7d0db12f8094');\n",
              "          const dataTable =\n",
              "            await google.colab.kernel.invokeFunction('convertToInteractive',\n",
              "                                                     [key], {});\n",
              "          if (!dataTable) return;\n",
              "\n",
              "          const docLinkHtml = 'Like what you see? Visit the ' +\n",
              "            '<a target=\"_blank\" href=https://colab.research.google.com/notebooks/data_table.ipynb>data table notebook</a>'\n",
              "            + ' to learn more about interactive tables.';\n",
              "          element.innerHTML = '';\n",
              "          dataTable['output_type'] = 'display_data';\n",
              "          await google.colab.output.renderOutput(dataTable, element);\n",
              "          const docLink = document.createElement('div');\n",
              "          docLink.innerHTML = docLinkHtml;\n",
              "          element.appendChild(docLink);\n",
              "        }\n",
              "      </script>\n",
              "    </div>\n",
              "  </div>\n",
              "  "
            ]
          },
          "metadata": {},
          "execution_count": 87
        }
      ]
    },
    {
      "cell_type": "code",
      "source": [
        "new_df = anime_df[[\"anime_id\",\"title\",\"Tags\"]]"
      ],
      "metadata": {
        "id": "czOnfmQx0rx6"
      },
      "execution_count": 88,
      "outputs": []
    },
    {
      "cell_type": "code",
      "source": [
        "new_df[\"Tags\"] = new_df[\"Tags\"].apply(lambda x:\" \".join(x))"
      ],
      "metadata": {
        "colab": {
          "base_uri": "https://localhost:8080/"
        },
        "id": "YukzaPLT1vrk",
        "outputId": "6d248182-db11-441a-aea9-7e398bbf51fe"
      },
      "execution_count": 89,
      "outputs": [
        {
          "output_type": "stream",
          "name": "stderr",
          "text": [
            "/usr/local/lib/python3.7/dist-packages/ipykernel_launcher.py:1: SettingWithCopyWarning: \n",
            "A value is trying to be set on a copy of a slice from a DataFrame.\n",
            "Try using .loc[row_indexer,col_indexer] = value instead\n",
            "\n",
            "See the caveats in the documentation: https://pandas.pydata.org/pandas-docs/stable/user_guide/indexing.html#returning-a-view-versus-a-copy\n",
            "  \"\"\"Entry point for launching an IPython kernel.\n"
          ]
        }
      ]
    },
    {
      "cell_type": "code",
      "source": [
        "new_df[\"Tags\"][0]"
      ],
      "metadata": {
        "colab": {
          "base_uri": "https://localhost:8080/",
          "height": 145
        },
        "id": "enqxCWQn2BsG",
        "outputId": "a9160ca0-329e-46d6-9f41-1d5ee9a464fe"
      },
      "execution_count": 92,
      "outputs": [
        {
          "output_type": "execute_result",
          "data": {
            "text/plain": [
              "'After a horrific alchemy experiment goes wrong in the Elric household, brothers Edward and Alphonse are left in a catastrophic new reality. Ignoring the alchemical principle banning human transmutation, the boys attempted to bring their recently deceased mother back to life. Instead, they suffered brutal personal loss: Alphonse\\'s body disintegrated while Edward lost a leg and then sacrificed an arm to keep Alphonse\\'s soul in the physical realm by binding it to a hulking suit of armor. The brothers are rescued by their neighbor Pinako Rockbell and her granddaughter Winry. Known as a bio-mechanical engineering prodigy, Winry creates prosthetic limbs for Edward by utilizing \"automail,\" a tough, versatile metal used in robots and combat armor. After years of training, the Elric brothers set off on a quest to restore their bodies by locating the Philosopher\\'s Stone—a powerful gem that allows an alchemist to defy the traditional laws of Equivalent Exchange. As Edward becomes an infamous alchemist and gains the nickname \"Fullmetal,\" the boys\\' journey embroils them in a growing conspiracy that threatens the fate of the world. [Written by MAL Rewrite] After a horrific alchemy experiment goes wrong in the Elric household, brothers Edward and Alphonse are left in a catastrophic new reality. Ignoring the alchemical principle banning human transmutation, the boys attempted to bring their recently deceased mother back to life. Instead, they suffered brutal personal loss: Alphonse\\'s body disintegrated while Edward lost a leg and then sacrificed an arm to keep Alphonse\\'s soul in the physical realm by binding it to a hulking suit of armor. The brothers are rescued by their neighbor Pinako Rockbell and her granddaughter Winry. Known as a bio-mechanical engineering prodigy, Winry creates prosthetic limbs for Edward by utilizing \"automail,\" a tough, versatile metal used in robots and combat armor. After years of training, the Elric brothers set off on a quest to restore their bodies by locating the Philosopher\\'s Stone—a powerful gem that allows an alchemist to defy the traditional laws of Equivalent Exchange. As Edward becomes an infamous alchemist and gains the nickname \"Fullmetal,\" the boys\\' journey embroils them in a growing conspiracy that threatens the fate of the world. [Written by MAL Rewrite]'"
            ],
            "application/vnd.google.colaboratory.intrinsic+json": {
              "type": "string"
            }
          },
          "metadata": {},
          "execution_count": 92
        }
      ]
    },
    {
      "cell_type": "code",
      "source": [
        "new_df['Tags']=new_df['Tags'].apply(lambda x:x.lower())"
      ],
      "metadata": {
        "colab": {
          "base_uri": "https://localhost:8080/"
        },
        "id": "l4OSm4ww2E7d",
        "outputId": "afaef59e-92c4-4317-b44c-f2659dcf5325"
      },
      "execution_count": 93,
      "outputs": [
        {
          "output_type": "stream",
          "name": "stderr",
          "text": [
            "/usr/local/lib/python3.7/dist-packages/ipykernel_launcher.py:1: SettingWithCopyWarning: \n",
            "A value is trying to be set on a copy of a slice from a DataFrame.\n",
            "Try using .loc[row_indexer,col_indexer] = value instead\n",
            "\n",
            "See the caveats in the documentation: https://pandas.pydata.org/pandas-docs/stable/user_guide/indexing.html#returning-a-view-versus-a-copy\n",
            "  \"\"\"Entry point for launching an IPython kernel.\n"
          ]
        }
      ]
    },
    {
      "cell_type": "code",
      "source": [
        "new_df['Tags'][0]"
      ],
      "metadata": {
        "colab": {
          "base_uri": "https://localhost:8080/",
          "height": 145
        },
        "id": "3206OCbf27A1",
        "outputId": "85493ed4-2fa9-4ae2-b85b-ba39f3671f8c"
      },
      "execution_count": 94,
      "outputs": [
        {
          "output_type": "execute_result",
          "data": {
            "text/plain": [
              "'after a horrific alchemy experiment goes wrong in the elric household, brothers edward and alphonse are left in a catastrophic new reality. ignoring the alchemical principle banning human transmutation, the boys attempted to bring their recently deceased mother back to life. instead, they suffered brutal personal loss: alphonse\\'s body disintegrated while edward lost a leg and then sacrificed an arm to keep alphonse\\'s soul in the physical realm by binding it to a hulking suit of armor. the brothers are rescued by their neighbor pinako rockbell and her granddaughter winry. known as a bio-mechanical engineering prodigy, winry creates prosthetic limbs for edward by utilizing \"automail,\" a tough, versatile metal used in robots and combat armor. after years of training, the elric brothers set off on a quest to restore their bodies by locating the philosopher\\'s stone—a powerful gem that allows an alchemist to defy the traditional laws of equivalent exchange. as edward becomes an infamous alchemist and gains the nickname \"fullmetal,\" the boys\\' journey embroils them in a growing conspiracy that threatens the fate of the world. [written by mal rewrite] after a horrific alchemy experiment goes wrong in the elric household, brothers edward and alphonse are left in a catastrophic new reality. ignoring the alchemical principle banning human transmutation, the boys attempted to bring their recently deceased mother back to life. instead, they suffered brutal personal loss: alphonse\\'s body disintegrated while edward lost a leg and then sacrificed an arm to keep alphonse\\'s soul in the physical realm by binding it to a hulking suit of armor. the brothers are rescued by their neighbor pinako rockbell and her granddaughter winry. known as a bio-mechanical engineering prodigy, winry creates prosthetic limbs for edward by utilizing \"automail,\" a tough, versatile metal used in robots and combat armor. after years of training, the elric brothers set off on a quest to restore their bodies by locating the philosopher\\'s stone—a powerful gem that allows an alchemist to defy the traditional laws of equivalent exchange. as edward becomes an infamous alchemist and gains the nickname \"fullmetal,\" the boys\\' journey embroils them in a growing conspiracy that threatens the fate of the world. [written by mal rewrite]'"
            ],
            "application/vnd.google.colaboratory.intrinsic+json": {
              "type": "string"
            }
          },
          "metadata": {},
          "execution_count": 94
        }
      ]
    },
    {
      "cell_type": "code",
      "source": [
        "from sklearn.feature_extraction.text import CountVectorizer\n",
        "cv = CountVectorizer(max_features=16000 , stop_words='english')\n"
      ],
      "metadata": {
        "id": "Y1AA5QD63CPL"
      },
      "execution_count": 115,
      "outputs": []
    },
    {
      "cell_type": "code",
      "source": [
        "vectors = cv.fit_transform(new_df['Tags']).toarray()"
      ],
      "metadata": {
        "id": "_6qIGAnB7H7x"
      },
      "execution_count": 116,
      "outputs": []
    },
    {
      "cell_type": "code",
      "source": [
        "vectors[0]"
      ],
      "metadata": {
        "colab": {
          "base_uri": "https://localhost:8080/"
        },
        "id": "mWPDSoyC7Wvw",
        "outputId": "42fb3a25-b8ac-49c6-a6b1-077ea75f759d"
      },
      "execution_count": 110,
      "outputs": [
        {
          "output_type": "execute_result",
          "data": {
            "text/plain": [
              "array([0, 0, 0, ..., 0, 0, 0])"
            ]
          },
          "metadata": {},
          "execution_count": 110
        }
      ]
    },
    {
      "cell_type": "code",
      "source": [
        "cv.get_feature_names()"
      ],
      "metadata": {
        "colab": {
          "base_uri": "https://localhost:8080/"
        },
        "id": "ss8okvEY7jc-",
        "outputId": "874149d8-7e5a-451a-a57b-7df5d3b74d85"
      },
      "execution_count": 111,
      "outputs": [
        {
          "output_type": "stream",
          "name": "stderr",
          "text": [
            "/usr/local/lib/python3.7/dist-packages/sklearn/utils/deprecation.py:87: FutureWarning: Function get_feature_names is deprecated; get_feature_names is deprecated in 1.0 and will be removed in 1.2. Please use get_feature_names_out instead.\n",
            "  warnings.warn(msg, category=FutureWarning)\n"
          ]
        },
        {
          "output_type": "execute_result",
          "data": {
            "text/plain": [
              "['000',\n",
              " '10',\n",
              " '100',\n",
              " '10th',\n",
              " '11',\n",
              " '11th',\n",
              " '12',\n",
              " '12th',\n",
              " '13',\n",
              " '13th',\n",
              " '14',\n",
              " '14th',\n",
              " '15',\n",
              " '15th',\n",
              " '16',\n",
              " '16th',\n",
              " '17',\n",
              " '18',\n",
              " '19',\n",
              " '1945',\n",
              " '1984',\n",
              " '1985',\n",
              " '1999',\n",
              " '19th',\n",
              " '1st',\n",
              " '20',\n",
              " '2000',\n",
              " '2004',\n",
              " '2005',\n",
              " '2006',\n",
              " '2007',\n",
              " '2008',\n",
              " '2009',\n",
              " '2010',\n",
              " '2011',\n",
              " '2012',\n",
              " '2013',\n",
              " '2014',\n",
              " '2015',\n",
              " '2016',\n",
              " '2017',\n",
              " '2018',\n",
              " '2019',\n",
              " '2020',\n",
              " '2021',\n",
              " '20th',\n",
              " '21',\n",
              " '21st',\n",
              " '22',\n",
              " '22nd',\n",
              " '23',\n",
              " '24',\n",
              " '25',\n",
              " '26',\n",
              " '27',\n",
              " '28',\n",
              " '2nd',\n",
              " '30',\n",
              " '300',\n",
              " '30th',\n",
              " '3d',\n",
              " '3rd',\n",
              " '4th',\n",
              " '50',\n",
              " '500',\n",
              " '5th',\n",
              " '60',\n",
              " '6th',\n",
              " '7th',\n",
              " '8th',\n",
              " '90',\n",
              " '999',\n",
              " '9th',\n",
              " 'abandon',\n",
              " 'abduct',\n",
              " 'abil',\n",
              " 'abilities',\n",
              " 'ability',\n",
              " 'abl',\n",
              " 'abnorm',\n",
              " 'aboard',\n",
              " 'abov',\n",
              " 'abroad',\n",
              " 'abruptli',\n",
              " 'absent',\n",
              " 'absolut',\n",
              " 'absorb',\n",
              " 'abstract',\n",
              " 'absurd',\n",
              " 'abus',\n",
              " 'abyss',\n",
              " 'academ',\n",
              " 'academi',\n",
              " 'academy',\n",
              " 'accept',\n",
              " 'access',\n",
              " 'accid',\n",
              " 'accident',\n",
              " 'accompani',\n",
              " 'accomplish',\n",
              " 'accord',\n",
              " 'account',\n",
              " 'accus',\n",
              " 'accustom',\n",
              " 'ace',\n",
              " 'achiev',\n",
              " 'acknowledg',\n",
              " 'acquaint',\n",
              " 'acquir',\n",
              " 'act',\n",
              " 'action',\n",
              " 'actions',\n",
              " 'activ',\n",
              " 'activities',\n",
              " 'activity',\n",
              " 'actor',\n",
              " 'actress',\n",
              " 'acts',\n",
              " 'actual',\n",
              " 'ad',\n",
              " 'adapt',\n",
              " 'add',\n",
              " 'addict',\n",
              " 'addit',\n",
              " 'addition',\n",
              " 'address',\n",
              " 'adjust',\n",
              " 'administr',\n",
              " 'admir',\n",
              " 'admit',\n",
              " 'adolesc',\n",
              " 'adopt',\n",
              " 'ador',\n",
              " 'adult',\n",
              " 'adults',\n",
              " 'advanc',\n",
              " 'advantag',\n",
              " 'adventur',\n",
              " 'adventure',\n",
              " 'adventures',\n",
              " 'adversari',\n",
              " 'advertis',\n",
              " 'advic',\n",
              " 'advisor',\n",
              " 'affair',\n",
              " 'affect',\n",
              " 'affection',\n",
              " 'afford',\n",
              " 'afraid',\n",
              " 'afro',\n",
              " 'aftermath',\n",
              " 'afternoon',\n",
              " 'ag',\n",
              " 'age',\n",
              " 'agenc',\n",
              " 'agency',\n",
              " 'agenda',\n",
              " 'agent',\n",
              " 'aggress',\n",
              " 'ago',\n",
              " 'agre',\n",
              " 'ah',\n",
              " 'ahead',\n",
              " 'ai',\n",
              " 'aichi',\n",
              " 'aid',\n",
              " 'aihara',\n",
              " 'aika',\n",
              " 'aikawa',\n",
              " 'aiko',\n",
              " 'aim',\n",
              " 'air',\n",
              " 'aircraft',\n",
              " 'airi',\n",
              " 'airship',\n",
              " 'aizawa',\n",
              " 'aka',\n",
              " 'akan',\n",
              " 'akane',\n",
              " 'akari',\n",
              " 'akatsuki',\n",
              " 'aki',\n",
              " 'akihabara',\n",
              " 'akihiko',\n",
              " 'akihito',\n",
              " 'akina',\n",
              " 'akira',\n",
              " 'akito',\n",
              " 'akuma',\n",
              " 'al',\n",
              " 'aladdin',\n",
              " 'alarm',\n",
              " 'albeit',\n",
              " 'album',\n",
              " 'alchemist',\n",
              " 'alcohol',\n",
              " 'ali',\n",
              " 'alic',\n",
              " 'alice',\n",
              " 'alien',\n",
              " 'aliens',\n",
              " 'alike',\n",
              " 'aliv',\n",
              " 'alive',\n",
              " 'alley',\n",
              " 'alli',\n",
              " 'allianc',\n",
              " 'alliance',\n",
              " 'allies',\n",
              " 'allow',\n",
              " 'allur',\n",
              " 'alon',\n",
              " 'alongsid',\n",
              " 'aloof',\n",
              " 'alpha',\n",
              " 'alreadi',\n",
              " 'alter',\n",
              " 'altern',\n",
              " 'alway',\n",
              " 'amano',\n",
              " 'amateur',\n",
              " 'amaz',\n",
              " 'amazon',\n",
              " 'ambit',\n",
              " 'ambiti',\n",
              " 'ambitions',\n",
              " 'ambush',\n",
              " 'america',\n",
              " 'american',\n",
              " 'ami',\n",
              " 'amid',\n",
              " 'amidst',\n",
              " 'amnesia',\n",
              " 'amon',\n",
              " 'amuro',\n",
              " 'amus',\n",
              " 'ancestor',\n",
              " 'ancient',\n",
              " 'android',\n",
              " 'angel',\n",
              " 'angels',\n",
              " 'anger',\n",
              " 'angri',\n",
              " 'ani',\n",
              " 'anidb',\n",
              " 'anilist',\n",
              " 'anim',\n",
              " 'animal',\n",
              " 'animals',\n",
              " 'animation',\n",
              " 'anime',\n",
              " 'animenfo',\n",
              " 'ann',\n",
              " 'anna',\n",
              " 'annihil',\n",
              " 'anniversari',\n",
              " 'anniversary',\n",
              " 'announc',\n",
              " 'annoy',\n",
              " 'annual',\n",
              " 'anonym',\n",
              " 'anoth',\n",
              " 'anpanman',\n",
              " 'answer',\n",
              " 'ant',\n",
              " 'anthropomorph',\n",
              " 'anti',\n",
              " 'antic',\n",
              " 'anticip',\n",
              " 'antics',\n",
              " 'anymore',\n",
              " 'anyon',\n",
              " 'anyth',\n",
              " 'ao',\n",
              " 'aoba',\n",
              " 'aoi',\n",
              " 'aoki',\n",
              " 'aoyama',\n",
              " 'apart',\n",
              " 'apartment',\n",
              " 'apocalypt',\n",
              " 'apolog',\n",
              " 'app',\n",
              " 'appar',\n",
              " 'appeal',\n",
              " 'appear',\n",
              " 'appearance',\n",
              " 'appeared',\n",
              " 'appears',\n",
              " 'appl',\n",
              " 'appli',\n",
              " 'appoint',\n",
              " 'appreci',\n",
              " 'apprentic',\n",
              " 'approach',\n",
              " 'approaches',\n",
              " 'approaching',\n",
              " 'approv',\n",
              " 'april',\n",
              " 'aqua',\n",
              " 'ar',\n",
              " 'araragi',\n",
              " 'arashi',\n",
              " 'arata',\n",
              " 'arc',\n",
              " 'arcad',\n",
              " 'area',\n",
              " 'aren',\n",
              " 'arena',\n",
              " 'argument',\n",
              " 'aria',\n",
              " 'arima',\n",
              " 'aris',\n",
              " 'arisa',\n",
              " 'ark',\n",
              " 'arm',\n",
              " 'armi',\n",
              " 'armor',\n",
              " 'arms',\n",
              " 'army',\n",
              " 'arrang',\n",
              " 'array',\n",
              " 'arrest',\n",
              " 'arriv',\n",
              " 'arrival',\n",
              " 'arrive',\n",
              " 'arrives',\n",
              " 'arrog',\n",
              " 'arslan',\n",
              " 'art',\n",
              " 'arthur',\n",
              " 'artifact',\n",
              " 'artifici',\n",
              " 'artist',\n",
              " 'arts',\n",
              " 'asahi',\n",
              " 'asahina',\n",
              " 'asami',\n",
              " 'ascend',\n",
              " 'ash',\n",
              " 'asia',\n",
              " 'asian',\n",
              " 'asid',\n",
              " 'ask',\n",
              " 'asleep',\n",
              " 'aspect',\n",
              " 'aspir',\n",
              " 'assassin',\n",
              " 'assault',\n",
              " 'assembl',\n",
              " 'assign',\n",
              " 'assist',\n",
              " 'assistant',\n",
              " 'associ',\n",
              " 'association',\n",
              " 'assort',\n",
              " 'assum',\n",
              " 'asteroid',\n",
              " 'astro',\n",
              " 'astronaut',\n",
              " 'asuka',\n",
              " 'asuna',\n",
              " 'ataru',\n",
              " 'athena',\n",
              " 'athlet',\n",
              " 'atmospher',\n",
              " 'atmosphere',\n",
              " 'atom',\n",
              " 'atsuko',\n",
              " 'atsushi',\n",
              " 'attach',\n",
              " 'attack',\n",
              " 'attacks',\n",
              " 'attain',\n",
              " 'attempt',\n",
              " 'attend',\n",
              " 'attent',\n",
              " 'attention',\n",
              " 'attitud',\n",
              " 'attract',\n",
              " 'audienc',\n",
              " 'audience',\n",
              " 'august',\n",
              " 'aunt',\n",
              " 'aura',\n",
              " 'aurora',\n",
              " 'author',\n",
              " 'autumn',\n",
              " 'avail',\n",
              " 'avatar',\n",
              " 'aveng',\n",
              " 'averag',\n",
              " 'avoid',\n",
              " 'await',\n",
              " 'awaken',\n",
              " 'awar',\n",
              " 'award',\n",
              " 'away',\n",
              " 'awkward',\n",
              " 'aya',\n",
              " 'ayaka',\n",
              " 'ayakashi',\n",
              " 'ayano',\n",
              " 'ayas',\n",
              " 'ayumi',\n",
              " 'ayumu',\n",
              " 'azuma',\n",
              " 'azusa',\n",
              " 'babi',\n",
              " 'baby',\n",
              " 'background',\n",
              " 'backkom',\n",
              " 'bad',\n",
              " 'badminton',\n",
              " 'bag',\n",
              " 'bai',\n",
              " 'baidu',\n",
              " 'baike',\n",
              " 'baikinman',\n",
              " 'baka',\n",
              " 'bakabt',\n",
              " 'baki',\n",
              " 'bakugan',\n",
              " 'balanc',\n",
              " 'balance',\n",
              " 'ball',\n",
              " 'balloon',\n",
              " 'bamboo',\n",
              " 'ban',\n",
              " 'band',\n",
              " 'bandai',\n",
              " 'bandit',\n",
              " 'bandits',\n",
              " 'banish',\n",
              " 'bank',\n",
              " 'banner',\n",
              " 'bao',\n",
              " 'bar',\n",
              " 'bare',\n",
              " 'bargain',\n",
              " 'baron',\n",
              " 'barrier',\n",
              " 'bas',\n",
              " 'basara',\n",
              " 'base',\n",
              " 'basebal',\n",
              " 'baseball',\n",
              " 'basement',\n",
              " 'basic',\n",
              " 'basket',\n",
              " 'basketbal',\n",
              " 'bat',\n",
              " 'bath',\n",
              " 'battl',\n",
              " 'battle',\n",
              " 'battlefield',\n",
              " 'battles',\n",
              " 'battleship',\n",
              " 'bay',\n",
              " 'bd',\n",
              " 'beach',\n",
              " 'beam',\n",
              " 'bean',\n",
              " 'bear',\n",
              " 'bears',\n",
              " 'beast',\n",
              " 'beasts',\n",
              " 'beat',\n",
              " 'beaten',\n",
              " 'beauti',\n",
              " 'beautiful',\n",
              " 'beauty',\n",
              " 'becam',\n",
              " 'becaus',\n",
              " 'becom',\n",
              " 'bed',\n",
              " 'bedroom',\n",
              " 'bee',\n",
              " 'befal',\n",
              " 'befor',\n",
              " 'befriend',\n",
              " 'beg',\n",
              " 'began',\n",
              " 'begin',\n",
              " 'beginning',\n",
              " 'begins',\n",
              " 'begun',\n",
              " 'behavior',\n",
              " 'beings',\n",
              " 'belief',\n",
              " 'believ',\n",
              " 'bell',\n",
              " 'belong',\n",
              " 'belov',\n",
              " 'belt',\n",
              " 'beneath',\n",
              " 'benefit',\n",
              " 'bent',\n",
              " 'besid',\n",
              " 'best',\n",
              " 'bestow',\n",
              " 'bet',\n",
              " 'betray',\n",
              " 'better',\n",
              " 'bewild',\n",
              " 'bi',\n",
              " 'bicycl',\n",
              " 'bid',\n",
              " 'big',\n",
              " 'bigger',\n",
              " 'biggest',\n",
              " 'bike',\n",
              " 'bilibili',\n",
              " 'billion',\n",
              " 'bind',\n",
              " 'biolog',\n",
              " 'bird',\n",
              " 'birth',\n",
              " 'birthday',\n",
              " 'bit',\n",
              " 'bite',\n",
              " 'bitter',\n",
              " 'bizarr',\n",
              " 'black',\n",
              " 'blackmail',\n",
              " 'blade',\n",
              " 'blame',\n",
              " 'blast',\n",
              " 'blend',\n",
              " 'bless',\n",
              " 'blind',\n",
              " 'bliss',\n",
              " 'block',\n",
              " 'blond',\n",
              " 'blood',\n",
              " 'bloodi',\n",
              " 'bloom',\n",
              " 'blossom',\n",
              " 'blow',\n",
              " 'blown',\n",
              " 'blu',\n",
              " 'blue',\n",
              " 'bo',\n",
              " 'board',\n",
              " 'boast',\n",
              " 'boat',\n",
              " 'bodi',\n",
              " 'bodies',\n",
              " 'body',\n",
              " 'bodyguard',\n",
              " 'boku',\n",
              " 'bold',\n",
              " 'bomb',\n",
              " 'bond',\n",
              " 'bone',\n",
              " 'bonu',\n",
              " 'book',\n",
              " 'books',\n",
              " 'border',\n",
              " 'bore',\n",
              " 'born',\n",
              " 'boss',\n",
              " 'bottl',\n",
              " 'bought',\n",
              " 'bound',\n",
              " 'boundari',\n",
              " 'bounti',\n",
              " 'bow',\n",
              " 'box',\n",
              " 'boxer',\n",
              " 'boy',\n",
              " 'boyfriend',\n",
              " 'boys',\n",
              " 'brain',\n",
              " 'branch',\n",
              " 'brand',\n",
              " 'brave',\n",
              " 'bread',\n",
              " 'break',\n",
              " 'breast',\n",
              " 'breasts',\n",
              " 'breath',\n",
              " 'breed',\n",
              " 'brew',\n",
              " 'bride',\n",
              " 'bridg',\n",
              " 'bridge',\n",
              " 'brief',\n",
              " 'brigad',\n",
              " 'bright',\n",
              " 'brilliant',\n",
              " 'brim',\n",
              " 'bring',\n",
              " 'brink',\n",
              " 'britannia',\n",
              " 'british',\n",
              " 'broadcast',\n",
              " 'broke',\n",
              " 'broken',\n",
              " 'brother',\n",
              " 'brothers',\n",
              " 'brought',\n",
              " 'brown',\n",
              " 'brutal',\n",
              " 'bu',\n",
              " 'bubbl',\n",
              " 'bud',\n",
              " 'buddha',\n",
              " 'buddi',\n",
              " 'bug',\n",
              " 'build',\n",
              " 'building',\n",
              " 'built',\n",
              " 'bull',\n",
              " 'bullet',\n",
              " 'bulli',\n",
              " 'bullying',\n",
              " 'bump',\n",
              " 'bunch',\n",
              " 'bundl',\n",
              " 'bunni',\n",
              " 'burden',\n",
              " 'bureau',\n",
              " 'buri',\n",
              " 'burn',\n",
              " 'burst',\n",
              " 'busi',\n",
              " 'business',\n",
              " 'businessman',\n",
              " 'buster',\n",
              " 'bustl',\n",
              " 'butler',\n",
              " 'butt',\n",
              " 'butterfli',\n",
              " 'button',\n",
              " 'buy',\n",
              " 'cafe',\n",
              " 'café',\n",
              " 'cage',\n",
              " 'cake',\n",
              " 'cal',\n",
              " 'calam',\n",
              " 'calm',\n",
              " 'came',\n",
              " 'camera',\n",
              " 'camp',\n",
              " 'campaign',\n",
              " 'campu',\n",
              " 'campus',\n",
              " 'cancel',\n",
              " 'candi',\n",
              " 'candid',\n",
              " 'capabl',\n",
              " 'capit',\n",
              " 'capital',\n",
              " 'capsul',\n",
              " 'captain',\n",
              " 'captiv',\n",
              " 'captur',\n",
              " 'car',\n",
              " 'card',\n",
              " 'cardfight',\n",
              " 'cards',\n",
              " 'care',\n",
              " 'career',\n",
              " 'carefre',\n",
              " 'carnal',\n",
              " 'carri',\n",
              " 'cartoon',\n",
              " 'carv',\n",
              " 'case',\n",
              " 'cases',\n",
              " 'cash',\n",
              " 'cast',\n",
              " 'castl',\n",
              " 'castle',\n",
              " 'cat',\n",
              " 'cataclysm',\n",
              " 'catalog',\n",
              " 'catastroph',\n",
              " 'catastrophe',\n",
              " 'catch',\n",
              " 'cats',\n",
              " 'caught',\n",
              " 'caus',\n",
              " 'cause',\n",
              " 'cave',\n",
              " 'cd',\n",
              " 'celebr',\n",
              " 'celesti',\n",
              " 'cell',\n",
              " 'center',\n",
              " 'central',\n",
              " 'centuri',\n",
              " 'centuries',\n",
              " 'century',\n",
              " 'ceremoni',\n",
              " 'ceremony',\n",
              " 'certain',\n",
              " 'certainli',\n",
              " 'cg',\n",
              " 'cgi',\n",
              " 'chain',\n",
              " 'chairman',\n",
              " 'challeng',\n",
              " 'challenge',\n",
              " 'challenges',\n",
              " 'chamber',\n",
              " 'champion',\n",
              " 'championship',\n",
              " 'chan',\n",
              " 'chanc',\n",
              " 'chance',\n",
              " 'chang',\n",
              " 'change',\n",
              " 'changed',\n",
              " 'changes',\n",
              " 'channel',\n",
              " 'chao',\n",
              " 'chaos',\n",
              " 'chaotic',\n",
              " 'chapter',\n",
              " 'char',\n",
              " 'charact',\n",
              " 'character',\n",
              " 'characters',\n",
              " 'charat',\n",
              " 'charg',\n",
              " 'charismat',\n",
              " 'charm',\n",
              " 'chase',\n",
              " 'cheat',\n",
              " 'check',\n",
              " 'cheer',\n",
              " 'chef',\n",
              " 'chen',\n",
              " 'cherish',\n",
              " 'cherri',\n",
              " 'chest',\n",
              " 'chi',\n",
              " 'chiaki',\n",
              " 'chiba',\n",
              " 'chibi',\n",
              " 'chicken',\n",
              " 'chief',\n",
              " 'chihaya',\n",
              " 'chihiro',\n",
              " 'chika',\n",
              " 'child',\n",
              " 'childhood',\n",
              " 'childish',\n",
              " 'children',\n",
              " 'china',\n",
              " 'chines',\n",
              " 'chip',\n",
              " 'chise',\n",
              " 'chitos',\n",
              " 'chizuru',\n",
              " 'chocol',\n",
              " 'choic',\n",
              " 'choice',\n",
              " 'choos',\n",
              " 'chose',\n",
              " 'chosen',\n",
              " 'choujin',\n",
              " 'christian',\n",
              " 'christma',\n",
              " 'chronicl',\n",
              " 'chu',\n",
              " 'chun',\n",
              " 'church',\n",
              " 'ciel',\n",
              " 'cinderella',\n",
              " 'cinema',\n",
              " 'circl',\n",
              " 'circu',\n",
              " 'circumst',\n",
              " 'circumstances',\n",
              " 'circus',\n",
              " 'citi',\n",
              " 'cities',\n",
              " 'citizen',\n",
              " 'citizens',\n",
              " 'city',\n",
              " 'civil',\n",
              " 'civilian',\n",
              " 'civilization',\n",
              " 'clad',\n",
              " 'claim',\n",
              " 'clan',\n",
              " 'clans',\n",
              " 'clash',\n",
              " 'class',\n",
              " 'classes',\n",
              " 'classic',\n",
              " 'classmat',\n",
              " 'classmate',\n",
              " 'classmates',\n",
              " 'classroom',\n",
              " 'claw',\n",
              " 'clay',\n",
              " 'clean',\n",
              " 'clear',\n",
              " 'clever',\n",
              " 'client',\n",
              " 'climax',\n",
              " 'climb',\n",
              " 'clip',\n",
              " 'clock',\n",
              " 'clone',\n",
              " 'close',\n",
              " 'closer',\n",
              " 'closest',\n",
              " 'cloth',\n",
              " 'clothes',\n",
              " 'cloud',\n",
              " 'clouds',\n",
              " 'club',\n",
              " 'clue',\n",
              " 'clumsi',\n",
              " 'cluster',\n",
              " 'clutch',\n",
              " 'cm',\n",
              " 'coach',\n",
              " 'cocotama',\n",
              " 'code',\n",
              " 'coexist',\n",
              " 'coffe',\n",
              " 'coin',\n",
              " 'coincid',\n",
              " 'cold',\n",
              " 'collabor',\n",
              " 'collaps',\n",
              " 'colleagu',\n",
              " 'collect',\n",
              " 'collection',\n",
              " 'collector',\n",
              " 'colleg',\n",
              " 'college',\n",
              " 'collid',\n",
              " 'colon',\n",
              " 'coloni',\n",
              " 'colonies',\n",
              " 'color',\n",
              " 'coloss',\n",
              " 'com',\n",
              " 'coma',\n",
              " 'combat',\n",
              " 'combin',\n",
              " 'come',\n",
              " 'comed',\n",
              " 'comedi',\n",
              " 'comedy',\n",
              " 'comet',\n",
              " 'comfort',\n",
              " 'comic',\n",
              " 'comics',\n",
              " 'coming',\n",
              " 'command',\n",
              " 'commemor',\n",
              " 'comment',\n",
              " 'commerci',\n",
              " 'commiss',\n",
              " 'commit',\n",
              " 'common',\n",
              " 'commonli',\n",
              " 'commun',\n",
              " 'community',\n",
              " 'compani',\n",
              " 'companion',\n",
              " 'companions',\n",
              " 'company',\n",
              " 'compar',\n",
              " 'compet',\n",
              " 'competit',\n",
              " 'competition',\n",
              " 'compil',\n",
              " 'complet',\n",
              " 'complex',\n",
              " 'complic',\n",
              " 'compos',\n",
              " 'compris',\n",
              " 'comput',\n",
              " 'computer',\n",
              " 'comrad',\n",
              " 'comrades',\n",
              " 'conan',\n",
              " 'conceal',\n",
              " 'concept',\n",
              " 'concern',\n",
              " 'concert',\n",
              " 'conclud',\n",
              " 'conclus',\n",
              " 'condit',\n",
              " 'condition',\n",
              " 'conduct',\n",
              " 'conductor',\n",
              " 'confess',\n",
              " 'confid',\n",
              " 'confin',\n",
              " 'conflict',\n",
              " 'confront',\n",
              " 'confus',\n",
              " 'confusion',\n",
              " 'connect',\n",
              " 'conquer',\n",
              " 'conquest',\n",
              " 'conscious',\n",
              " 'consciousness',\n",
              " 'consequ',\n",
              " 'consid',\n",
              " 'consider',\n",
              " 'consist',\n",
              " 'conspir',\n",
              " 'conspiraci',\n",
              " 'conspiracy',\n",
              " 'constant',\n",
              " 'constantli',\n",
              " 'construct',\n",
              " 'consult',\n",
              " 'consum',\n",
              " 'contact',\n",
              " 'contain',\n",
              " 'contend',\n",
              " 'content',\n",
              " 'contest',\n",
              " 'contin',\n",
              " 'continent',\n",
              " 'continu',\n",
              " 'continue',\n",
              " 'continues',\n",
              " 'contract',\n",
              " 'contrast',\n",
              " 'contribut',\n",
              " 'control',\n",
              " 'conveni',\n",
              " 'convent',\n",
              " 'convers',\n",
              " 'convert',\n",
              " 'convey',\n",
              " 'convict',\n",
              " 'convinc',\n",
              " 'cook',\n",
              " 'cooking',\n",
              " 'cool',\n",
              " 'cooper',\n",
              " 'cop',\n",
              " 'cope',\n",
              " 'copi',\n",
              " 'core',\n",
              " 'corner',\n",
              " 'corp',\n",
              " 'corpor',\n",
              " 'corporation',\n",
              " 'corps',\n",
              " 'correct',\n",
              " 'corrupt',\n",
              " 'cosmic',\n",
              " 'cosmo',\n",
              " 'cosplay',\n",
              " 'cost',\n",
              " 'costs',\n",
              " 'costum',\n",
              " 'couldn',\n",
              " 'council',\n",
              " 'count',\n",
              " 'counter',\n",
              " 'countless',\n",
              " 'countri',\n",
              " 'countries',\n",
              " 'country',\n",
              " 'countrysid',\n",
              " 'countryside',\n",
              " 'coup',\n",
              " 'coupl',\n",
              " 'couple',\n",
              " 'courag',\n",
              " 'cours',\n",
              " 'course',\n",
              " 'court',\n",
              " 'cousin',\n",
              " 'cover',\n",
              " 'covet',\n",
              " 'cow',\n",
              " 'cowork',\n",
              " 'crack',\n",
              " 'craft',\n",
              " 'crash',\n",
              " 'crayon',\n",
              " 'crazi',\n",
              " 'cream',\n",
              " 'creat',\n",
              " 'created',\n",
              " 'creation',\n",
              " 'creativ',\n",
              " 'creator',\n",
              " 'creatur',\n",
              " 'creature',\n",
              " 'creatures',\n",
              " 'credit',\n",
              " ...]"
            ]
          },
          "metadata": {},
          "execution_count": 111
        }
      ]
    },
    {
      "cell_type": "code",
      "source": [
        "from nltk.stem.porter import PorterStemmer\n",
        "ps = PorterStemmer() "
      ],
      "metadata": {
        "id": "a513kB9Y7yB_"
      },
      "execution_count": 103,
      "outputs": []
    },
    {
      "cell_type": "code",
      "source": [
        "def stem(text):\n",
        "  y=[]\n",
        "\n",
        "  for i in text.split():\n",
        "    y.append(ps.stem(i))\n",
        "  \n",
        "  return \" \".join(y)"
      ],
      "metadata": {
        "id": "WAj9FU588qc6"
      },
      "execution_count": 105,
      "outputs": []
    },
    {
      "cell_type": "code",
      "source": [
        "ps.stem(\"accepting\")"
      ],
      "metadata": {
        "colab": {
          "base_uri": "https://localhost:8080/",
          "height": 36
        },
        "id": "fD_aZuvY8v9e",
        "outputId": "94732dc4-3a1a-4e74-e490-687ddc950641"
      },
      "execution_count": 106,
      "outputs": [
        {
          "output_type": "execute_result",
          "data": {
            "text/plain": [
              "'accept'"
            ],
            "application/vnd.google.colaboratory.intrinsic+json": {
              "type": "string"
            }
          },
          "metadata": {},
          "execution_count": 106
        }
      ]
    },
    {
      "cell_type": "code",
      "source": [
        "new_df[\"Tags\"]=new_df[\"Tags\"].apply(stem)"
      ],
      "metadata": {
        "colab": {
          "base_uri": "https://localhost:8080/"
        },
        "id": "n1flDrOB9pJI",
        "outputId": "d3574b00-7fff-4dbe-bb14-915d0c061f7c"
      },
      "execution_count": 108,
      "outputs": [
        {
          "output_type": "stream",
          "name": "stderr",
          "text": [
            "/usr/local/lib/python3.7/dist-packages/ipykernel_launcher.py:1: SettingWithCopyWarning: \n",
            "A value is trying to be set on a copy of a slice from a DataFrame.\n",
            "Try using .loc[row_indexer,col_indexer] = value instead\n",
            "\n",
            "See the caveats in the documentation: https://pandas.pydata.org/pandas-docs/stable/user_guide/indexing.html#returning-a-view-versus-a-copy\n",
            "  \"\"\"Entry point for launching an IPython kernel.\n"
          ]
        }
      ]
    },
    {
      "cell_type": "code",
      "source": [
        "vectors.shape"
      ],
      "metadata": {
        "colab": {
          "base_uri": "https://localhost:8080/"
        },
        "id": "ZHuzxANh9ySM",
        "outputId": "2768c03f-6160-4e96-feb3-19ef86d7b65c"
      },
      "execution_count": 117,
      "outputs": [
        {
          "output_type": "execute_result",
          "data": {
            "text/plain": [
              "(15999, 16000)"
            ]
          },
          "metadata": {},
          "execution_count": 117
        }
      ]
    },
    {
      "cell_type": "code",
      "source": [
        "from sklearn.metrics.pairwise import cosine_similarity\n",
        "similarity=cosine_similarity(vectors)"
      ],
      "metadata": {
        "id": "btnX_tQC-mqv"
      },
      "execution_count": 123,
      "outputs": []
    },
    {
      "cell_type": "code",
      "source": [
        "enumerate(similarity[1])"
      ],
      "metadata": {
        "colab": {
          "base_uri": "https://localhost:8080/"
        },
        "id": "azPBJzUh_mlw",
        "outputId": "7534a5c0-1f5b-44e6-d1e8-fd2d442a57e0"
      },
      "execution_count": 133,
      "outputs": [
        {
          "output_type": "execute_result",
          "data": {
            "text/plain": [
              "<enumerate at 0x7fcee5513910>"
            ]
          },
          "metadata": {},
          "execution_count": 133
        }
      ]
    },
    {
      "cell_type": "code",
      "source": [
        "list(enumerate(similarity[1]))"
      ],
      "metadata": {
        "id": "zanPyw8mDn4O"
      },
      "execution_count": null,
      "outputs": []
    },
    {
      "cell_type": "code",
      "source": [
        "sorted(list(enumerate(similarity[1])),reverse=True , key= lambda x:x[1])[1:6]"
      ],
      "metadata": {
        "colab": {
          "base_uri": "https://localhost:8080/"
        },
        "id": "GLY_LoiqEMK2",
        "outputId": "bc9ada99-e424-462b-f023-3bfc9bd85496"
      },
      "execution_count": 136,
      "outputs": [
        {
          "output_type": "execute_result",
          "data": {
            "text/plain": [
              "[(138, 0.4840132160632716),\n",
              " (5630, 0.28508085013485346),\n",
              " (601, 0.27312257077283364),\n",
              " (1438, 0.26534194013056517),\n",
              " (1483, 0.2548737529077089)]"
            ]
          },
          "metadata": {},
          "execution_count": 136
        }
      ]
    },
    {
      "cell_type": "code",
      "source": [
        "new_df[new_df['title']=='Naruto']"
      ],
      "metadata": {
        "colab": {
          "base_uri": "https://localhost:8080/",
          "height": 81
        },
        "id": "dKGvwKezBxGb",
        "outputId": "e7631d4f-d1e6-4ce6-cf3a-ba951dc065ac"
      },
      "execution_count": 127,
      "outputs": [
        {
          "output_type": "execute_result",
          "data": {
            "text/plain": [
              "     anime_id   title                                               Tags\n",
              "170        20  Naruto  moment prior to naruto uzumaki' birth, a huge ..."
            ],
            "text/html": [
              "\n",
              "  <div id=\"df-7fa75ad8-d6e2-42c4-90dc-d7bbd702b310\">\n",
              "    <div class=\"colab-df-container\">\n",
              "      <div>\n",
              "<style scoped>\n",
              "    .dataframe tbody tr th:only-of-type {\n",
              "        vertical-align: middle;\n",
              "    }\n",
              "\n",
              "    .dataframe tbody tr th {\n",
              "        vertical-align: top;\n",
              "    }\n",
              "\n",
              "    .dataframe thead th {\n",
              "        text-align: right;\n",
              "    }\n",
              "</style>\n",
              "<table border=\"1\" class=\"dataframe\">\n",
              "  <thead>\n",
              "    <tr style=\"text-align: right;\">\n",
              "      <th></th>\n",
              "      <th>anime_id</th>\n",
              "      <th>title</th>\n",
              "      <th>Tags</th>\n",
              "    </tr>\n",
              "  </thead>\n",
              "  <tbody>\n",
              "    <tr>\n",
              "      <th>170</th>\n",
              "      <td>20</td>\n",
              "      <td>Naruto</td>\n",
              "      <td>moment prior to naruto uzumaki' birth, a huge ...</td>\n",
              "    </tr>\n",
              "  </tbody>\n",
              "</table>\n",
              "</div>\n",
              "      <button class=\"colab-df-convert\" onclick=\"convertToInteractive('df-7fa75ad8-d6e2-42c4-90dc-d7bbd702b310')\"\n",
              "              title=\"Convert this dataframe to an interactive table.\"\n",
              "              style=\"display:none;\">\n",
              "        \n",
              "  <svg xmlns=\"http://www.w3.org/2000/svg\" height=\"24px\"viewBox=\"0 0 24 24\"\n",
              "       width=\"24px\">\n",
              "    <path d=\"M0 0h24v24H0V0z\" fill=\"none\"/>\n",
              "    <path d=\"M18.56 5.44l.94 2.06.94-2.06 2.06-.94-2.06-.94-.94-2.06-.94 2.06-2.06.94zm-11 1L8.5 8.5l.94-2.06 2.06-.94-2.06-.94L8.5 2.5l-.94 2.06-2.06.94zm10 10l.94 2.06.94-2.06 2.06-.94-2.06-.94-.94-2.06-.94 2.06-2.06.94z\"/><path d=\"M17.41 7.96l-1.37-1.37c-.4-.4-.92-.59-1.43-.59-.52 0-1.04.2-1.43.59L10.3 9.45l-7.72 7.72c-.78.78-.78 2.05 0 2.83L4 21.41c.39.39.9.59 1.41.59.51 0 1.02-.2 1.41-.59l7.78-7.78 2.81-2.81c.8-.78.8-2.07 0-2.86zM5.41 20L4 18.59l7.72-7.72 1.47 1.35L5.41 20z\"/>\n",
              "  </svg>\n",
              "      </button>\n",
              "      \n",
              "  <style>\n",
              "    .colab-df-container {\n",
              "      display:flex;\n",
              "      flex-wrap:wrap;\n",
              "      gap: 12px;\n",
              "    }\n",
              "\n",
              "    .colab-df-convert {\n",
              "      background-color: #E8F0FE;\n",
              "      border: none;\n",
              "      border-radius: 50%;\n",
              "      cursor: pointer;\n",
              "      display: none;\n",
              "      fill: #1967D2;\n",
              "      height: 32px;\n",
              "      padding: 0 0 0 0;\n",
              "      width: 32px;\n",
              "    }\n",
              "\n",
              "    .colab-df-convert:hover {\n",
              "      background-color: #E2EBFA;\n",
              "      box-shadow: 0px 1px 2px rgba(60, 64, 67, 0.3), 0px 1px 3px 1px rgba(60, 64, 67, 0.15);\n",
              "      fill: #174EA6;\n",
              "    }\n",
              "\n",
              "    [theme=dark] .colab-df-convert {\n",
              "      background-color: #3B4455;\n",
              "      fill: #D2E3FC;\n",
              "    }\n",
              "\n",
              "    [theme=dark] .colab-df-convert:hover {\n",
              "      background-color: #434B5C;\n",
              "      box-shadow: 0px 1px 3px 1px rgba(0, 0, 0, 0.15);\n",
              "      filter: drop-shadow(0px 1px 2px rgba(0, 0, 0, 0.3));\n",
              "      fill: #FFFFFF;\n",
              "    }\n",
              "  </style>\n",
              "\n",
              "      <script>\n",
              "        const buttonEl =\n",
              "          document.querySelector('#df-7fa75ad8-d6e2-42c4-90dc-d7bbd702b310 button.colab-df-convert');\n",
              "        buttonEl.style.display =\n",
              "          google.colab.kernel.accessAllowed ? 'block' : 'none';\n",
              "\n",
              "        async function convertToInteractive(key) {\n",
              "          const element = document.querySelector('#df-7fa75ad8-d6e2-42c4-90dc-d7bbd702b310');\n",
              "          const dataTable =\n",
              "            await google.colab.kernel.invokeFunction('convertToInteractive',\n",
              "                                                     [key], {});\n",
              "          if (!dataTable) return;\n",
              "\n",
              "          const docLinkHtml = 'Like what you see? Visit the ' +\n",
              "            '<a target=\"_blank\" href=https://colab.research.google.com/notebooks/data_table.ipynb>data table notebook</a>'\n",
              "            + ' to learn more about interactive tables.';\n",
              "          element.innerHTML = '';\n",
              "          dataTable['output_type'] = 'display_data';\n",
              "          await google.colab.output.renderOutput(dataTable, element);\n",
              "          const docLink = document.createElement('div');\n",
              "          docLink.innerHTML = docLinkHtml;\n",
              "          element.appendChild(docLink);\n",
              "        }\n",
              "      </script>\n",
              "    </div>\n",
              "  </div>\n",
              "  "
            ]
          },
          "metadata": {},
          "execution_count": 127
        }
      ]
    },
    {
      "cell_type": "code",
      "source": [
        "def recommend(anime):\n",
        "  anime_index = new_df[new_df['title']== anime].index[0]\n",
        "  distances = similarity[anime_index]\n",
        "  anime_list = sorted(list(enumerate(distances)),reverse=True , key= lambda x:x[1])[1:6]\n",
        "\n",
        "  for i in anime_list:\n",
        "    print(i[0])\n"
      ],
      "metadata": {
        "id": "R2-tQhLdAHzv"
      },
      "execution_count": 137,
      "outputs": []
    },
    {
      "cell_type": "code",
      "source": [
        "recommend('Naruto')"
      ],
      "metadata": {
        "colab": {
          "base_uri": "https://localhost:8080/"
        },
        "id": "X8HQqLcfGgdB",
        "outputId": "1806b920-a7ff-4780-db93-f74a7b0522ae"
      },
      "execution_count": 138,
      "outputs": [
        {
          "output_type": "stream",
          "name": "stdout",
          "text": [
            "9915\n",
            "1116\n",
            "7384\n",
            "8398\n",
            "2520\n"
          ]
        }
      ]
    },
    {
      "cell_type": "code",
      "source": [
        "new_df.iloc[2520]"
      ],
      "metadata": {
        "colab": {
          "base_uri": "https://localhost:8080/"
        },
        "id": "t-hK77cxGoTi",
        "outputId": "c9b8548a-8749-46dc-902b-6807453cb091"
      },
      "execution_count": 143,
      "outputs": [
        {
          "output_type": "execute_result",
          "data": {
            "text/plain": [
              "anime_id                                                 9331\n",
              "title                                           Yumekui Merry\n",
              "Tags        yumekui merri begin with yumeji fujiwara, a se...\n",
              "Name: 2558, dtype: object"
            ]
          },
          "metadata": {},
          "execution_count": 143
        }
      ]
    },
    {
      "cell_type": "code",
      "source": [],
      "metadata": {
        "id": "_Tyh2bchGzRy"
      },
      "execution_count": null,
      "outputs": []
    }
  ]
}