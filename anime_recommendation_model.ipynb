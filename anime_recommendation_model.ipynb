{
  "nbformat": 4,
  "nbformat_minor": 0,
  "metadata": {
    "colab": {
      "provenance": [],
      "collapsed_sections": [],
      "mount_file_id": "1QtmogFPIfd3nZDDwBr1YEFtHfi-i3ktO",
      "authorship_tag": "ABX9TyMamIwLtKGUfQnkhbpszu3O",
      "include_colab_link": true
    },
    "kernelspec": {
      "name": "python3",
      "display_name": "Python 3"
    },
    "language_info": {
      "name": "python"
    }
  },
  "cells": [
    {
      "cell_type": "markdown",
      "metadata": {
        "id": "view-in-github",
        "colab_type": "text"
      },
      "source": [
        "<a href=\"https://colab.research.google.com/github/pranavvp16/Anime-Recommendation-system/blob/main/anime_recommendation_model.ipynb\" target=\"_parent\"><img src=\"https://colab.research.google.com/assets/colab-badge.svg\" alt=\"Open In Colab\"/></a>"
      ]
    },
    {
      "cell_type": "code",
      "execution_count": 3,
      "metadata": {
        "id": "lgSmw4ODXrVo"
      },
      "outputs": [],
      "source": [
        "import numpy as np \n",
        "import pandas as pd"
      ]
    },
    {
      "cell_type": "code",
      "source": [
        "from google.colab import drive\n",
        "drive.mount('/content/drive')"
      ],
      "metadata": {
        "colab": {
          "base_uri": "https://localhost:8080/"
        },
        "id": "n0VdRX-U6QeY",
        "outputId": "04ced827-0cc4-4f11-97c3-42e4abbbeb33"
      },
      "execution_count": 5,
      "outputs": [
        {
          "output_type": "stream",
          "name": "stdout",
          "text": [
            "Drive already mounted at /content/drive; to attempt to forcibly remount, call drive.mount(\"/content/drive\", force_remount=True).\n"
          ]
        }
      ]
    },
    {
      "cell_type": "code",
      "source": [
        "## This is content based recommendation system\n",
        "### Data : The dataset used in the system is downloaded from kaggle link: "
      ],
      "metadata": {
        "id": "Uf32Q9wmjWIV"
      },
      "execution_count": 6,
      "outputs": []
    },
    {
      "cell_type": "code",
      "source": [
        "data_frame = pd.read_csv(\"drive/MyDrive/Anime recommendation system/anime.csv\")"
      ],
      "metadata": {
        "id": "-qvVVSlwXwHD"
      },
      "execution_count": 7,
      "outputs": []
    },
    {
      "cell_type": "code",
      "source": [
        "data_frame.head(1)"
      ],
      "metadata": {
        "colab": {
          "base_uri": "https://localhost:8080/",
          "height": 194
        },
        "id": "5l3fNGemX6Ca",
        "outputId": "d9c164aa-3c99-41ae-8b4f-066c367067cd"
      },
      "execution_count": 8,
      "outputs": [
        {
          "output_type": "execute_result",
          "data": {
            "text/plain": [
              "   anime_id                             title type  score  scored_by  \\\n",
              "0      5114  Fullmetal Alchemist: Brotherhood   tv   9.13    1871705   \n",
              "\n",
              "            status  episodes  start_date    end_date source  ...  \\\n",
              "0  finished_airing      64.0  2009-04-05  2010-07-04  manga  ...   \n",
              "\n",
              "                                           producers  \\\n",
              "0  ['Aniplex', 'Square Enix', 'Mainichi Broadcast...   \n",
              "\n",
              "                              licensors  \\\n",
              "0  ['Funimation', 'Aniplex of America']   \n",
              "\n",
              "                                            synopsis background  \\\n",
              "0  After a horrific alchemy experiment goes wrong...        NaN   \n",
              "\n",
              "                                        main_picture  \\\n",
              "0  https://cdn.myanimelist.net/images/anime/1223/...   \n",
              "\n",
              "                                                 url  \\\n",
              "0  https://myanimelist.net/anime/5114/Fullmetal_A...   \n",
              "\n",
              "                                   trailer_url  \\\n",
              "0  https://www.youtube.com/watch?v=--IcmZkvL0Q   \n",
              "\n",
              "                      title_english              title_japanese  \\\n",
              "0  Fullmetal Alchemist: Brotherhood  鋼の錬金術師 FULLMETAL ALCHEMIST   \n",
              "\n",
              "                                      title_synonyms  \n",
              "0  ['Hagane no Renkinjutsushi: Fullmetal Alchemis...  \n",
              "\n",
              "[1 rows x 39 columns]"
            ],
            "text/html": [
              "\n",
              "  <div id=\"df-4270cfe5-f008-450d-a6d3-f872968ca3d9\">\n",
              "    <div class=\"colab-df-container\">\n",
              "      <div>\n",
              "<style scoped>\n",
              "    .dataframe tbody tr th:only-of-type {\n",
              "        vertical-align: middle;\n",
              "    }\n",
              "\n",
              "    .dataframe tbody tr th {\n",
              "        vertical-align: top;\n",
              "    }\n",
              "\n",
              "    .dataframe thead th {\n",
              "        text-align: right;\n",
              "    }\n",
              "</style>\n",
              "<table border=\"1\" class=\"dataframe\">\n",
              "  <thead>\n",
              "    <tr style=\"text-align: right;\">\n",
              "      <th></th>\n",
              "      <th>anime_id</th>\n",
              "      <th>title</th>\n",
              "      <th>type</th>\n",
              "      <th>score</th>\n",
              "      <th>scored_by</th>\n",
              "      <th>status</th>\n",
              "      <th>episodes</th>\n",
              "      <th>start_date</th>\n",
              "      <th>end_date</th>\n",
              "      <th>source</th>\n",
              "      <th>...</th>\n",
              "      <th>producers</th>\n",
              "      <th>licensors</th>\n",
              "      <th>synopsis</th>\n",
              "      <th>background</th>\n",
              "      <th>main_picture</th>\n",
              "      <th>url</th>\n",
              "      <th>trailer_url</th>\n",
              "      <th>title_english</th>\n",
              "      <th>title_japanese</th>\n",
              "      <th>title_synonyms</th>\n",
              "    </tr>\n",
              "  </thead>\n",
              "  <tbody>\n",
              "    <tr>\n",
              "      <th>0</th>\n",
              "      <td>5114</td>\n",
              "      <td>Fullmetal Alchemist: Brotherhood</td>\n",
              "      <td>tv</td>\n",
              "      <td>9.13</td>\n",
              "      <td>1871705</td>\n",
              "      <td>finished_airing</td>\n",
              "      <td>64.0</td>\n",
              "      <td>2009-04-05</td>\n",
              "      <td>2010-07-04</td>\n",
              "      <td>manga</td>\n",
              "      <td>...</td>\n",
              "      <td>['Aniplex', 'Square Enix', 'Mainichi Broadcast...</td>\n",
              "      <td>['Funimation', 'Aniplex of America']</td>\n",
              "      <td>After a horrific alchemy experiment goes wrong...</td>\n",
              "      <td>NaN</td>\n",
              "      <td>https://cdn.myanimelist.net/images/anime/1223/...</td>\n",
              "      <td>https://myanimelist.net/anime/5114/Fullmetal_A...</td>\n",
              "      <td>https://www.youtube.com/watch?v=--IcmZkvL0Q</td>\n",
              "      <td>Fullmetal Alchemist: Brotherhood</td>\n",
              "      <td>鋼の錬金術師 FULLMETAL ALCHEMIST</td>\n",
              "      <td>['Hagane no Renkinjutsushi: Fullmetal Alchemis...</td>\n",
              "    </tr>\n",
              "  </tbody>\n",
              "</table>\n",
              "<p>1 rows × 39 columns</p>\n",
              "</div>\n",
              "      <button class=\"colab-df-convert\" onclick=\"convertToInteractive('df-4270cfe5-f008-450d-a6d3-f872968ca3d9')\"\n",
              "              title=\"Convert this dataframe to an interactive table.\"\n",
              "              style=\"display:none;\">\n",
              "        \n",
              "  <svg xmlns=\"http://www.w3.org/2000/svg\" height=\"24px\"viewBox=\"0 0 24 24\"\n",
              "       width=\"24px\">\n",
              "    <path d=\"M0 0h24v24H0V0z\" fill=\"none\"/>\n",
              "    <path d=\"M18.56 5.44l.94 2.06.94-2.06 2.06-.94-2.06-.94-.94-2.06-.94 2.06-2.06.94zm-11 1L8.5 8.5l.94-2.06 2.06-.94-2.06-.94L8.5 2.5l-.94 2.06-2.06.94zm10 10l.94 2.06.94-2.06 2.06-.94-2.06-.94-.94-2.06-.94 2.06-2.06.94z\"/><path d=\"M17.41 7.96l-1.37-1.37c-.4-.4-.92-.59-1.43-.59-.52 0-1.04.2-1.43.59L10.3 9.45l-7.72 7.72c-.78.78-.78 2.05 0 2.83L4 21.41c.39.39.9.59 1.41.59.51 0 1.02-.2 1.41-.59l7.78-7.78 2.81-2.81c.8-.78.8-2.07 0-2.86zM5.41 20L4 18.59l7.72-7.72 1.47 1.35L5.41 20z\"/>\n",
              "  </svg>\n",
              "      </button>\n",
              "      \n",
              "  <style>\n",
              "    .colab-df-container {\n",
              "      display:flex;\n",
              "      flex-wrap:wrap;\n",
              "      gap: 12px;\n",
              "    }\n",
              "\n",
              "    .colab-df-convert {\n",
              "      background-color: #E8F0FE;\n",
              "      border: none;\n",
              "      border-radius: 50%;\n",
              "      cursor: pointer;\n",
              "      display: none;\n",
              "      fill: #1967D2;\n",
              "      height: 32px;\n",
              "      padding: 0 0 0 0;\n",
              "      width: 32px;\n",
              "    }\n",
              "\n",
              "    .colab-df-convert:hover {\n",
              "      background-color: #E2EBFA;\n",
              "      box-shadow: 0px 1px 2px rgba(60, 64, 67, 0.3), 0px 1px 3px 1px rgba(60, 64, 67, 0.15);\n",
              "      fill: #174EA6;\n",
              "    }\n",
              "\n",
              "    [theme=dark] .colab-df-convert {\n",
              "      background-color: #3B4455;\n",
              "      fill: #D2E3FC;\n",
              "    }\n",
              "\n",
              "    [theme=dark] .colab-df-convert:hover {\n",
              "      background-color: #434B5C;\n",
              "      box-shadow: 0px 1px 3px 1px rgba(0, 0, 0, 0.15);\n",
              "      filter: drop-shadow(0px 1px 2px rgba(0, 0, 0, 0.3));\n",
              "      fill: #FFFFFF;\n",
              "    }\n",
              "  </style>\n",
              "\n",
              "      <script>\n",
              "        const buttonEl =\n",
              "          document.querySelector('#df-4270cfe5-f008-450d-a6d3-f872968ca3d9 button.colab-df-convert');\n",
              "        buttonEl.style.display =\n",
              "          google.colab.kernel.accessAllowed ? 'block' : 'none';\n",
              "\n",
              "        async function convertToInteractive(key) {\n",
              "          const element = document.querySelector('#df-4270cfe5-f008-450d-a6d3-f872968ca3d9');\n",
              "          const dataTable =\n",
              "            await google.colab.kernel.invokeFunction('convertToInteractive',\n",
              "                                                     [key], {});\n",
              "          if (!dataTable) return;\n",
              "\n",
              "          const docLinkHtml = 'Like what you see? Visit the ' +\n",
              "            '<a target=\"_blank\" href=https://colab.research.google.com/notebooks/data_table.ipynb>data table notebook</a>'\n",
              "            + ' to learn more about interactive tables.';\n",
              "          element.innerHTML = '';\n",
              "          dataTable['output_type'] = 'display_data';\n",
              "          await google.colab.output.renderOutput(dataTable, element);\n",
              "          const docLink = document.createElement('div');\n",
              "          docLink.innerHTML = docLinkHtml;\n",
              "          element.appendChild(docLink);\n",
              "        }\n",
              "      </script>\n",
              "    </div>\n",
              "  </div>\n",
              "  "
            ]
          },
          "metadata": {},
          "execution_count": 8
        },
        {
          "output_type": "stream",
          "name": "stdout",
          "text": [
            "Warning: Total number of columns (39) exceeds max_columns (20) limiting to first (20) columns.\n"
          ]
        }
      ]
    },
    {
      "cell_type": "code",
      "source": [
        "data_frame.info()"
      ],
      "metadata": {
        "id": "f_YH2Qa_fU9J",
        "colab": {
          "base_uri": "https://localhost:8080/"
        },
        "outputId": "0e3a7024-0cf8-4ef6-864b-ecf33e5f790d"
      },
      "execution_count": 9,
      "outputs": [
        {
          "output_type": "stream",
          "name": "stdout",
          "text": [
            "<class 'pandas.core.frame.DataFrame'>\n",
            "RangeIndex: 24165 entries, 0 to 24164\n",
            "Data columns (total 39 columns):\n",
            " #   Column            Non-Null Count  Dtype  \n",
            "---  ------            --------------  -----  \n",
            " 0   anime_id          24165 non-null  int64  \n",
            " 1   title             24165 non-null  object \n",
            " 2   type              24092 non-null  object \n",
            " 3   score             14272 non-null  float64\n",
            " 4   scored_by         24165 non-null  int64  \n",
            " 5   status            24165 non-null  object \n",
            " 6   episodes          23397 non-null  float64\n",
            " 7   start_date        21391 non-null  object \n",
            " 8   end_date          19912 non-null  object \n",
            " 9   source            20404 non-null  object \n",
            " 10  members           24165 non-null  int64  \n",
            " 11  favorites         24165 non-null  int64  \n",
            " 12  episode_duration  23302 non-null  object \n",
            " 13  total_duration    23002 non-null  object \n",
            " 14  rating            23148 non-null  object \n",
            " 15  sfw               24165 non-null  bool   \n",
            " 16  approved          24165 non-null  bool   \n",
            " 17  created_at        24165 non-null  object \n",
            " 18  updated_at        24165 non-null  object \n",
            " 19  start_year        17749 non-null  float64\n",
            " 20  start_season      17749 non-null  object \n",
            " 21  real_start_date   21391 non-null  object \n",
            " 22  real_end_date     19912 non-null  object \n",
            " 23  broadcast_day     3065 non-null   object \n",
            " 24  broadcast_time    2928 non-null   object \n",
            " 25  genres            24165 non-null  object \n",
            " 26  themes            24165 non-null  object \n",
            " 27  demographics      24165 non-null  object \n",
            " 28  studios           24165 non-null  object \n",
            " 29  producers         24165 non-null  object \n",
            " 30  licensors         24165 non-null  object \n",
            " 31  synopsis          20848 non-null  object \n",
            " 32  background        2342 non-null   object \n",
            " 33  main_picture      21378 non-null  object \n",
            " 34  url               24165 non-null  object \n",
            " 35  trailer_url       4362 non-null   object \n",
            " 36  title_english     9084 non-null   object \n",
            " 37  title_japanese    23911 non-null  object \n",
            " 38  title_synonyms    24165 non-null  object \n",
            "dtypes: bool(2), float64(3), int64(4), object(30)\n",
            "memory usage: 6.9+ MB\n"
          ]
        }
      ]
    },
    {
      "cell_type": "markdown",
      "source": [
        "### Usefull columns for the recommendation system\n",
        "* anime id\n",
        "* title\n",
        "* score \n",
        "* start_date\n",
        "* genres\n",
        "* synopsis"
      ],
      "metadata": {
        "id": "8CfI6wvsl3yV"
      }
    },
    {
      "cell_type": "code",
      "source": [
        "anime_df = data_frame[[\"anime_id\",\"title\",\"type\",\"score\",\"start_date\",\"genres\",\"synopsis\"]]"
      ],
      "metadata": {
        "id": "oQ4Vo5tclZRT"
      },
      "execution_count": 15,
      "outputs": []
    },
    {
      "cell_type": "code",
      "source": [
        "anime_df"
      ],
      "metadata": {
        "colab": {
          "base_uri": "https://localhost:8080/",
          "height": 641
        },
        "id": "dgKf969inXgr",
        "outputId": "e147acd9-053a-49bf-94c0-be5eacafb278"
      },
      "execution_count": 16,
      "outputs": [
        {
          "output_type": "execute_result",
          "data": {
            "text/plain": [
              "       anime_id                                           title   type  score  \\\n",
              "0          5114                Fullmetal Alchemist: Brotherhood     tv   9.13   \n",
              "1         11061                          Hunter x Hunter (2011)     tv   9.04   \n",
              "2         38524              Shingeki no Kyojin Season 3 Part 2     tv   9.07   \n",
              "3          9253                                     Steins;Gate     tv   9.08   \n",
              "4         28851                                  Koe no Katachi  movie   8.95   \n",
              "...         ...                                             ...    ...    ...   \n",
              "24160     52470                                      STARTLINER  music    NaN   \n",
              "24161     52474  Blue Archive: 1.5 Shuunenkinen Short Animation    ona    NaN   \n",
              "24162     52475                                  Ryuujin Kappei    ova    NaN   \n",
              "24163     52476                              Yeongnihan neoguri    NaN    NaN   \n",
              "24164     52477                     Dab-eul chaj-eun du sonyeon    NaN    NaN   \n",
              "\n",
              "       start_date                                       genres  \\\n",
              "0      2009-04-05  ['Action', 'Adventure', 'Drama', 'Fantasy']   \n",
              "1      2011-10-02           ['Action', 'Adventure', 'Fantasy']   \n",
              "2      2019-04-29                          ['Action', 'Drama']   \n",
              "3      2011-04-06              ['Drama', 'Sci-Fi', 'Suspense']   \n",
              "4      2016-09-17                                    ['Drama']   \n",
              "...           ...                                          ...   \n",
              "24160  2018-07-25                                           []   \n",
              "24161  2022-07-16                        ['Action', 'Fantasy']   \n",
              "24162  1991-04-21           ['Action', 'Adventure', 'Fantasy']   \n",
              "24163  1988-01-01                                           []   \n",
              "24164  2015-01-01                                           []   \n",
              "\n",
              "                                                synopsis  \n",
              "0      After a horrific alchemy experiment goes wrong...  \n",
              "1      Hunters devote themselves to accomplishing haz...  \n",
              "2      Seeking to restore humanity's diminishing hope...  \n",
              "3      Eccentric scientist Rintarou Okabe has a never...  \n",
              "4      As a wild youth, elementary school student Sho...  \n",
              "...                                                  ...  \n",
              "24160  Music video for the main theme of ONGEKI, \"STA...  \n",
              "24161                                                NaN  \n",
              "24162  Kappei got drown into a strange picture book. ...  \n",
              "24163  Clever Raccoon Dog is a North Korean animated ...  \n",
              "24164  Two young boys play a computer game that invol...  \n",
              "\n",
              "[24165 rows x 7 columns]"
            ],
            "text/html": [
              "\n",
              "  <div id=\"df-88058ca7-0e0d-4873-b0e9-50b119b5ba69\">\n",
              "    <div class=\"colab-df-container\">\n",
              "      <div>\n",
              "<style scoped>\n",
              "    .dataframe tbody tr th:only-of-type {\n",
              "        vertical-align: middle;\n",
              "    }\n",
              "\n",
              "    .dataframe tbody tr th {\n",
              "        vertical-align: top;\n",
              "    }\n",
              "\n",
              "    .dataframe thead th {\n",
              "        text-align: right;\n",
              "    }\n",
              "</style>\n",
              "<table border=\"1\" class=\"dataframe\">\n",
              "  <thead>\n",
              "    <tr style=\"text-align: right;\">\n",
              "      <th></th>\n",
              "      <th>anime_id</th>\n",
              "      <th>title</th>\n",
              "      <th>type</th>\n",
              "      <th>score</th>\n",
              "      <th>start_date</th>\n",
              "      <th>genres</th>\n",
              "      <th>synopsis</th>\n",
              "    </tr>\n",
              "  </thead>\n",
              "  <tbody>\n",
              "    <tr>\n",
              "      <th>0</th>\n",
              "      <td>5114</td>\n",
              "      <td>Fullmetal Alchemist: Brotherhood</td>\n",
              "      <td>tv</td>\n",
              "      <td>9.13</td>\n",
              "      <td>2009-04-05</td>\n",
              "      <td>['Action', 'Adventure', 'Drama', 'Fantasy']</td>\n",
              "      <td>After a horrific alchemy experiment goes wrong...</td>\n",
              "    </tr>\n",
              "    <tr>\n",
              "      <th>1</th>\n",
              "      <td>11061</td>\n",
              "      <td>Hunter x Hunter (2011)</td>\n",
              "      <td>tv</td>\n",
              "      <td>9.04</td>\n",
              "      <td>2011-10-02</td>\n",
              "      <td>['Action', 'Adventure', 'Fantasy']</td>\n",
              "      <td>Hunters devote themselves to accomplishing haz...</td>\n",
              "    </tr>\n",
              "    <tr>\n",
              "      <th>2</th>\n",
              "      <td>38524</td>\n",
              "      <td>Shingeki no Kyojin Season 3 Part 2</td>\n",
              "      <td>tv</td>\n",
              "      <td>9.07</td>\n",
              "      <td>2019-04-29</td>\n",
              "      <td>['Action', 'Drama']</td>\n",
              "      <td>Seeking to restore humanity's diminishing hope...</td>\n",
              "    </tr>\n",
              "    <tr>\n",
              "      <th>3</th>\n",
              "      <td>9253</td>\n",
              "      <td>Steins;Gate</td>\n",
              "      <td>tv</td>\n",
              "      <td>9.08</td>\n",
              "      <td>2011-04-06</td>\n",
              "      <td>['Drama', 'Sci-Fi', 'Suspense']</td>\n",
              "      <td>Eccentric scientist Rintarou Okabe has a never...</td>\n",
              "    </tr>\n",
              "    <tr>\n",
              "      <th>4</th>\n",
              "      <td>28851</td>\n",
              "      <td>Koe no Katachi</td>\n",
              "      <td>movie</td>\n",
              "      <td>8.95</td>\n",
              "      <td>2016-09-17</td>\n",
              "      <td>['Drama']</td>\n",
              "      <td>As a wild youth, elementary school student Sho...</td>\n",
              "    </tr>\n",
              "    <tr>\n",
              "      <th>...</th>\n",
              "      <td>...</td>\n",
              "      <td>...</td>\n",
              "      <td>...</td>\n",
              "      <td>...</td>\n",
              "      <td>...</td>\n",
              "      <td>...</td>\n",
              "      <td>...</td>\n",
              "    </tr>\n",
              "    <tr>\n",
              "      <th>24160</th>\n",
              "      <td>52470</td>\n",
              "      <td>STARTLINER</td>\n",
              "      <td>music</td>\n",
              "      <td>NaN</td>\n",
              "      <td>2018-07-25</td>\n",
              "      <td>[]</td>\n",
              "      <td>Music video for the main theme of ONGEKI, \"STA...</td>\n",
              "    </tr>\n",
              "    <tr>\n",
              "      <th>24161</th>\n",
              "      <td>52474</td>\n",
              "      <td>Blue Archive: 1.5 Shuunenkinen Short Animation</td>\n",
              "      <td>ona</td>\n",
              "      <td>NaN</td>\n",
              "      <td>2022-07-16</td>\n",
              "      <td>['Action', 'Fantasy']</td>\n",
              "      <td>NaN</td>\n",
              "    </tr>\n",
              "    <tr>\n",
              "      <th>24162</th>\n",
              "      <td>52475</td>\n",
              "      <td>Ryuujin Kappei</td>\n",
              "      <td>ova</td>\n",
              "      <td>NaN</td>\n",
              "      <td>1991-04-21</td>\n",
              "      <td>['Action', 'Adventure', 'Fantasy']</td>\n",
              "      <td>Kappei got drown into a strange picture book. ...</td>\n",
              "    </tr>\n",
              "    <tr>\n",
              "      <th>24163</th>\n",
              "      <td>52476</td>\n",
              "      <td>Yeongnihan neoguri</td>\n",
              "      <td>NaN</td>\n",
              "      <td>NaN</td>\n",
              "      <td>1988-01-01</td>\n",
              "      <td>[]</td>\n",
              "      <td>Clever Raccoon Dog is a North Korean animated ...</td>\n",
              "    </tr>\n",
              "    <tr>\n",
              "      <th>24164</th>\n",
              "      <td>52477</td>\n",
              "      <td>Dab-eul chaj-eun du sonyeon</td>\n",
              "      <td>NaN</td>\n",
              "      <td>NaN</td>\n",
              "      <td>2015-01-01</td>\n",
              "      <td>[]</td>\n",
              "      <td>Two young boys play a computer game that invol...</td>\n",
              "    </tr>\n",
              "  </tbody>\n",
              "</table>\n",
              "<p>24165 rows × 7 columns</p>\n",
              "</div>\n",
              "      <button class=\"colab-df-convert\" onclick=\"convertToInteractive('df-88058ca7-0e0d-4873-b0e9-50b119b5ba69')\"\n",
              "              title=\"Convert this dataframe to an interactive table.\"\n",
              "              style=\"display:none;\">\n",
              "        \n",
              "  <svg xmlns=\"http://www.w3.org/2000/svg\" height=\"24px\"viewBox=\"0 0 24 24\"\n",
              "       width=\"24px\">\n",
              "    <path d=\"M0 0h24v24H0V0z\" fill=\"none\"/>\n",
              "    <path d=\"M18.56 5.44l.94 2.06.94-2.06 2.06-.94-2.06-.94-.94-2.06-.94 2.06-2.06.94zm-11 1L8.5 8.5l.94-2.06 2.06-.94-2.06-.94L8.5 2.5l-.94 2.06-2.06.94zm10 10l.94 2.06.94-2.06 2.06-.94-2.06-.94-.94-2.06-.94 2.06-2.06.94z\"/><path d=\"M17.41 7.96l-1.37-1.37c-.4-.4-.92-.59-1.43-.59-.52 0-1.04.2-1.43.59L10.3 9.45l-7.72 7.72c-.78.78-.78 2.05 0 2.83L4 21.41c.39.39.9.59 1.41.59.51 0 1.02-.2 1.41-.59l7.78-7.78 2.81-2.81c.8-.78.8-2.07 0-2.86zM5.41 20L4 18.59l7.72-7.72 1.47 1.35L5.41 20z\"/>\n",
              "  </svg>\n",
              "      </button>\n",
              "      \n",
              "  <style>\n",
              "    .colab-df-container {\n",
              "      display:flex;\n",
              "      flex-wrap:wrap;\n",
              "      gap: 12px;\n",
              "    }\n",
              "\n",
              "    .colab-df-convert {\n",
              "      background-color: #E8F0FE;\n",
              "      border: none;\n",
              "      border-radius: 50%;\n",
              "      cursor: pointer;\n",
              "      display: none;\n",
              "      fill: #1967D2;\n",
              "      height: 32px;\n",
              "      padding: 0 0 0 0;\n",
              "      width: 32px;\n",
              "    }\n",
              "\n",
              "    .colab-df-convert:hover {\n",
              "      background-color: #E2EBFA;\n",
              "      box-shadow: 0px 1px 2px rgba(60, 64, 67, 0.3), 0px 1px 3px 1px rgba(60, 64, 67, 0.15);\n",
              "      fill: #174EA6;\n",
              "    }\n",
              "\n",
              "    [theme=dark] .colab-df-convert {\n",
              "      background-color: #3B4455;\n",
              "      fill: #D2E3FC;\n",
              "    }\n",
              "\n",
              "    [theme=dark] .colab-df-convert:hover {\n",
              "      background-color: #434B5C;\n",
              "      box-shadow: 0px 1px 3px 1px rgba(0, 0, 0, 0.15);\n",
              "      filter: drop-shadow(0px 1px 2px rgba(0, 0, 0, 0.3));\n",
              "      fill: #FFFFFF;\n",
              "    }\n",
              "  </style>\n",
              "\n",
              "      <script>\n",
              "        const buttonEl =\n",
              "          document.querySelector('#df-88058ca7-0e0d-4873-b0e9-50b119b5ba69 button.colab-df-convert');\n",
              "        buttonEl.style.display =\n",
              "          google.colab.kernel.accessAllowed ? 'block' : 'none';\n",
              "\n",
              "        async function convertToInteractive(key) {\n",
              "          const element = document.querySelector('#df-88058ca7-0e0d-4873-b0e9-50b119b5ba69');\n",
              "          const dataTable =\n",
              "            await google.colab.kernel.invokeFunction('convertToInteractive',\n",
              "                                                     [key], {});\n",
              "          if (!dataTable) return;\n",
              "\n",
              "          const docLinkHtml = 'Like what you see? Visit the ' +\n",
              "            '<a target=\"_blank\" href=https://colab.research.google.com/notebooks/data_table.ipynb>data table notebook</a>'\n",
              "            + ' to learn more about interactive tables.';\n",
              "          element.innerHTML = '';\n",
              "          dataTable['output_type'] = 'display_data';\n",
              "          await google.colab.output.renderOutput(dataTable, element);\n",
              "          const docLink = document.createElement('div');\n",
              "          docLink.innerHTML = docLinkHtml;\n",
              "          element.appendChild(docLink);\n",
              "        }\n",
              "      </script>\n",
              "    </div>\n",
              "  </div>\n",
              "  "
            ]
          },
          "metadata": {},
          "execution_count": 16
        }
      ]
    },
    {
      "cell_type": "code",
      "source": [
        "anime_df.isna().sum()"
      ],
      "metadata": {
        "colab": {
          "base_uri": "https://localhost:8080/"
        },
        "id": "3kKavaFjnYze",
        "outputId": "3f447d6c-53b5-4337-8ddb-f7e6fe4a7957"
      },
      "execution_count": 17,
      "outputs": [
        {
          "output_type": "execute_result",
          "data": {
            "text/plain": [
              "anime_id         0\n",
              "title            0\n",
              "type            73\n",
              "score         9893\n",
              "start_date    2774\n",
              "genres           0\n",
              "synopsis      3317\n",
              "dtype: int64"
            ]
          },
          "metadata": {},
          "execution_count": 17
        }
      ]
    },
    {
      "cell_type": "code",
      "source": [
        "anime_df.columns"
      ],
      "metadata": {
        "colab": {
          "base_uri": "https://localhost:8080/"
        },
        "id": "-k8X8W44nowK",
        "outputId": "9cb07a0e-edb9-4fbb-96c7-60f164bdfae1"
      },
      "execution_count": 19,
      "outputs": [
        {
          "output_type": "execute_result",
          "data": {
            "text/plain": [
              "Index(['anime_id', 'title', 'type', 'score', 'start_date', 'genres',\n",
              "       'synopsis'],\n",
              "      dtype='object')"
            ]
          },
          "metadata": {},
          "execution_count": 19
        }
      ]
    },
    {
      "cell_type": "code",
      "source": [
        "anime_df.dropna(subset=[\"synopsis\",\"start_date\",\"type\"] , inplace=True)"
      ],
      "metadata": {
        "id": "As6b1U_KpVqs"
      },
      "execution_count": 26,
      "outputs": []
    },
    {
      "cell_type": "code",
      "source": [
        "anime_df.isna().sum()"
      ],
      "metadata": {
        "colab": {
          "base_uri": "https://localhost:8080/"
        },
        "id": "e1M7nk9ap6Ja",
        "outputId": "243d2005-ec1e-4650-f4ff-7cf5eb896f3f"
      },
      "execution_count": 27,
      "outputs": [
        {
          "output_type": "execute_result",
          "data": {
            "text/plain": [
              "anime_id         0\n",
              "title            0\n",
              "type             0\n",
              "score         5010\n",
              "start_date       0\n",
              "genres           0\n",
              "synopsis         0\n",
              "dtype: int64"
            ]
          },
          "metadata": {},
          "execution_count": 27
        }
      ]
    },
    {
      "cell_type": "code",
      "source": [
        "anime_df[\"score\"].mean()"
      ],
      "metadata": {
        "colab": {
          "base_uri": "https://localhost:8080/"
        },
        "id": "pAPlNKmbqGQv",
        "outputId": "df5a2c1d-7877-43d5-e84c-1f1c7cee33e8"
      },
      "execution_count": 30,
      "outputs": [
        {
          "output_type": "execute_result",
          "data": {
            "text/plain": [
              "6.467405912040375"
            ]
          },
          "metadata": {},
          "execution_count": 30
        }
      ]
    },
    {
      "cell_type": "code",
      "source": [
        "anime_df[\"score\"].fillna(value=anime_df[\"score\"].mean() , inplace = True)"
      ],
      "metadata": {
        "colab": {
          "base_uri": "https://localhost:8080/"
        },
        "id": "JWZifAVJq-tW",
        "outputId": "f239f161-b97a-4a4b-a6f8-cb68fe087e47"
      },
      "execution_count": 31,
      "outputs": [
        {
          "output_type": "stream",
          "name": "stderr",
          "text": [
            "/usr/local/lib/python3.7/dist-packages/pandas/core/generic.py:6392: SettingWithCopyWarning: \n",
            "A value is trying to be set on a copy of a slice from a DataFrame\n",
            "\n",
            "See the caveats in the documentation: https://pandas.pydata.org/pandas-docs/stable/user_guide/indexing.html#returning-a-view-versus-a-copy\n",
            "  return self._update_inplace(result)\n"
          ]
        }
      ]
    },
    {
      "cell_type": "code",
      "source": [
        "anime_df.head(1)"
      ],
      "metadata": {
        "colab": {
          "base_uri": "https://localhost:8080/",
          "height": 125
        },
        "id": "S2HOzh_hropd",
        "outputId": "b13f912b-c7fa-432c-cb9f-7cf2421c4b0a"
      },
      "execution_count": 33,
      "outputs": [
        {
          "output_type": "execute_result",
          "data": {
            "text/plain": [
              "   anime_id                             title type  score  start_date  \\\n",
              "0      5114  Fullmetal Alchemist: Brotherhood   tv   9.13  2009-04-05   \n",
              "\n",
              "                                        genres  \\\n",
              "0  ['Action', 'Adventure', 'Drama', 'Fantasy']   \n",
              "\n",
              "                                            synopsis  \n",
              "0  After a horrific alchemy experiment goes wrong...  "
            ],
            "text/html": [
              "\n",
              "  <div id=\"df-0baebec9-ce91-4435-a305-1c0d0bc3c344\">\n",
              "    <div class=\"colab-df-container\">\n",
              "      <div>\n",
              "<style scoped>\n",
              "    .dataframe tbody tr th:only-of-type {\n",
              "        vertical-align: middle;\n",
              "    }\n",
              "\n",
              "    .dataframe tbody tr th {\n",
              "        vertical-align: top;\n",
              "    }\n",
              "\n",
              "    .dataframe thead th {\n",
              "        text-align: right;\n",
              "    }\n",
              "</style>\n",
              "<table border=\"1\" class=\"dataframe\">\n",
              "  <thead>\n",
              "    <tr style=\"text-align: right;\">\n",
              "      <th></th>\n",
              "      <th>anime_id</th>\n",
              "      <th>title</th>\n",
              "      <th>type</th>\n",
              "      <th>score</th>\n",
              "      <th>start_date</th>\n",
              "      <th>genres</th>\n",
              "      <th>synopsis</th>\n",
              "    </tr>\n",
              "  </thead>\n",
              "  <tbody>\n",
              "    <tr>\n",
              "      <th>0</th>\n",
              "      <td>5114</td>\n",
              "      <td>Fullmetal Alchemist: Brotherhood</td>\n",
              "      <td>tv</td>\n",
              "      <td>9.13</td>\n",
              "      <td>2009-04-05</td>\n",
              "      <td>['Action', 'Adventure', 'Drama', 'Fantasy']</td>\n",
              "      <td>After a horrific alchemy experiment goes wrong...</td>\n",
              "    </tr>\n",
              "  </tbody>\n",
              "</table>\n",
              "</div>\n",
              "      <button class=\"colab-df-convert\" onclick=\"convertToInteractive('df-0baebec9-ce91-4435-a305-1c0d0bc3c344')\"\n",
              "              title=\"Convert this dataframe to an interactive table.\"\n",
              "              style=\"display:none;\">\n",
              "        \n",
              "  <svg xmlns=\"http://www.w3.org/2000/svg\" height=\"24px\"viewBox=\"0 0 24 24\"\n",
              "       width=\"24px\">\n",
              "    <path d=\"M0 0h24v24H0V0z\" fill=\"none\"/>\n",
              "    <path d=\"M18.56 5.44l.94 2.06.94-2.06 2.06-.94-2.06-.94-.94-2.06-.94 2.06-2.06.94zm-11 1L8.5 8.5l.94-2.06 2.06-.94-2.06-.94L8.5 2.5l-.94 2.06-2.06.94zm10 10l.94 2.06.94-2.06 2.06-.94-2.06-.94-.94-2.06-.94 2.06-2.06.94z\"/><path d=\"M17.41 7.96l-1.37-1.37c-.4-.4-.92-.59-1.43-.59-.52 0-1.04.2-1.43.59L10.3 9.45l-7.72 7.72c-.78.78-.78 2.05 0 2.83L4 21.41c.39.39.9.59 1.41.59.51 0 1.02-.2 1.41-.59l7.78-7.78 2.81-2.81c.8-.78.8-2.07 0-2.86zM5.41 20L4 18.59l7.72-7.72 1.47 1.35L5.41 20z\"/>\n",
              "  </svg>\n",
              "      </button>\n",
              "      \n",
              "  <style>\n",
              "    .colab-df-container {\n",
              "      display:flex;\n",
              "      flex-wrap:wrap;\n",
              "      gap: 12px;\n",
              "    }\n",
              "\n",
              "    .colab-df-convert {\n",
              "      background-color: #E8F0FE;\n",
              "      border: none;\n",
              "      border-radius: 50%;\n",
              "      cursor: pointer;\n",
              "      display: none;\n",
              "      fill: #1967D2;\n",
              "      height: 32px;\n",
              "      padding: 0 0 0 0;\n",
              "      width: 32px;\n",
              "    }\n",
              "\n",
              "    .colab-df-convert:hover {\n",
              "      background-color: #E2EBFA;\n",
              "      box-shadow: 0px 1px 2px rgba(60, 64, 67, 0.3), 0px 1px 3px 1px rgba(60, 64, 67, 0.15);\n",
              "      fill: #174EA6;\n",
              "    }\n",
              "\n",
              "    [theme=dark] .colab-df-convert {\n",
              "      background-color: #3B4455;\n",
              "      fill: #D2E3FC;\n",
              "    }\n",
              "\n",
              "    [theme=dark] .colab-df-convert:hover {\n",
              "      background-color: #434B5C;\n",
              "      box-shadow: 0px 1px 3px 1px rgba(0, 0, 0, 0.15);\n",
              "      filter: drop-shadow(0px 1px 2px rgba(0, 0, 0, 0.3));\n",
              "      fill: #FFFFFF;\n",
              "    }\n",
              "  </style>\n",
              "\n",
              "      <script>\n",
              "        const buttonEl =\n",
              "          document.querySelector('#df-0baebec9-ce91-4435-a305-1c0d0bc3c344 button.colab-df-convert');\n",
              "        buttonEl.style.display =\n",
              "          google.colab.kernel.accessAllowed ? 'block' : 'none';\n",
              "\n",
              "        async function convertToInteractive(key) {\n",
              "          const element = document.querySelector('#df-0baebec9-ce91-4435-a305-1c0d0bc3c344');\n",
              "          const dataTable =\n",
              "            await google.colab.kernel.invokeFunction('convertToInteractive',\n",
              "                                                     [key], {});\n",
              "          if (!dataTable) return;\n",
              "\n",
              "          const docLinkHtml = 'Like what you see? Visit the ' +\n",
              "            '<a target=\"_blank\" href=https://colab.research.google.com/notebooks/data_table.ipynb>data table notebook</a>'\n",
              "            + ' to learn more about interactive tables.';\n",
              "          element.innerHTML = '';\n",
              "          dataTable['output_type'] = 'display_data';\n",
              "          await google.colab.output.renderOutput(dataTable, element);\n",
              "          const docLink = document.createElement('div');\n",
              "          docLink.innerHTML = docLinkHtml;\n",
              "          element.appendChild(docLink);\n",
              "        }\n",
              "      </script>\n",
              "    </div>\n",
              "  </div>\n",
              "  "
            ]
          },
          "metadata": {},
          "execution_count": 33
        }
      ]
    },
    {
      "cell_type": "code",
      "source": [
        "anime_df[\"type\"].value_counts()"
      ],
      "metadata": {
        "colab": {
          "base_uri": "https://localhost:8080/"
        },
        "id": "zIxx4Nu3rqtf",
        "outputId": "7f0bbffc-388f-405c-d184-1460e9a03adc"
      },
      "execution_count": 34,
      "outputs": [
        {
          "output_type": "execute_result",
          "data": {
            "text/plain": [
              "tv         5235\n",
              "ova        3662\n",
              "movie      3292\n",
              "special    2366\n",
              "ona        2285\n",
              "music      2040\n",
              "Name: type, dtype: int64"
            ]
          },
          "metadata": {},
          "execution_count": 34
        }
      ]
    },
    {
      "cell_type": "code",
      "source": [
        "anime_df[\"synopsis\"].value_counts()"
      ],
      "metadata": {
        "id": "Vr_5PTGHsAbG"
      },
      "execution_count": null,
      "outputs": []
    },
    {
      "cell_type": "code",
      "source": [
        "anime_df[\"genres\"].value_counts()"
      ],
      "metadata": {
        "colab": {
          "base_uri": "https://localhost:8080/"
        },
        "id": "V_JWEiHysLzU",
        "outputId": "dee8a0e2-ec69-4c83-f944-48e7bea39e93"
      },
      "execution_count": 36,
      "outputs": [
        {
          "output_type": "execute_result",
          "data": {
            "text/plain": [
              "[]                                                              2881\n",
              "['Comedy']                                                      1682\n",
              "['Hentai']                                                      1000\n",
              "['Fantasy']                                                      620\n",
              "['Comedy', 'Slice of Life']                                      574\n",
              "                                                                ... \n",
              "['Action', 'Avant Garde', 'Comedy', 'Ecchi', 'Supernatural']       1\n",
              "['Drama', 'Ecchi', 'Horror', 'Supernatural']                       1\n",
              "['Action', 'Mystery', 'Romance', 'Suspense']                       1\n",
              "['Comedy', 'Drama', 'Ecchi', 'Mystery', 'Sci-Fi']                  1\n",
              "['Avant Garde', 'Mystery']                                         1\n",
              "Name: genres, Length: 910, dtype: int64"
            ]
          },
          "metadata": {},
          "execution_count": 36
        }
      ]
    },
    {
      "cell_type": "code",
      "source": [
        "anime_df.replace(\"[]\" , np.nan , inplace = True)"
      ],
      "metadata": {
        "colab": {
          "base_uri": "https://localhost:8080/"
        },
        "id": "W2oeDkOZsYhX",
        "outputId": "c12be3bc-3a68-4b25-eeec-d184775d422f"
      },
      "execution_count": 51,
      "outputs": [
        {
          "output_type": "stream",
          "name": "stderr",
          "text": [
            "/usr/local/lib/python3.7/dist-packages/pandas/core/frame.py:5244: SettingWithCopyWarning: \n",
            "A value is trying to be set on a copy of a slice from a DataFrame\n",
            "\n",
            "See the caveats in the documentation: https://pandas.pydata.org/pandas-docs/stable/user_guide/indexing.html#returning-a-view-versus-a-copy\n",
            "  method=method,\n"
          ]
        }
      ]
    },
    {
      "cell_type": "code",
      "source": [
        "anime_df.dropna(subset =[\"genres\"] , inplace = True )"
      ],
      "metadata": {
        "colab": {
          "base_uri": "https://localhost:8080/"
        },
        "id": "Yk_fQ4L6xTCC",
        "outputId": "d46e3fe5-6bce-4e97-e7cb-f5a0c59c0544"
      },
      "execution_count": 52,
      "outputs": [
        {
          "output_type": "stream",
          "name": "stderr",
          "text": [
            "/usr/local/lib/python3.7/dist-packages/pandas/util/_decorators.py:311: SettingWithCopyWarning: \n",
            "A value is trying to be set on a copy of a slice from a DataFrame\n",
            "\n",
            "See the caveats in the documentation: https://pandas.pydata.org/pandas-docs/stable/user_guide/indexing.html#returning-a-view-versus-a-copy\n",
            "  return func(*args, **kwargs)\n"
          ]
        }
      ]
    },
    {
      "cell_type": "code",
      "source": [
        "anime_df[\"genres\"].value_counts()"
      ],
      "metadata": {
        "colab": {
          "base_uri": "https://localhost:8080/"
        },
        "id": "LH0jUPab0ntt",
        "outputId": "31bbc94d-281f-4d0c-800f-f07d2d731c33"
      },
      "execution_count": 53,
      "outputs": [
        {
          "output_type": "execute_result",
          "data": {
            "text/plain": [
              "['Comedy']                                                      1682\n",
              "['Hentai']                                                      1000\n",
              "['Fantasy']                                                      620\n",
              "['Comedy', 'Slice of Life']                                      574\n",
              "['Drama']                                                        480\n",
              "                                                                ... \n",
              "['Action', 'Avant Garde', 'Comedy', 'Ecchi', 'Supernatural']       1\n",
              "['Drama', 'Ecchi', 'Horror', 'Supernatural']                       1\n",
              "['Action', 'Mystery', 'Romance', 'Suspense']                       1\n",
              "['Comedy', 'Drama', 'Ecchi', 'Mystery', 'Sci-Fi']                  1\n",
              "['Avant Garde', 'Mystery']                                         1\n",
              "Name: genres, Length: 909, dtype: int64"
            ]
          },
          "metadata": {},
          "execution_count": 53
        }
      ]
    },
    {
      "cell_type": "code",
      "source": [
        "anime_df.shape"
      ],
      "metadata": {
        "colab": {
          "base_uri": "https://localhost:8080/"
        },
        "id": "S6V2x_ZZ3f3h",
        "outputId": "f045d7a1-00b3-426a-9c9b-3752e2300c3f"
      },
      "execution_count": 54,
      "outputs": [
        {
          "output_type": "execute_result",
          "data": {
            "text/plain": [
              "(15999, 7)"
            ]
          },
          "metadata": {},
          "execution_count": 54
        }
      ]
    },
    {
      "cell_type": "code",
      "source": [],
      "metadata": {
        "id": "ybwuACxH5tg1"
      },
      "execution_count": null,
      "outputs": []
    }
  ]
}